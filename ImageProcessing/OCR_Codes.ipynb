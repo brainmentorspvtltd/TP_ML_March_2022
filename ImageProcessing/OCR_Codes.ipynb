{
 "cells": [
  {
   "cell_type": "code",
   "execution_count": 2,
   "id": "2f0b19fa",
   "metadata": {},
   "outputs": [],
   "source": [
    "# !pip install pytesseract"
   ]
  },
  {
   "cell_type": "code",
   "execution_count": 44,
   "id": "cd257e3c",
   "metadata": {},
   "outputs": [
    {
     "name": "stdout",
     "output_type": "stream",
     "text": [
      "Collecting langdetect\n",
      "  Downloading langdetect-1.0.9.tar.gz (981 kB)\n",
      "Requirement already satisfied: six in c:\\users\\asus\\anaconda3\\lib\\site-packages (from langdetect) (1.16.0)\n",
      "Building wheels for collected packages: langdetect\n",
      "  Building wheel for langdetect (setup.py): started\n",
      "  Building wheel for langdetect (setup.py): finished with status 'done'\n",
      "  Created wheel for langdetect: filename=langdetect-1.0.9-py3-none-any.whl size=993242 sha256=c4eec0a3dc4e628b64f08cba48550ae8641d04112d311468719c4dc869fc45ae\n",
      "  Stored in directory: c:\\users\\asus\\appdata\\local\\pip\\cache\\wheels\\d1\\c1\\d9\\7e068de779d863bc8f8fc9467d85e25cfe47fa5051fff1a1bb\n",
      "Successfully built langdetect\n",
      "Installing collected packages: langdetect\n",
      "Successfully installed langdetect-1.0.9\n"
     ]
    }
   ],
   "source": [
    "!pip install langdetect"
   ]
  },
  {
   "cell_type": "code",
   "execution_count": 5,
   "id": "661636b8",
   "metadata": {},
   "outputs": [],
   "source": [
    "import pytesseract\n",
    "import cv2\n",
    "from PIL import Image"
   ]
  },
  {
   "cell_type": "code",
   "execution_count": 4,
   "id": "3e91ea7e",
   "metadata": {},
   "outputs": [],
   "source": [
    "pytesseract.pytesseract.tesseract_cmd = r\"C:\\Program Files\\Tesseract-OCR\\tesseract.exe\""
   ]
  },
  {
   "cell_type": "code",
   "execution_count": 7,
   "id": "d369f68a",
   "metadata": {},
   "outputs": [],
   "source": [
    "# print(pytesseract.image_to_string(Image.open(\"adhar.jpg\")))"
   ]
  },
  {
   "cell_type": "code",
   "execution_count": 8,
   "id": "e3faded0",
   "metadata": {},
   "outputs": [],
   "source": [
    "test_img = cv2.imread('test_1.jpg')"
   ]
  },
  {
   "cell_type": "code",
   "execution_count": 9,
   "id": "da39bfcf",
   "metadata": {},
   "outputs": [
    {
     "data": {
      "text/plain": [
       "(606, 332, 3)"
      ]
     },
     "execution_count": 9,
     "metadata": {},
     "output_type": "execute_result"
    }
   ],
   "source": [
    "test_img.shape"
   ]
  },
  {
   "cell_type": "code",
   "execution_count": 10,
   "id": "b9b937f8",
   "metadata": {},
   "outputs": [],
   "source": [
    "h, w = test_img.shape[:2]"
   ]
  },
  {
   "cell_type": "code",
   "execution_count": 11,
   "id": "259380b1",
   "metadata": {},
   "outputs": [],
   "source": [
    "center = (w/2, h/2)\n",
    "angle = 90\n",
    "scale = 1"
   ]
  },
  {
   "cell_type": "code",
   "execution_count": 12,
   "id": "9529ffab",
   "metadata": {},
   "outputs": [],
   "source": [
    "rot = cv2.getRotationMatrix2D(center, angle, scale)\n",
    "rotated = cv2.warpAffine(test_img, rot, (w,h))"
   ]
  },
  {
   "cell_type": "code",
   "execution_count": 13,
   "id": "19c234f4",
   "metadata": {},
   "outputs": [],
   "source": [
    "cv2.imshow('orig image', test_img)\n",
    "cv2.imshow('rotated image', rotated)\n",
    "cv2.waitKey(0)\n",
    "cv2.destroyAllWindows()"
   ]
  },
  {
   "cell_type": "code",
   "execution_count": 14,
   "id": "061f1512",
   "metadata": {},
   "outputs": [],
   "source": [
    "rot_img = cv2.rotate(test_img, cv2.cv2.ROTATE_90_CLOCKWISE)"
   ]
  },
  {
   "cell_type": "code",
   "execution_count": 15,
   "id": "ff9b231c",
   "metadata": {},
   "outputs": [],
   "source": [
    "cv2.imshow('orig image', test_img)\n",
    "cv2.imshow('rotated image', rot_img)\n",
    "cv2.waitKey(0)\n",
    "cv2.destroyAllWindows()"
   ]
  },
  {
   "cell_type": "code",
   "execution_count": 16,
   "id": "1dce450a",
   "metadata": {},
   "outputs": [
    {
     "name": "stdout",
     "output_type": "stream",
     "text": [
      "-PAWAN KANSAL\n",
      "\n",
      "/ RAMESHWAR DASS KANSA\\\n",
      "1210411966\n",
      "Pepianont Account\n",
      "\n",
      "AHEPKO574c\n",
      "\n",
      "Le\n",
      "\n"
     ]
    }
   ],
   "source": [
    "print(pytesseract.image_to_string(rot_img))"
   ]
  },
  {
   "cell_type": "code",
   "execution_count": 17,
   "id": "10e8d7d2",
   "metadata": {},
   "outputs": [],
   "source": [
    "import numpy as np\n",
    "\n",
    "def threshold(img):\n",
    "    return cv2.threshold(img, 0, 255, cv2.THRESH_BINARY, cv2.THRESH_OTSU)[1]\n",
    "\n",
    "def removeNoise(img):\n",
    "    return cv2.medianBlur(img, 5)\n",
    "\n",
    "def dilate(img):\n",
    "    kernel = np.ones((5,5), np.uint8)\n",
    "    return cv2.dilate(img, kernel, iterations=1)\n",
    "\n",
    "def grayScale(img):\n",
    "    return cv2.cvtColor(img, cv2.COLOR_BGR2GRAY)\n",
    "\n",
    "def canny(img):\n",
    "    return cv2.Canny(img, 100, 200)\n",
    "\n",
    "def erosion(img):\n",
    "    kernel = np.ones((5,5), np.uint8)\n",
    "    return cv2.erode(img, kernel, iterations=1)\n",
    "\n",
    "def opening(img):\n",
    "    kernel = np.ones((5,5), np.uint8)\n",
    "    return cv2.morphologyEx(img, cv2.MORPH_OPEN, kernel)"
   ]
  },
  {
   "cell_type": "code",
   "execution_count": 18,
   "id": "dd04628f",
   "metadata": {},
   "outputs": [],
   "source": [
    "gray = grayScale(rot_img)\n",
    "thresh = threshold(gray)\n",
    "opening_img = opening(gray)\n",
    "canny_img = canny(gray)"
   ]
  },
  {
   "cell_type": "code",
   "execution_count": 20,
   "id": "64c8d5ae",
   "metadata": {},
   "outputs": [],
   "source": [
    "cv2.imshow('orig image', test_img)\n",
    "cv2.imshow('gray image', gray)\n",
    "cv2.imshow('thresh image', thresh)\n",
    "cv2.imshow('opening', opening_img)\n",
    "cv2.imshow('canny image', canny_img)\n",
    "cv2.waitKey(0)\n",
    "cv2.destroyAllWindows()"
   ]
  },
  {
   "cell_type": "code",
   "execution_count": 21,
   "id": "fd44dae3",
   "metadata": {},
   "outputs": [
    {
     "name": "stdout",
     "output_type": "stream",
     "text": [
      "Avan KANSAL\n",
      "- RAMESHWAR DASS KaNSA\n",
      "\n",
      "oT 2104/1966\n",
      "\n",
      "\n"
     ]
    }
   ],
   "source": [
    "print(pytesseract.image_to_string(gray))"
   ]
  },
  {
   "cell_type": "code",
   "execution_count": 22,
   "id": "fc80e8d5",
   "metadata": {},
   "outputs": [
    {
     "name": "stdout",
     "output_type": "stream",
     "text": [
      "\n"
     ]
    }
   ],
   "source": [
    "print(pytesseract.image_to_string(thresh))"
   ]
  },
  {
   "cell_type": "code",
   "execution_count": 23,
   "id": "4a0b0afa",
   "metadata": {},
   "outputs": [
    {
     "name": "stdout",
     "output_type": "stream",
     "text": [
      "\n"
     ]
    }
   ],
   "source": [
    "print(pytesseract.image_to_string(opening_img))"
   ]
  },
  {
   "cell_type": "code",
   "execution_count": 24,
   "id": "a7575b2b",
   "metadata": {},
   "outputs": [
    {
     "name": "stdout",
     "output_type": "stream",
     "text": [
      "notes Gao ae Troe\n",
      "= bier GEAR SOvm ar DLA\n",
      "\n",
      "4\n",
      "* Paieasi Tenaga\n",
      "+ RABESHWAR D sAapones,\n",
      "\n",
      "(nate J\n",
      "si mad,\n",
      "\n",
      "i TAseounq a ae\n",
      "MAREE Kos7ac\n",
      "\n",
      "~\n",
      "\n",
      "\n"
     ]
    }
   ],
   "source": [
    "print(pytesseract.image_to_string(canny_img))"
   ]
  },
  {
   "cell_type": "code",
   "execution_count": 50,
   "id": "f1c51682",
   "metadata": {},
   "outputs": [],
   "source": [
    "# to detect orientation\n",
    "\n",
    "# import re\n",
    "\n",
    "# adhar_img = cv2.imread('text_img.jpg')\n",
    "# osd = pytesseract.image_to_osd(adhar_img)\n",
    "# angle = re.search('(?<=Rotate: )\\d+', osd).group(0)\n",
    "# print(angle)"
   ]
  },
  {
   "cell_type": "code",
   "execution_count": 52,
   "id": "d027af4f",
   "metadata": {},
   "outputs": [
    {
     "name": "stdout",
     "output_type": "stream",
     "text": [
      "-\n",
      "22060379\n",
      "4\n",
      "\n",
      "-66\n",
      "\n",
      "7 .\n",
      ". .\n",
      ".- 880372016 077032024\n",
      "-2860379066041232403074665\n",
      "\n"
     ]
    }
   ],
   "source": [
    "# to detect digits only\n",
    "test_img_2 = cv2.imread('test_img7.JPG')\n",
    "custom_config = r'--oem 3 --psm 6 outputbase digits'\n",
    "print(pytesseract.image_to_string(test_img_2, config=custom_config))"
   ]
  },
  {
   "cell_type": "code",
   "execution_count": 48,
   "id": "75c29131",
   "metadata": {},
   "outputs": [
    {
     "name": "stdout",
     "output_type": "stream",
     "text": [
      "| Kasif\n",
      "\"ser fafa/ 0B : 01/01/2001\n",
      "Gea / Male\n",
      "\n",
      "3140 3351 7159\n",
      "AR Ze, AMT Tedlet\n",
      "\n",
      "\n"
     ]
    }
   ],
   "source": [
    "print(pytesseract.image_to_string(Image.open(\"adhar.jpg\")))"
   ]
  },
  {
   "cell_type": "code",
   "execution_count": 43,
   "id": "11b950ea",
   "metadata": {},
   "outputs": [
    {
     "name": "stdout",
     "output_type": "stream",
     "text": [
      ": bind आरत सरकार` म 7‘1\n",
      "| .# | कासिफ\n",
      ", | | Kasif\n",
      "क) । | जन्म तिथि।008+0101/200। saan\n",
      "| ET Male ee\n",
      "ae बि , र म\n",
      "क्व | 10 सी\n",
      "IMTS\n",
      "3140 3351 7159\n",
      "re Err reese\n",
      "मेरा आधार, AY पहचान\n",
      "i SSS oe :\n",
      "eee OSS 243\n",
      "\n"
     ]
    }
   ],
   "source": [
    "# custom_config = r'-l eng+hin --psm 6'\n",
    "# print(pytesseract.image_to_string(Image.open(\"adhar.jpg\"), config=custom_config))"
   ]
  },
  {
   "cell_type": "code",
   "execution_count": 76,
   "id": "7af11255",
   "metadata": {},
   "outputs": [],
   "source": [
    "gray = grayScale(rot_img)\n",
    "thresh = threshold(gray)\n",
    "opening_img = opening(gray)\n",
    "canny_img = canny(gray)\n",
    "\n",
    "img_blur = cv2.GaussianBlur(gray, (3,3), 0)\n",
    "edge_img_1 = cv2.Sobel(img_blur, ddepth=cv2.CV_64F, dx=0, dy=1, ksize=5)\n",
    "edge_img_2 = cv2.Sobel(img_blur, ddepth=cv2.CV_64F, dx=1, dy=0, ksize=5)\n",
    "edge_img_3 = cv2.Sobel(img_blur, ddepth=cv2.CV_64F, dx=1, dy=1, ksize=5)\n",
    "\n",
    "canny_img = cv2.Canny(img_blur, threshold1=100, threshold2=200)\n",
    "\n",
    "# print(pytesseract.image_to_string(edge_img))\n",
    "\n",
    "# custom_config = r'-c tessedit_char_whitelist=abcdefghijklmnopqrstuvwxyzABCDEFGHIJKLMNOPQRSTUVWXYZ --psm 6'\n",
    "# print(pytesseract.image_to_string(edge_img, config=custom_config))"
   ]
  },
  {
   "cell_type": "code",
   "execution_count": 83,
   "id": "03d3879e",
   "metadata": {},
   "outputs": [],
   "source": [
    "cv2.imshow('orig image', test_img)\n",
    "cv2.imshow('gray image', gray)\n",
    "# cv2.imshow('blur image', img_blur)\n",
    "# cv2.imshow('soble edge image_1', edge_img_1)\n",
    "# cv2.imshow('soble edge image_2', edge_img_2)\n",
    "# cv2.imshow('soble edge image_3', edge_img_3)\n",
    "cv2.imshow('canny image', canny_img)\n",
    "cv2.waitKey(0)\n",
    "cv2.destroyAllWindows()"
   ]
  },
  {
   "cell_type": "code",
   "execution_count": 78,
   "id": "69218327",
   "metadata": {},
   "outputs": [
    {
     "name": "stdout",
     "output_type": "stream",
     "text": [
      "Sieeeyfmysy sFIRSUeee\n",
      "TNCOMETax DEPARTWERT Govr OFINDIA\n",
      "PAWAN RANSAL a\n",
      "RAMESHNARDASSRANSAL Fe a\n",
      "aloansee oSapeaee\n",
      "PomaxentAcceunt Alsat\n",
      "AMEPKOSEC\n",
      "se\n",
      "Wg\n",
      "\n"
     ]
    }
   ],
   "source": [
    "custom_config = r'-c tessedit_char_whitelist=abcdefghijklmnopqrstuvwxyzABCDEFGHIJKLMNOPQRSTUVWXYZ --psm 6'\n",
    "print(pytesseract.image_to_string(canny_img, config=custom_config))"
   ]
  },
  {
   "cell_type": "code",
   "execution_count": 82,
   "id": "f2ae8697",
   "metadata": {},
   "outputs": [
    {
     "name": "stdout",
     "output_type": "stream",
     "text": [
      "Steer fears र्धी WIRE Uae\n",
      "INCOME Tax DEPART WERT 8 OF INDIA\n",
      "2S)\n",
      "PAWAN KANGAL os\n",
      "RAMESHNAR DASE RANSAL, i डट\n",
      "1206868 o Cla eee\n",
      "Pomax-ent Acceunt Alsat a’\n",
      "AMEPKOS?6C वि\n",
      "De\n",
      "\n"
     ]
    }
   ],
   "source": [
    "custom_config = r'-l eng+hin --psm 6'\n",
    "print(pytesseract.image_to_string(canny_img, config=custom_config))"
   ]
  },
  {
   "cell_type": "code",
   "execution_count": null,
   "id": "f48a29f8",
   "metadata": {},
   "outputs": [],
   "source": []
  },
  {
   "cell_type": "code",
   "execution_count": 45,
   "id": "5889c413",
   "metadata": {},
   "outputs": [],
   "source": [
    "from langdetect import detect_langs"
   ]
  },
  {
   "cell_type": "code",
   "execution_count": 46,
   "id": "ab9891ab",
   "metadata": {},
   "outputs": [],
   "source": [
    "txt = pytesseract.image_to_string(Image.open(\"adhar.jpg\"), config=custom_config)"
   ]
  },
  {
   "cell_type": "code",
   "execution_count": 47,
   "id": "e375793c",
   "metadata": {},
   "outputs": [
    {
     "data": {
      "text/plain": [
       "[hi:0.7142813347628202, af:0.2857128473021182]"
      ]
     },
     "execution_count": 47,
     "metadata": {},
     "output_type": "execute_result"
    }
   ],
   "source": [
    "detect_langs(txt)"
   ]
  },
  {
   "cell_type": "code",
   "execution_count": null,
   "id": "4d0897c5",
   "metadata": {},
   "outputs": [],
   "source": []
  }
 ],
 "metadata": {
  "kernelspec": {
   "display_name": "Python 3 (ipykernel)",
   "language": "python",
   "name": "python3"
  },
  "language_info": {
   "codemirror_mode": {
    "name": "ipython",
    "version": 3
   },
   "file_extension": ".py",
   "mimetype": "text/x-python",
   "name": "python",
   "nbconvert_exporter": "python",
   "pygments_lexer": "ipython3",
   "version": "3.9.7"
  }
 },
 "nbformat": 4,
 "nbformat_minor": 5
}
