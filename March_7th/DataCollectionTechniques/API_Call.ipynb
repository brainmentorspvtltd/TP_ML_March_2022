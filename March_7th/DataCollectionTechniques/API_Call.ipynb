{
 "cells": [
  {
   "cell_type": "code",
   "execution_count": 1,
   "id": "0eb4c61b-2115-4eaa-a409-20cfe84dc575",
   "metadata": {},
   "outputs": [],
   "source": [
    "import urllib.request as url\n",
    "import json\n",
    "import pandas as pd"
   ]
  },
  {
   "cell_type": "code",
   "execution_count": 2,
   "id": "2cd6294f-7c60-49b8-ae95-9bf2410888cf",
   "metadata": {},
   "outputs": [],
   "source": [
    "path = \"https://data.covid19india.org/states_daily.json\"\n",
    "response = url.urlopen(path)"
   ]
  },
  {
   "cell_type": "code",
   "execution_count": 3,
   "id": "cc1240a9-6361-4b3d-98c4-d179b22aa7da",
   "metadata": {},
   "outputs": [],
   "source": [
    "data = json.load(response)"
   ]
  },
  {
   "cell_type": "code",
   "execution_count": 5,
   "id": "e18eccdf-c080-4520-bb5e-6eede55c739e",
   "metadata": {},
   "outputs": [],
   "source": [
    "states = data['states_daily']"
   ]
  },
  {
   "cell_type": "code",
   "execution_count": 7,
   "id": "1014dc5b-58ff-4cb8-9e44-a24cab66f809",
   "metadata": {},
   "outputs": [],
   "source": [
    "df = pd.DataFrame(states)"
   ]
  },
  {
   "cell_type": "code",
   "execution_count": 8,
   "id": "e2a4ebaa-98ea-49a3-918a-5d4d3ff67de2",
   "metadata": {},
   "outputs": [
    {
     "data": {
      "text/plain": [
       "(1563, 42)"
      ]
     },
     "execution_count": 8,
     "metadata": {},
     "output_type": "execute_result"
    }
   ],
   "source": [
    "df.shape"
   ]
  },
  {
   "cell_type": "code",
   "execution_count": 9,
   "id": "0024bc0d-db75-4cfa-9522-2aec0b60884f",
   "metadata": {},
   "outputs": [
    {
     "data": {
      "text/html": [
       "<div>\n",
       "<style scoped>\n",
       "    .dataframe tbody tr th:only-of-type {\n",
       "        vertical-align: middle;\n",
       "    }\n",
       "\n",
       "    .dataframe tbody tr th {\n",
       "        vertical-align: top;\n",
       "    }\n",
       "\n",
       "    .dataframe thead th {\n",
       "        text-align: right;\n",
       "    }\n",
       "</style>\n",
       "<table border=\"1\" class=\"dataframe\">\n",
       "  <thead>\n",
       "    <tr style=\"text-align: right;\">\n",
       "      <th></th>\n",
       "      <th>an</th>\n",
       "      <th>ap</th>\n",
       "      <th>ar</th>\n",
       "      <th>as</th>\n",
       "      <th>br</th>\n",
       "      <th>ch</th>\n",
       "      <th>ct</th>\n",
       "      <th>date</th>\n",
       "      <th>dateymd</th>\n",
       "      <th>dd</th>\n",
       "      <th>...</th>\n",
       "      <th>sk</th>\n",
       "      <th>status</th>\n",
       "      <th>tg</th>\n",
       "      <th>tn</th>\n",
       "      <th>tr</th>\n",
       "      <th>tt</th>\n",
       "      <th>un</th>\n",
       "      <th>up</th>\n",
       "      <th>ut</th>\n",
       "      <th>wb</th>\n",
       "    </tr>\n",
       "  </thead>\n",
       "  <tbody>\n",
       "    <tr>\n",
       "      <th>0</th>\n",
       "      <td>0</td>\n",
       "      <td>1</td>\n",
       "      <td>0</td>\n",
       "      <td>0</td>\n",
       "      <td>0</td>\n",
       "      <td>0</td>\n",
       "      <td>0</td>\n",
       "      <td>14-Mar-20</td>\n",
       "      <td>2020-03-14</td>\n",
       "      <td>0</td>\n",
       "      <td>...</td>\n",
       "      <td>0</td>\n",
       "      <td>Confirmed</td>\n",
       "      <td>1</td>\n",
       "      <td>1</td>\n",
       "      <td>0</td>\n",
       "      <td>81</td>\n",
       "      <td>0</td>\n",
       "      <td>12</td>\n",
       "      <td>0</td>\n",
       "      <td>0</td>\n",
       "    </tr>\n",
       "    <tr>\n",
       "      <th>1</th>\n",
       "      <td>0</td>\n",
       "      <td>0</td>\n",
       "      <td>0</td>\n",
       "      <td>0</td>\n",
       "      <td>0</td>\n",
       "      <td>0</td>\n",
       "      <td>0</td>\n",
       "      <td>14-Mar-20</td>\n",
       "      <td>2020-03-14</td>\n",
       "      <td>0</td>\n",
       "      <td>...</td>\n",
       "      <td>0</td>\n",
       "      <td>Recovered</td>\n",
       "      <td>0</td>\n",
       "      <td>0</td>\n",
       "      <td>0</td>\n",
       "      <td>9</td>\n",
       "      <td>0</td>\n",
       "      <td>4</td>\n",
       "      <td>0</td>\n",
       "      <td>0</td>\n",
       "    </tr>\n",
       "    <tr>\n",
       "      <th>2</th>\n",
       "      <td>0</td>\n",
       "      <td>0</td>\n",
       "      <td>0</td>\n",
       "      <td>0</td>\n",
       "      <td>0</td>\n",
       "      <td>0</td>\n",
       "      <td>0</td>\n",
       "      <td>14-Mar-20</td>\n",
       "      <td>2020-03-14</td>\n",
       "      <td>0</td>\n",
       "      <td>...</td>\n",
       "      <td>0</td>\n",
       "      <td>Deceased</td>\n",
       "      <td>0</td>\n",
       "      <td>0</td>\n",
       "      <td>0</td>\n",
       "      <td>2</td>\n",
       "      <td>0</td>\n",
       "      <td>0</td>\n",
       "      <td>0</td>\n",
       "      <td>0</td>\n",
       "    </tr>\n",
       "    <tr>\n",
       "      <th>3</th>\n",
       "      <td>0</td>\n",
       "      <td>0</td>\n",
       "      <td>0</td>\n",
       "      <td>0</td>\n",
       "      <td>0</td>\n",
       "      <td>0</td>\n",
       "      <td>0</td>\n",
       "      <td>15-Mar-20</td>\n",
       "      <td>2020-03-15</td>\n",
       "      <td>0</td>\n",
       "      <td>...</td>\n",
       "      <td>0</td>\n",
       "      <td>Confirmed</td>\n",
       "      <td>2</td>\n",
       "      <td>0</td>\n",
       "      <td>0</td>\n",
       "      <td>27</td>\n",
       "      <td>0</td>\n",
       "      <td>1</td>\n",
       "      <td>0</td>\n",
       "      <td>0</td>\n",
       "    </tr>\n",
       "    <tr>\n",
       "      <th>4</th>\n",
       "      <td>0</td>\n",
       "      <td>0</td>\n",
       "      <td>0</td>\n",
       "      <td>0</td>\n",
       "      <td>0</td>\n",
       "      <td>0</td>\n",
       "      <td>0</td>\n",
       "      <td>15-Mar-20</td>\n",
       "      <td>2020-03-15</td>\n",
       "      <td>0</td>\n",
       "      <td>...</td>\n",
       "      <td>0</td>\n",
       "      <td>Recovered</td>\n",
       "      <td>1</td>\n",
       "      <td>0</td>\n",
       "      <td>0</td>\n",
       "      <td>4</td>\n",
       "      <td>0</td>\n",
       "      <td>0</td>\n",
       "      <td>0</td>\n",
       "      <td>0</td>\n",
       "    </tr>\n",
       "  </tbody>\n",
       "</table>\n",
       "<p>5 rows × 42 columns</p>\n",
       "</div>"
      ],
      "text/plain": [
       "  an ap ar as br ch ct       date     dateymd dd  ... sk     status tg tn tr  \\\n",
       "0  0  1  0  0  0  0  0  14-Mar-20  2020-03-14  0  ...  0  Confirmed  1  1  0   \n",
       "1  0  0  0  0  0  0  0  14-Mar-20  2020-03-14  0  ...  0  Recovered  0  0  0   \n",
       "2  0  0  0  0  0  0  0  14-Mar-20  2020-03-14  0  ...  0   Deceased  0  0  0   \n",
       "3  0  0  0  0  0  0  0  15-Mar-20  2020-03-15  0  ...  0  Confirmed  2  0  0   \n",
       "4  0  0  0  0  0  0  0  15-Mar-20  2020-03-15  0  ...  0  Recovered  1  0  0   \n",
       "\n",
       "   tt un  up ut wb  \n",
       "0  81  0  12  0  0  \n",
       "1   9  0   4  0  0  \n",
       "2   2  0   0  0  0  \n",
       "3  27  0   1  0  0  \n",
       "4   4  0   0  0  0  \n",
       "\n",
       "[5 rows x 42 columns]"
      ]
     },
     "execution_count": 9,
     "metadata": {},
     "output_type": "execute_result"
    }
   ],
   "source": [
    "# will show first 5 observations\n",
    "df.head()"
   ]
  },
  {
   "cell_type": "code",
   "execution_count": 10,
   "id": "8e9483a1-7d26-47da-8e32-9ce9bd4bd685",
   "metadata": {},
   "outputs": [
    {
     "data": {
      "text/html": [
       "<div>\n",
       "<style scoped>\n",
       "    .dataframe tbody tr th:only-of-type {\n",
       "        vertical-align: middle;\n",
       "    }\n",
       "\n",
       "    .dataframe tbody tr th {\n",
       "        vertical-align: top;\n",
       "    }\n",
       "\n",
       "    .dataframe thead th {\n",
       "        text-align: right;\n",
       "    }\n",
       "</style>\n",
       "<table border=\"1\" class=\"dataframe\">\n",
       "  <thead>\n",
       "    <tr style=\"text-align: right;\">\n",
       "      <th></th>\n",
       "      <th>an</th>\n",
       "      <th>ap</th>\n",
       "      <th>ar</th>\n",
       "      <th>as</th>\n",
       "      <th>br</th>\n",
       "      <th>ch</th>\n",
       "      <th>ct</th>\n",
       "      <th>date</th>\n",
       "      <th>dateymd</th>\n",
       "      <th>dd</th>\n",
       "      <th>...</th>\n",
       "      <th>sk</th>\n",
       "      <th>status</th>\n",
       "      <th>tg</th>\n",
       "      <th>tn</th>\n",
       "      <th>tr</th>\n",
       "      <th>tt</th>\n",
       "      <th>un</th>\n",
       "      <th>up</th>\n",
       "      <th>ut</th>\n",
       "      <th>wb</th>\n",
       "    </tr>\n",
       "  </thead>\n",
       "  <tbody>\n",
       "    <tr>\n",
       "      <th>1558</th>\n",
       "      <td>2</td>\n",
       "      <td>1835</td>\n",
       "      <td>255</td>\n",
       "      <td>857</td>\n",
       "      <td>38</td>\n",
       "      <td>1</td>\n",
       "      <td>114</td>\n",
       "      <td>15-Aug-21</td>\n",
       "      <td>2021-08-15</td>\n",
       "      <td>0</td>\n",
       "      <td>...</td>\n",
       "      <td>213</td>\n",
       "      <td>Recovered</td>\n",
       "      <td>582</td>\n",
       "      <td>1842</td>\n",
       "      <td>253</td>\n",
       "      <td>35936</td>\n",
       "      <td>0</td>\n",
       "      <td>36</td>\n",
       "      <td>31</td>\n",
       "      <td>709</td>\n",
       "    </tr>\n",
       "    <tr>\n",
       "      <th>1559</th>\n",
       "      <td>0</td>\n",
       "      <td>16</td>\n",
       "      <td>0</td>\n",
       "      <td>10</td>\n",
       "      <td>0</td>\n",
       "      <td>0</td>\n",
       "      <td>1</td>\n",
       "      <td>15-Aug-21</td>\n",
       "      <td>2021-08-15</td>\n",
       "      <td>0</td>\n",
       "      <td>...</td>\n",
       "      <td>0</td>\n",
       "      <td>Deceased</td>\n",
       "      <td>1</td>\n",
       "      <td>23</td>\n",
       "      <td>4</td>\n",
       "      <td>421</td>\n",
       "      <td>0</td>\n",
       "      <td>1</td>\n",
       "      <td>0</td>\n",
       "      <td>12</td>\n",
       "    </tr>\n",
       "    <tr>\n",
       "      <th>1560</th>\n",
       "      <td>1</td>\n",
       "      <td>909</td>\n",
       "      <td>165</td>\n",
       "      <td>758</td>\n",
       "      <td>14</td>\n",
       "      <td>2</td>\n",
       "      <td>68</td>\n",
       "      <td>16-Aug-21</td>\n",
       "      <td>2021-08-16</td>\n",
       "      <td>0</td>\n",
       "      <td>...</td>\n",
       "      <td>20</td>\n",
       "      <td>Confirmed</td>\n",
       "      <td>405</td>\n",
       "      <td>1851</td>\n",
       "      <td>52</td>\n",
       "      <td>24696</td>\n",
       "      <td>0</td>\n",
       "      <td>17</td>\n",
       "      <td>18</td>\n",
       "      <td>502</td>\n",
       "    </tr>\n",
       "    <tr>\n",
       "      <th>1561</th>\n",
       "      <td>0</td>\n",
       "      <td>1543</td>\n",
       "      <td>249</td>\n",
       "      <td>1014</td>\n",
       "      <td>42</td>\n",
       "      <td>3</td>\n",
       "      <td>224</td>\n",
       "      <td>16-Aug-21</td>\n",
       "      <td>2021-08-16</td>\n",
       "      <td>0</td>\n",
       "      <td>...</td>\n",
       "      <td>147</td>\n",
       "      <td>Recovered</td>\n",
       "      <td>577</td>\n",
       "      <td>1911</td>\n",
       "      <td>223</td>\n",
       "      <td>36871</td>\n",
       "      <td>0</td>\n",
       "      <td>36</td>\n",
       "      <td>54</td>\n",
       "      <td>691</td>\n",
       "    </tr>\n",
       "    <tr>\n",
       "      <th>1562</th>\n",
       "      <td>0</td>\n",
       "      <td>13</td>\n",
       "      <td>0</td>\n",
       "      <td>10</td>\n",
       "      <td>0</td>\n",
       "      <td>0</td>\n",
       "      <td>1</td>\n",
       "      <td>16-Aug-21</td>\n",
       "      <td>2021-08-16</td>\n",
       "      <td>0</td>\n",
       "      <td>...</td>\n",
       "      <td>0</td>\n",
       "      <td>Deceased</td>\n",
       "      <td>3</td>\n",
       "      <td>28</td>\n",
       "      <td>1</td>\n",
       "      <td>438</td>\n",
       "      <td>0</td>\n",
       "      <td>1</td>\n",
       "      <td>1</td>\n",
       "      <td>9</td>\n",
       "    </tr>\n",
       "  </tbody>\n",
       "</table>\n",
       "<p>5 rows × 42 columns</p>\n",
       "</div>"
      ],
      "text/plain": [
       "     an    ap   ar    as  br ch   ct       date     dateymd dd  ...   sk  \\\n",
       "1558  2  1835  255   857  38  1  114  15-Aug-21  2021-08-15  0  ...  213   \n",
       "1559  0    16    0    10   0  0    1  15-Aug-21  2021-08-15  0  ...    0   \n",
       "1560  1   909  165   758  14  2   68  16-Aug-21  2021-08-16  0  ...   20   \n",
       "1561  0  1543  249  1014  42  3  224  16-Aug-21  2021-08-16  0  ...  147   \n",
       "1562  0    13    0    10   0  0    1  16-Aug-21  2021-08-16  0  ...    0   \n",
       "\n",
       "         status   tg    tn   tr     tt un  up  ut   wb  \n",
       "1558  Recovered  582  1842  253  35936  0  36  31  709  \n",
       "1559   Deceased    1    23    4    421  0   1   0   12  \n",
       "1560  Confirmed  405  1851   52  24696  0  17  18  502  \n",
       "1561  Recovered  577  1911  223  36871  0  36  54  691  \n",
       "1562   Deceased    3    28    1    438  0   1   1    9  \n",
       "\n",
       "[5 rows x 42 columns]"
      ]
     },
     "execution_count": 10,
     "metadata": {},
     "output_type": "execute_result"
    }
   ],
   "source": [
    "# will show last 5 observations\n",
    "df.tail()"
   ]
  },
  {
   "cell_type": "code",
   "execution_count": 11,
   "id": "6f85dbc0-ccbc-4cfe-992e-bf0e2f24c1b3",
   "metadata": {},
   "outputs": [
    {
     "data": {
      "text/plain": [
       "0        7\n",
       "1        1\n",
       "2        1\n",
       "3        0\n",
       "4        1\n",
       "        ..\n",
       "1558    18\n",
       "1559     0\n",
       "1560    27\n",
       "1561    73\n",
       "1562     0\n",
       "Name: dl, Length: 1563, dtype: object"
      ]
     },
     "execution_count": 11,
     "metadata": {},
     "output_type": "execute_result"
    }
   ],
   "source": [
    "df['dl']"
   ]
  },
  {
   "cell_type": "code",
   "execution_count": 13,
   "id": "11d5878b-907a-4833-9938-136018cde887",
   "metadata": {},
   "outputs": [
    {
     "data": {
      "text/plain": [
       "'7'"
      ]
     },
     "execution_count": 13,
     "metadata": {},
     "output_type": "execute_result"
    }
   ],
   "source": [
    "df['dl'][0]"
   ]
  },
  {
   "cell_type": "code",
   "execution_count": 14,
   "id": "c2756ca6-0a89-4b55-8b07-2609a240b89a",
   "metadata": {},
   "outputs": [],
   "source": [
    "df['dl'] = df['dl'].astype('int32')"
   ]
  },
  {
   "cell_type": "code",
   "execution_count": 16,
   "id": "12e6087a-7055-45db-9951-57fc78334f0e",
   "metadata": {},
   "outputs": [
    {
     "data": {
      "text/plain": [
       "7"
      ]
     },
     "execution_count": 16,
     "metadata": {},
     "output_type": "execute_result"
    }
   ],
   "source": [
    "df['dl'][0]"
   ]
  },
  {
   "cell_type": "code",
   "execution_count": 17,
   "id": "85c08ed8-21c6-4f81-97be-cf16ddaf1d56",
   "metadata": {},
   "outputs": [
    {
     "data": {
      "text/plain": [
       "2873769"
      ]
     },
     "execution_count": 17,
     "metadata": {},
     "output_type": "execute_result"
    }
   ],
   "source": [
    "df['dl'].sum()"
   ]
  },
  {
   "cell_type": "code",
   "execution_count": null,
   "id": "ced6df50-dc4d-4288-9a70-042dfe14932b",
   "metadata": {},
   "outputs": [],
   "source": []
  }
 ],
 "metadata": {
  "kernelspec": {
   "display_name": "Python 3",
   "language": "python",
   "name": "python3"
  },
  "language_info": {
   "codemirror_mode": {
    "name": "ipython",
    "version": 3
   },
   "file_extension": ".py",
   "mimetype": "text/x-python",
   "name": "python",
   "nbconvert_exporter": "python",
   "pygments_lexer": "ipython3",
   "version": "3.8.8"
  }
 },
 "nbformat": 4,
 "nbformat_minor": 5
}
