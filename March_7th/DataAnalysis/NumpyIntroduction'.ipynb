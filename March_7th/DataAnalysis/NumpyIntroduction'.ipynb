{
 "cells": [
  {
   "cell_type": "code",
   "execution_count": 1,
   "id": "210488da-d43c-4d48-8126-67895ed973b0",
   "metadata": {},
   "outputs": [],
   "source": [
    "import numpy as np"
   ]
  },
  {
   "cell_type": "code",
   "execution_count": 2,
   "id": "8fe53021-f0b0-4608-8440-ba0409e1fcc1",
   "metadata": {},
   "outputs": [
    {
     "data": {
      "text/plain": [
       "array([3, 4, 5, 4, 3, 5])"
      ]
     },
     "execution_count": 2,
     "metadata": {},
     "output_type": "execute_result"
    }
   ],
   "source": [
    "np.array([3,4,5,4,3,5])"
   ]
  },
  {
   "cell_type": "code",
   "execution_count": 3,
   "id": "102c5dac-83ce-4806-a967-84a382464a24",
   "metadata": {},
   "outputs": [
    {
     "data": {
      "text/plain": [
       "array([[ 3,  2,  3,  4],\n",
       "       [32,  3,  5, 56],\n",
       "       [ 3,  5,  6,  8],\n",
       "       [ 1,  2,  3,  5]])"
      ]
     },
     "execution_count": 3,
     "metadata": {},
     "output_type": "execute_result"
    }
   ],
   "source": [
    "np.array([[3,2,3,4],[32,3,5,56],[3,5,6,8],[1,2,3,5]])"
   ]
  },
  {
   "cell_type": "code",
   "execution_count": 4,
   "id": "f267f315-b8f9-4f61-9a0d-c51bb992cd65",
   "metadata": {},
   "outputs": [
    {
     "data": {
      "text/plain": [
       "array([2. , 3. , 4. , 5.6, 4. , 5. , 6. ])"
      ]
     },
     "execution_count": 4,
     "metadata": {},
     "output_type": "execute_result"
    }
   ],
   "source": [
    "np.array([2,3,4,5.6,4,5,6])"
   ]
  },
  {
   "cell_type": "code",
   "execution_count": 5,
   "id": "6839ef21-726a-4b73-8c40-6a2501e41cfd",
   "metadata": {},
   "outputs": [
    {
     "data": {
      "text/plain": [
       "array(['2', '3', '4', '5.6', '4', '5', '6', '10'], dtype='<U32')"
      ]
     },
     "execution_count": 5,
     "metadata": {},
     "output_type": "execute_result"
    }
   ],
   "source": [
    "np.array([2,3,4,5.6,4,5,6,'10'])"
   ]
  },
  {
   "cell_type": "code",
   "execution_count": 6,
   "id": "57d1b00d-36a0-45c1-a592-b710716dd2fb",
   "metadata": {},
   "outputs": [
    {
     "data": {
      "text/plain": [
       "array([31. ,  2. ,  3. ,  5. ,  7. ,  6. ,  1. ,  4.5])"
      ]
     },
     "execution_count": 6,
     "metadata": {},
     "output_type": "execute_result"
    }
   ],
   "source": [
    "np.array([31,2,3,5,7,6,True,4.5])"
   ]
  },
  {
   "cell_type": "code",
   "execution_count": 7,
   "id": "2cda0d28-b42b-4da5-96a4-5e5f9efc438f",
   "metadata": {},
   "outputs": [
    {
     "data": {
      "text/plain": [
       "array([ 0,  1,  2,  3,  4,  5,  6,  7,  8,  9, 10])"
      ]
     },
     "execution_count": 7,
     "metadata": {},
     "output_type": "execute_result"
    }
   ],
   "source": [
    "np.arange(11)"
   ]
  },
  {
   "cell_type": "code",
   "execution_count": 8,
   "id": "8c142a32-ab62-4125-9bbd-ccc13bec8bde",
   "metadata": {},
   "outputs": [
    {
     "data": {
      "text/plain": [
       "array([ 1,  2,  3,  4,  5,  6,  7,  8,  9, 10])"
      ]
     },
     "execution_count": 8,
     "metadata": {},
     "output_type": "execute_result"
    }
   ],
   "source": [
    "np.arange(1,11)"
   ]
  },
  {
   "cell_type": "code",
   "execution_count": 9,
   "id": "3e32104f-9822-4d38-a059-ee49ac3e03b3",
   "metadata": {},
   "outputs": [
    {
     "data": {
      "text/plain": [
       "array([ 2,  4,  6,  8, 10, 12, 14, 16, 18, 20])"
      ]
     },
     "execution_count": 9,
     "metadata": {},
     "output_type": "execute_result"
    }
   ],
   "source": [
    "np.arange(2,21,2)"
   ]
  },
  {
   "cell_type": "code",
   "execution_count": 13,
   "id": "364865da-36d5-4623-b677-514882ad56ec",
   "metadata": {},
   "outputs": [
    {
     "data": {
      "text/plain": [
       "(array([ 1.        ,  1.64705882,  2.29411765,  2.94117647,  3.58823529,\n",
       "         4.23529412,  4.88235294,  5.52941176,  6.17647059,  6.82352941,\n",
       "         7.47058824,  8.11764706,  8.76470588,  9.41176471, 10.05882353,\n",
       "        10.70588235, 11.35294118, 12.        ]),\n",
       " 0.6470588235294118)"
      ]
     },
     "execution_count": 13,
     "metadata": {},
     "output_type": "execute_result"
    }
   ],
   "source": [
    "#linear space\n",
    "# returns 50 elements b/w the given range with equal interval\n",
    "# np.linspace(1,12)\n",
    "\n",
    "np.linspace(1,12,num=18,retstep=True)"
   ]
  },
  {
   "cell_type": "code",
   "execution_count": 14,
   "id": "d0366b2e-f7f0-40b2-aa2a-7af3dbc5e481",
   "metadata": {},
   "outputs": [
    {
     "data": {
      "text/plain": [
       "array([0., 0., 0., 0., 0.])"
      ]
     },
     "execution_count": 14,
     "metadata": {},
     "output_type": "execute_result"
    }
   ],
   "source": [
    "np.zeros(5)"
   ]
  },
  {
   "cell_type": "code",
   "execution_count": 15,
   "id": "00238f41-17a6-49c9-8274-af241ae5e1f5",
   "metadata": {},
   "outputs": [
    {
     "data": {
      "text/plain": [
       "array([[0., 0., 0., 0., 0.],\n",
       "       [0., 0., 0., 0., 0.],\n",
       "       [0., 0., 0., 0., 0.],\n",
       "       [0., 0., 0., 0., 0.],\n",
       "       [0., 0., 0., 0., 0.]])"
      ]
     },
     "execution_count": 15,
     "metadata": {},
     "output_type": "execute_result"
    }
   ],
   "source": [
    "np.zeros([5,5])"
   ]
  },
  {
   "cell_type": "code",
   "execution_count": 16,
   "id": "5fbc5207-cc26-4d62-b9bf-72c04450e0bd",
   "metadata": {},
   "outputs": [
    {
     "data": {
      "text/plain": [
       "array([1., 1., 1., 1., 1.])"
      ]
     },
     "execution_count": 16,
     "metadata": {},
     "output_type": "execute_result"
    }
   ],
   "source": [
    "np.ones(5)"
   ]
  },
  {
   "cell_type": "code",
   "execution_count": 17,
   "id": "c727a6f7-9f5b-451c-b4d1-882178aa58f7",
   "metadata": {},
   "outputs": [
    {
     "data": {
      "text/plain": [
       "array([[1., 1., 1., 1., 1.],\n",
       "       [1., 1., 1., 1., 1.],\n",
       "       [1., 1., 1., 1., 1.],\n",
       "       [1., 1., 1., 1., 1.],\n",
       "       [1., 1., 1., 1., 1.]])"
      ]
     },
     "execution_count": 17,
     "metadata": {},
     "output_type": "execute_result"
    }
   ],
   "source": [
    "np.ones([5,5])"
   ]
  },
  {
   "cell_type": "code",
   "execution_count": 18,
   "id": "e99a63ac-9d40-4337-9c39-e3a95a5896c1",
   "metadata": {},
   "outputs": [
    {
     "data": {
      "text/plain": [
       "array([[6., 6., 6., 6., 6.],\n",
       "       [6., 6., 6., 6., 6.],\n",
       "       [6., 6., 6., 6., 6.],\n",
       "       [6., 6., 6., 6., 6.],\n",
       "       [6., 6., 6., 6., 6.]])"
      ]
     },
     "execution_count": 18,
     "metadata": {},
     "output_type": "execute_result"
    }
   ],
   "source": [
    "np.ones([5,5]) * 6"
   ]
  },
  {
   "cell_type": "code",
   "execution_count": 19,
   "id": "4ade7263-13f2-499c-ba24-604a6dbbda9c",
   "metadata": {},
   "outputs": [
    {
     "data": {
      "text/plain": [
       "array([[1., 0., 0., 0.],\n",
       "       [0., 1., 0., 0.],\n",
       "       [0., 0., 1., 0.],\n",
       "       [0., 0., 0., 1.]])"
      ]
     },
     "execution_count": 19,
     "metadata": {},
     "output_type": "execute_result"
    }
   ],
   "source": [
    "np.identity(4)"
   ]
  },
  {
   "cell_type": "code",
   "execution_count": 22,
   "id": "93babfbc-694d-4088-b26a-0f9c3d6ef0a7",
   "metadata": {},
   "outputs": [
    {
     "data": {
      "text/plain": [
       "0.5206153136662761"
      ]
     },
     "execution_count": 22,
     "metadata": {},
     "output_type": "execute_result"
    }
   ],
   "source": [
    "np.random.random()"
   ]
  },
  {
   "cell_type": "code",
   "execution_count": 23,
   "id": "6fe7fdf2-3b68-4552-91b7-146587201ea1",
   "metadata": {},
   "outputs": [
    {
     "data": {
      "text/plain": [
       "array([0.45421872, 0.68829641, 0.33946783, 0.85110276, 0.73733929])"
      ]
     },
     "execution_count": 23,
     "metadata": {},
     "output_type": "execute_result"
    }
   ],
   "source": [
    "np.random.random(5)"
   ]
  },
  {
   "cell_type": "code",
   "execution_count": 24,
   "id": "a636ec66-2faa-4918-b168-a19e5e8ca0ae",
   "metadata": {},
   "outputs": [
    {
     "data": {
      "text/plain": [
       "array([[0.92831283, 0.10440347, 0.00380531, 0.45786187, 0.22023108],\n",
       "       [0.24307022, 0.80071627, 0.17599536, 0.97032638, 0.52270066],\n",
       "       [0.4578654 , 0.04277973, 0.76420414, 0.13279454, 0.0121871 ],\n",
       "       [0.58918086, 0.70743013, 0.98197273, 0.2437788 , 0.28551079]])"
      ]
     },
     "execution_count": 24,
     "metadata": {},
     "output_type": "execute_result"
    }
   ],
   "source": [
    "np.random.random([4,5])"
   ]
  },
  {
   "cell_type": "code",
   "execution_count": 25,
   "id": "eb015dfa-b918-4883-b6dc-17e79a451ba6",
   "metadata": {},
   "outputs": [
    {
     "data": {
      "text/plain": [
       "26"
      ]
     },
     "execution_count": 25,
     "metadata": {},
     "output_type": "execute_result"
    }
   ],
   "source": [
    "np.random.randint(1,100)"
   ]
  },
  {
   "cell_type": "code",
   "execution_count": 26,
   "id": "d40347d9-f7ab-4f6d-b89c-ba72ce1db582",
   "metadata": {},
   "outputs": [
    {
     "data": {
      "text/plain": [
       "array([21, 61, 26, 96, 62, 72,  5, 53, 86, 85])"
      ]
     },
     "execution_count": 26,
     "metadata": {},
     "output_type": "execute_result"
    }
   ],
   "source": [
    "np.random.randint(1,100,10)"
   ]
  },
  {
   "cell_type": "code",
   "execution_count": 27,
   "id": "6200fbde-453e-4713-b466-afc52b4a048c",
   "metadata": {},
   "outputs": [
    {
     "data": {
      "text/plain": [
       "array([[81, 65, 90, 39, 99, 75, 21, 72],\n",
       "       [68, 60, 14, 67, 44, 18, 24, 20],\n",
       "       [85, 55, 63, 98, 97, 91, 35, 34],\n",
       "       [13, 53, 77, 73,  4, 37, 76, 27],\n",
       "       [84, 14, 88, 38, 99, 93, 54, 12]])"
      ]
     },
     "execution_count": 27,
     "metadata": {},
     "output_type": "execute_result"
    }
   ],
   "source": [
    "np.random.randint(1,100,[5,8])"
   ]
  },
  {
   "cell_type": "code",
   "execution_count": null,
   "id": "34f81112-c678-4336-875a-3fc9c0589f71",
   "metadata": {},
   "outputs": [],
   "source": []
  }
 ],
 "metadata": {
  "kernelspec": {
   "display_name": "Python 3",
   "language": "python",
   "name": "python3"
  },
  "language_info": {
   "codemirror_mode": {
    "name": "ipython",
    "version": 3
   },
   "file_extension": ".py",
   "mimetype": "text/x-python",
   "name": "python",
   "nbconvert_exporter": "python",
   "pygments_lexer": "ipython3",
   "version": "3.8.8"
  }
 },
 "nbformat": 4,
 "nbformat_minor": 5
}
