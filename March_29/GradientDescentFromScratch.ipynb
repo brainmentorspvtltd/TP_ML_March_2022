{
 "cells": [
  {
   "cell_type": "code",
   "execution_count": 1,
   "id": "9aeb72fa",
   "metadata": {},
   "outputs": [],
   "source": [
    "import pandas as pd\n",
    "import numpy as np\n",
    "import matplotlib.pyplot as plt"
   ]
  },
  {
   "cell_type": "code",
   "execution_count": 2,
   "id": "0724bdf3",
   "metadata": {},
   "outputs": [],
   "source": [
    "sachin_df = pd.read_excel('sachin.xlsx')"
   ]
  },
  {
   "cell_type": "code",
   "execution_count": 3,
   "id": "d01eab24",
   "metadata": {},
   "outputs": [
    {
     "data": {
      "text/html": [
       "<div>\n",
       "<style scoped>\n",
       "    .dataframe tbody tr th:only-of-type {\n",
       "        vertical-align: middle;\n",
       "    }\n",
       "\n",
       "    .dataframe tbody tr th {\n",
       "        vertical-align: top;\n",
       "    }\n",
       "\n",
       "    .dataframe thead th {\n",
       "        text-align: right;\n",
       "    }\n",
       "</style>\n",
       "<table border=\"1\" class=\"dataframe\">\n",
       "  <thead>\n",
       "    <tr style=\"text-align: right;\">\n",
       "      <th></th>\n",
       "      <th>Runs</th>\n",
       "      <th>Mins</th>\n",
       "      <th>BF</th>\n",
       "      <th>4s</th>\n",
       "      <th>6s</th>\n",
       "      <th>SR</th>\n",
       "      <th>Pos</th>\n",
       "      <th>Dismissal</th>\n",
       "      <th>Inns</th>\n",
       "      <th>Opposition</th>\n",
       "      <th>Ground</th>\n",
       "      <th>Start DateAscending</th>\n",
       "      <th>Match Number</th>\n",
       "      <th>Result</th>\n",
       "    </tr>\n",
       "  </thead>\n",
       "  <tbody>\n",
       "    <tr>\n",
       "      <th>0</th>\n",
       "      <td>11</td>\n",
       "      <td>92</td>\n",
       "      <td>-</td>\n",
       "      <td>-</td>\n",
       "      <td>0</td>\n",
       "      <td>-</td>\n",
       "      <td>6</td>\n",
       "      <td>lbw</td>\n",
       "      <td>1</td>\n",
       "      <td>v Sri Lanka</td>\n",
       "      <td>Chandigarh</td>\n",
       "      <td>1990-11-23</td>\n",
       "      <td>Test # 1156</td>\n",
       "      <td>Won</td>\n",
       "    </tr>\n",
       "    <tr>\n",
       "      <th>1</th>\n",
       "      <td>50</td>\n",
       "      <td>158</td>\n",
       "      <td>118</td>\n",
       "      <td>6</td>\n",
       "      <td>0</td>\n",
       "      <td>42.37</td>\n",
       "      <td>4</td>\n",
       "      <td>caught</td>\n",
       "      <td>1</td>\n",
       "      <td>v England</td>\n",
       "      <td>Kolkata</td>\n",
       "      <td>1993-01-29</td>\n",
       "      <td>Test # 1211</td>\n",
       "      <td>Won</td>\n",
       "    </tr>\n",
       "    <tr>\n",
       "      <th>2</th>\n",
       "      <td>9</td>\n",
       "      <td>17</td>\n",
       "      <td>19</td>\n",
       "      <td>2</td>\n",
       "      <td>0</td>\n",
       "      <td>47.36</td>\n",
       "      <td>4</td>\n",
       "      <td>not out</td>\n",
       "      <td>4</td>\n",
       "      <td>v England</td>\n",
       "      <td>Kolkata</td>\n",
       "      <td>1993-01-29</td>\n",
       "      <td>Test # 1211</td>\n",
       "      <td>Won</td>\n",
       "    </tr>\n",
       "    <tr>\n",
       "      <th>3</th>\n",
       "      <td>165</td>\n",
       "      <td>361</td>\n",
       "      <td>296</td>\n",
       "      <td>24</td>\n",
       "      <td>1</td>\n",
       "      <td>55.74</td>\n",
       "      <td>4</td>\n",
       "      <td>caught</td>\n",
       "      <td>1</td>\n",
       "      <td>v England</td>\n",
       "      <td>Chennai</td>\n",
       "      <td>1993-02-11</td>\n",
       "      <td>Test # 1213</td>\n",
       "      <td>Won</td>\n",
       "    </tr>\n",
       "    <tr>\n",
       "      <th>4</th>\n",
       "      <td>78</td>\n",
       "      <td>285</td>\n",
       "      <td>213</td>\n",
       "      <td>10</td>\n",
       "      <td>0</td>\n",
       "      <td>36.61</td>\n",
       "      <td>4</td>\n",
       "      <td>lbw</td>\n",
       "      <td>2</td>\n",
       "      <td>v England</td>\n",
       "      <td>Mumbai</td>\n",
       "      <td>1993-02-19</td>\n",
       "      <td>Test # 1214</td>\n",
       "      <td>Won</td>\n",
       "    </tr>\n",
       "  </tbody>\n",
       "</table>\n",
       "</div>"
      ],
      "text/plain": [
       "  Runs Mins   BF  4s 6s     SR Pos Dismissal Inns   Opposition      Ground  \\\n",
       "0   11   92    -   -  0      -   6       lbw    1  v Sri Lanka  Chandigarh   \n",
       "1   50  158  118   6  0  42.37   4    caught    1    v England     Kolkata   \n",
       "2    9   17   19   2  0  47.36   4   not out    4    v England     Kolkata   \n",
       "3  165  361  296  24  1  55.74   4    caught    1    v England     Chennai   \n",
       "4   78  285  213  10  0  36.61   4       lbw    2    v England      Mumbai   \n",
       "\n",
       "  Start DateAscending Match Number Result  \n",
       "0          1990-11-23  Test # 1156    Won  \n",
       "1          1993-01-29  Test # 1211    Won  \n",
       "2          1993-01-29  Test # 1211    Won  \n",
       "3          1993-02-11  Test # 1213    Won  \n",
       "4          1993-02-19  Test # 1214    Won  "
      ]
     },
     "execution_count": 3,
     "metadata": {},
     "output_type": "execute_result"
    }
   ],
   "source": [
    "sachin_df.head()"
   ]
  },
  {
   "cell_type": "code",
   "execution_count": 4,
   "id": "dcac7c97",
   "metadata": {},
   "outputs": [
    {
     "data": {
      "text/plain": [
       "(347, 14)"
      ]
     },
     "execution_count": 4,
     "metadata": {},
     "output_type": "execute_result"
    }
   ],
   "source": [
    "sachin_df.shape"
   ]
  },
  {
   "cell_type": "code",
   "execution_count": 5,
   "id": "1bc28db9",
   "metadata": {},
   "outputs": [],
   "source": [
    "sachin_df = sachin_df[sachin_df['BF'] != '-']\n",
    "sachin_df = sachin_df[sachin_df['Runs'] != 'DNB']"
   ]
  },
  {
   "cell_type": "code",
   "execution_count": 6,
   "id": "cc0029a0",
   "metadata": {},
   "outputs": [
    {
     "data": {
      "text/plain": [
       "(328, 14)"
      ]
     },
     "execution_count": 6,
     "metadata": {},
     "output_type": "execute_result"
    }
   ],
   "source": [
    "sachin_df.shape"
   ]
  },
  {
   "cell_type": "code",
   "execution_count": 7,
   "id": "7f5ba8ea",
   "metadata": {},
   "outputs": [],
   "source": [
    "X = sachin_df['BF'].values\n",
    "y = sachin_df['Runs'].values"
   ]
  },
  {
   "cell_type": "code",
   "execution_count": 14,
   "id": "76535398",
   "metadata": {},
   "outputs": [
    {
     "data": {
      "image/png": "[encoded data removed]",
      "text/plain": [
       "<Figure size 720x432 with 1 Axes>"
      ]
     },
     "metadata": {
      "needs_background": "light"
     },
     "output_type": "display_data"
    }
   ],
   "source": [
    "plt.figure(figsize=(10,6))\n",
    "plt.scatter(X,y)\n",
    "plt.xlabel('Balls')\n",
    "plt.ylabel('Runs')\n",
    "plt.title('Runs vs Balls Faced by Sachin')\n",
    "plt.show()"
   ]
  },
  {
   "cell_type": "code",
   "execution_count": 8,
   "id": "8a151bc9",
   "metadata": {},
   "outputs": [],
   "source": [
    "# Normalization - MinMaxScaler\n",
    "# Standardization - StandardScaler\n",
    "from sklearn.preprocessing import MinMaxScaler, StandardScaler"
   ]
  },
  {
   "cell_type": "code",
   "execution_count": 10,
   "id": "31e1fc73",
   "metadata": {},
   "outputs": [],
   "source": [
    "X = X.reshape(-1,1)"
   ]
  },
  {
   "cell_type": "code",
   "execution_count": 11,
   "id": "a81bd84a",
   "metadata": {},
   "outputs": [],
   "source": [
    "y = y.reshape(-1,1)"
   ]
  },
  {
   "cell_type": "code",
   "execution_count": 12,
   "id": "bd853379",
   "metadata": {},
   "outputs": [],
   "source": [
    "minmax = MinMaxScaler()\n",
    "X_scaled = minmax.fit_transform(X)"
   ]
  },
  {
   "cell_type": "code",
   "execution_count": 13,
   "id": "38c675dc",
   "metadata": {},
   "outputs": [],
   "source": [
    "y_scaled = minmax.fit_transform(y)"
   ]
  },
  {
   "cell_type": "code",
   "execution_count": 15,
   "id": "bcba8549",
   "metadata": {},
   "outputs": [
    {
     "data": {
      "image/png": "[encoded data removed]",
      "text/plain": [
       "<Figure size 720x432 with 1 Axes>"
      ]
     },
     "metadata": {
      "needs_background": "light"
     },
     "output_type": "display_data"
    }
   ],
   "source": [
    "plt.figure(figsize=(10,6))\n",
    "plt.scatter(X_scaled,y_scaled)\n",
    "plt.xlabel('Balls')\n",
    "plt.ylabel('Runs')\n",
    "plt.title('Runs vs Balls Faced by Sachin')\n",
    "plt.show()"
   ]
  },
  {
   "cell_type": "code",
   "execution_count": 16,
   "id": "4498c69b",
   "metadata": {},
   "outputs": [
    {
     "data": {
      "text/plain": [
       "array([[118],\n",
       "       [19],\n",
       "       [296],\n",
       "       [213],\n",
       "       [114]], dtype=object)"
      ]
     },
     "execution_count": 16,
     "metadata": {},
     "output_type": "execute_result"
    }
   ],
   "source": [
    "X[:5]"
   ]
  },
  {
   "cell_type": "code",
   "execution_count": 17,
   "id": "4c282981",
   "metadata": {},
   "outputs": [
    {
     "data": {
      "text/plain": [
       "array([[0.2706422 ],\n",
       "       [0.04357798],\n",
       "       [0.67889908],\n",
       "       [0.48853211],\n",
       "       [0.26146789]])"
      ]
     },
     "execution_count": 17,
     "metadata": {},
     "output_type": "execute_result"
    }
   ],
   "source": [
    "X_scaled[:5]"
   ]
  },
  {
   "cell_type": "code",
   "execution_count": 29,
   "id": "d02c9866",
   "metadata": {},
   "outputs": [],
   "source": [
    "n = len(X_scaled)\n",
    "\n",
    "def cost_function(x,y,slope,inter):\n",
    "    y_pred = slope * x + inter\n",
    "    mse = (1/n) * np.sum((y_pred - y) ** 2)\n",
    "    return mse"
   ]
  },
  {
   "cell_type": "code",
   "execution_count": 30,
   "id": "a49248b1",
   "metadata": {},
   "outputs": [],
   "source": [
    "def gradientDescent(x,y,epochs,alpha):\n",
    "    slope, inter = 0,0\n",
    "    costHistory = []\n",
    "    for i in range(epochs):\n",
    "        y_pred = slope * x + inter\n",
    "        loss = y_pred - y\n",
    "        grad_slope = (2/n) * np.dot(x.T, loss)\n",
    "        grad_inter = (2/n) * np.sum(loss)\n",
    "        slope = slope - grad_slope * alpha\n",
    "        inter = inter - grad_inter * alpha\n",
    "        costHistory.append(cost_function(x,y,slope,inter))\n",
    "    \n",
    "    return slope, inter, costHistory"
   ]
  },
  {
   "cell_type": "code",
   "execution_count": 63,
   "id": "dd7e9b76",
   "metadata": {},
   "outputs": [],
   "source": [
    "epochs = 3000\n",
    "alpha = 0.02\n",
    "slope, inter, cost = gradientDescent(X_scaled, y_scaled, epochs, alpha)"
   ]
  },
  {
   "cell_type": "code",
   "execution_count": 64,
   "id": "96d2f84d",
   "metadata": {},
   "outputs": [
    {
     "data": {
      "text/plain": [
       "(array([[0.96749964]]), -0.003487368599566913)"
      ]
     },
     "execution_count": 64,
     "metadata": {},
     "output_type": "execute_result"
    }
   ],
   "source": [
    "slope, inter"
   ]
  },
  {
   "cell_type": "code",
   "execution_count": 65,
   "id": "d63d0ce5",
   "metadata": {},
   "outputs": [
    {
     "data": {
      "image/png": "[encoded data removed]",
      "text/plain": [
       "<Figure size 720x432 with 1 Axes>"
      ]
     },
     "metadata": {
      "needs_background": "light"
     },
     "output_type": "display_data"
    }
   ],
   "source": [
    "plt.figure(figsize=(10,6))\n",
    "plt.plot(cost)\n",
    "plt.show()"
   ]
  },
  {
   "cell_type": "code",
   "execution_count": 66,
   "id": "5f4a78b4",
   "metadata": {},
   "outputs": [],
   "source": [
    "predictions = []\n",
    "for i in range(n):\n",
    "    y_pred = slope[0][0] * X_scaled[i] + inter\n",
    "    predictions.append(y_pred)"
   ]
  },
  {
   "cell_type": "code",
   "execution_count": 67,
   "id": "1b430679",
   "metadata": {},
   "outputs": [
    {
     "data": {
      "image/png": "[encoded data removed]",
      "text/plain": [
       "<Figure size 720x432 with 1 Axes>"
      ]
     },
     "metadata": {
      "needs_background": "light"
     },
     "output_type": "display_data"
    }
   ],
   "source": [
    "plt.figure(figsize=(10,6))\n",
    "plt.scatter(X_scaled,y_scaled)\n",
    "plt.plot(X_scaled, predictions, 'r')\n",
    "plt.xlabel('Balls')\n",
    "plt.ylabel('Runs')\n",
    "plt.title('Runs vs Balls Faced by Sachin')\n",
    "plt.show()"
   ]
  },
  {
   "cell_type": "code",
   "execution_count": null,
   "id": "6a456b14",
   "metadata": {},
   "outputs": [],
   "source": []
  }
 ],
 "metadata": {
  "kernelspec": {
   "display_name": "Python 3",
   "language": "python",
   "name": "python3"
  },
  "language_info": {
   "codemirror_mode": {
    "name": "ipython",
    "version": 3
   },
   "file_extension": ".py",
   "mimetype": "text/x-python",
   "name": "python",
   "nbconvert_exporter": "python",
   "pygments_lexer": "ipython3",
   "version": "3.8.8"
  }
 },
 "nbformat": 4,
 "nbformat_minor": 5
}
