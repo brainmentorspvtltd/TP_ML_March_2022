{
 "cells": [
  {
   "cell_type": "code",
   "execution_count": 1,
   "id": "d0481a46",
   "metadata": {},
   "outputs": [],
   "source": [
    "import numpy as np"
   ]
  },
  {
   "cell_type": "code",
   "execution_count": 2,
   "id": "b1d41ea9",
   "metadata": {},
   "outputs": [],
   "source": [
    "data = {\n",
    "    \"height\" : [5.6, 5.8, 5.9, 5.0, 4.9, 5.2, 5.9, 5.9, 6.2, 6.0, 5.9, 5.0, 5.2, 5.3, 5.2],\n",
    "    \"weight\" : [70, 78, 88, 50, 48, 55, 75, 80, 85, 90, 82, 49, 55, 60, 53],\n",
    "    \"gender\" : [1, 1, 1, 0, 0, 0, 1, 1, 1, 1, 1, 0, 0, 0, 0]\n",
    "}"
   ]
  },
  {
   "cell_type": "code",
   "execution_count": 3,
   "id": "677cd6e5",
   "metadata": {},
   "outputs": [],
   "source": [
    "import pandas as pd"
   ]
  },
  {
   "cell_type": "code",
   "execution_count": 4,
   "id": "81622f65",
   "metadata": {},
   "outputs": [],
   "source": [
    "df = pd.DataFrame(data)"
   ]
  },
  {
   "cell_type": "code",
   "execution_count": 6,
   "id": "fb28e88d",
   "metadata": {},
   "outputs": [
    {
     "data": {
      "text/html": [
       "<div>\n",
       "<style scoped>\n",
       "    .dataframe tbody tr th:only-of-type {\n",
       "        vertical-align: middle;\n",
       "    }\n",
       "\n",
       "    .dataframe tbody tr th {\n",
       "        vertical-align: top;\n",
       "    }\n",
       "\n",
       "    .dataframe thead th {\n",
       "        text-align: right;\n",
       "    }\n",
       "</style>\n",
       "<table border=\"1\" class=\"dataframe\">\n",
       "  <thead>\n",
       "    <tr style=\"text-align: right;\">\n",
       "      <th></th>\n",
       "      <th>height</th>\n",
       "      <th>weight</th>\n",
       "      <th>gender</th>\n",
       "    </tr>\n",
       "  </thead>\n",
       "  <tbody>\n",
       "    <tr>\n",
       "      <th>0</th>\n",
       "      <td>5.6</td>\n",
       "      <td>70</td>\n",
       "      <td>1</td>\n",
       "    </tr>\n",
       "    <tr>\n",
       "      <th>1</th>\n",
       "      <td>5.8</td>\n",
       "      <td>78</td>\n",
       "      <td>1</td>\n",
       "    </tr>\n",
       "    <tr>\n",
       "      <th>2</th>\n",
       "      <td>5.9</td>\n",
       "      <td>88</td>\n",
       "      <td>1</td>\n",
       "    </tr>\n",
       "    <tr>\n",
       "      <th>3</th>\n",
       "      <td>5.0</td>\n",
       "      <td>50</td>\n",
       "      <td>0</td>\n",
       "    </tr>\n",
       "    <tr>\n",
       "      <th>4</th>\n",
       "      <td>4.9</td>\n",
       "      <td>48</td>\n",
       "      <td>0</td>\n",
       "    </tr>\n",
       "  </tbody>\n",
       "</table>\n",
       "</div>"
      ],
      "text/plain": [
       "   height  weight  gender\n",
       "0     5.6      70       1\n",
       "1     5.8      78       1\n",
       "2     5.9      88       1\n",
       "3     5.0      50       0\n",
       "4     4.9      48       0"
      ]
     },
     "execution_count": 6,
     "metadata": {},
     "output_type": "execute_result"
    }
   ],
   "source": [
    "df.head()"
   ]
  },
  {
   "cell_type": "code",
   "execution_count": 7,
   "id": "ff0fb9f8",
   "metadata": {},
   "outputs": [],
   "source": [
    "test_data = {'height': [5.9], 'weight' : [79]}"
   ]
  },
  {
   "cell_type": "code",
   "execution_count": 8,
   "id": "a393ce47",
   "metadata": {},
   "outputs": [],
   "source": [
    "def distance(x1,x2,y1,y2):\n",
    "    return np.sqrt(((x2-x1) ** 2) + ((y2 -  y1) ** 2))"
   ]
  },
  {
   "cell_type": "code",
   "execution_count": 20,
   "id": "580085c2",
   "metadata": {},
   "outputs": [],
   "source": [
    "def knn(data, test_data, k=3):\n",
    "    ndist = []\n",
    "    for i in range(len(data)):\n",
    "        x1 = data['height'][i]\n",
    "        x2 = test_data['height'][0]\n",
    "        y1 = data['weight'][i]\n",
    "        y2 = test_data['weight'][0]\n",
    "        d = distance(x1, x2, y1, y2)\n",
    "        ndist.append(d)\n",
    "    #print(ndist)\n",
    "    ndist = np.asarray(ndist)\n",
    "    sorted_indexes = np.argsort(ndist)\n",
    "    neighbors = data['gender'][sorted_indexes][:k]\n",
    "    print(neighbors)\n",
    "    unique_neighbors = np.unique(neighbors, return_counts=True)\n",
    "    return unique_neighbors"
   ]
  },
  {
   "cell_type": "code",
   "execution_count": 21,
   "id": "fff76cf7",
   "metadata": {},
   "outputs": [
    {
     "name": "stdout",
     "output_type": "stream",
     "text": [
      "0     1\n",
      "13    0\n",
      "5     0\n",
      "12    0\n",
      "6     1\n",
      "14    0\n",
      "1     1\n",
      "Name: gender, dtype: int64\n"
     ]
    },
    {
     "data": {
      "text/plain": [
       "(array([0, 1], dtype=int64), array([4, 3], dtype=int64))"
      ]
     },
     "execution_count": 21,
     "metadata": {},
     "output_type": "execute_result"
    }
   ],
   "source": [
    "test_data = {'height': [5.5], 'weight' : [65]}\n",
    "knn(df, test_data, k=7)"
   ]
  },
  {
   "cell_type": "code",
   "execution_count": null,
   "id": "44161a1e",
   "metadata": {},
   "outputs": [],
   "source": []
  }
 ],
 "metadata": {
  "kernelspec": {
   "display_name": "Python 3 (ipykernel)",
   "language": "python",
   "name": "python3"
  },
  "language_info": {
   "codemirror_mode": {
    "name": "ipython",
    "version": 3
   },
   "file_extension": ".py",
   "mimetype": "text/x-python",
   "name": "python",
   "nbconvert_exporter": "python",
   "pygments_lexer": "ipython3",
   "version": "3.9.7"
  }
 },
 "nbformat": 4,
 "nbformat_minor": 5
}
