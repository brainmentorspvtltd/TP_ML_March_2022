{
 "cells": [
  {
   "cell_type": "code",
   "execution_count": 1,
   "id": "9c4b0753",
   "metadata": {},
   "outputs": [],
   "source": [
    "import numpy as np"
   ]
  },
  {
   "cell_type": "code",
   "execution_count": 2,
   "id": "ba897ca2",
   "metadata": {},
   "outputs": [],
   "source": [
    "x = np.array([[1,0,1,0], [1,0,1,1], [0,1,0,1]])\n",
    "y = np.array([[1],[1],[0]])"
   ]
  },
  {
   "cell_type": "code",
   "execution_count": 3,
   "id": "861cb70d",
   "metadata": {},
   "outputs": [
    {
     "data": {
      "text/plain": [
       "array([[1, 0, 1, 0],\n",
       "       [1, 0, 1, 1],\n",
       "       [0, 1, 0, 1]])"
      ]
     },
     "execution_count": 3,
     "metadata": {},
     "output_type": "execute_result"
    }
   ],
   "source": [
    "x"
   ]
  },
  {
   "cell_type": "code",
   "execution_count": 4,
   "id": "9faabbed",
   "metadata": {},
   "outputs": [
    {
     "data": {
      "text/plain": [
       "array([[1],\n",
       "       [1],\n",
       "       [0]])"
      ]
     },
     "execution_count": 4,
     "metadata": {},
     "output_type": "execute_result"
    }
   ],
   "source": [
    "y"
   ]
  },
  {
   "cell_type": "code",
   "execution_count": 5,
   "id": "85942fdb",
   "metadata": {},
   "outputs": [],
   "source": [
    "def sigmoid(x):\n",
    "    return 1 / (1 + np.exp(-x))\n",
    "\n",
    "def derivativeSigmoid(x):\n",
    "    return x * (1 - x)"
   ]
  },
  {
   "cell_type": "code",
   "execution_count": 22,
   "id": "11f345fe",
   "metadata": {},
   "outputs": [],
   "source": [
    "inputNeurons = x.shape[1]\n",
    "hiddenNeurons = 3\n",
    "outputNeurons = 1\n",
    "alpha = 0.01"
   ]
  },
  {
   "cell_type": "code",
   "execution_count": 7,
   "id": "cbf398df",
   "metadata": {},
   "outputs": [],
   "source": [
    "weightsHidden = np.random.uniform(size=(inputNeurons, hiddenNeurons))\n",
    "biasHidden = np.random.uniform(size=(1, hiddenNeurons))\n",
    "weightsOutput = np.random.uniform(size=(hiddenNeurons, outputNeurons))\n",
    "biasOutput = np.random.uniform(size=(1, outputNeurons))"
   ]
  },
  {
   "cell_type": "code",
   "execution_count": 8,
   "id": "0044e60e",
   "metadata": {},
   "outputs": [],
   "source": [
    "# feedforward\n",
    "# 1. xi.wi + bias\n",
    "fx = np.dot(x, weightsHidden) + biasHidden"
   ]
  },
  {
   "cell_type": "code",
   "execution_count": 9,
   "id": "ca4170d3",
   "metadata": {},
   "outputs": [
    {
     "data": {
      "text/plain": [
       "array([[1.73693259, 2.25819832, 2.09886788],\n",
       "       [2.40443048, 2.78679369, 2.90919876],\n",
       "       [1.16135179, 2.01248692, 2.0302972 ]])"
      ]
     },
     "execution_count": 9,
     "metadata": {},
     "output_type": "execute_result"
    }
   ],
   "source": [
    "fx"
   ]
  },
  {
   "cell_type": "code",
   "execution_count": 10,
   "id": "822974bd",
   "metadata": {},
   "outputs": [],
   "source": [
    "# 2. Apply Activation\n",
    "hiddenLayer = sigmoid(fx)"
   ]
  },
  {
   "cell_type": "code",
   "execution_count": 11,
   "id": "a7e3edb3",
   "metadata": {},
   "outputs": [
    {
     "data": {
      "text/plain": [
       "array([[0.85029703, 0.90535536, 0.89079309],\n",
       "       [0.91716453, 0.94195799, 0.9482993 ],\n",
       "       [0.76157826, 0.8821019 , 0.88394157]])"
      ]
     },
     "execution_count": 11,
     "metadata": {},
     "output_type": "execute_result"
    }
   ],
   "source": [
    "hiddenLayer"
   ]
  },
  {
   "cell_type": "code",
   "execution_count": 12,
   "id": "39739c3c",
   "metadata": {},
   "outputs": [],
   "source": [
    "# 3. zi.wi + bias\n",
    "fx1 = np.dot(hiddenLayer, weightsOutput) + biasOutput"
   ]
  },
  {
   "cell_type": "code",
   "execution_count": 13,
   "id": "1a32acd1",
   "metadata": {},
   "outputs": [
    {
     "data": {
      "text/plain": [
       "array([[1.44450914],\n",
       "       [1.47454642],\n",
       "       [1.42218875]])"
      ]
     },
     "execution_count": 13,
     "metadata": {},
     "output_type": "execute_result"
    }
   ],
   "source": [
    "fx1"
   ]
  },
  {
   "cell_type": "code",
   "execution_count": 14,
   "id": "d91c0a2b",
   "metadata": {},
   "outputs": [],
   "source": [
    "# 4. Apply activation on output\n",
    "output = sigmoid(fx1)"
   ]
  },
  {
   "cell_type": "code",
   "execution_count": 15,
   "id": "56c3d80f",
   "metadata": {},
   "outputs": [
    {
     "data": {
      "text/plain": [
       "array([[0.80915195],\n",
       "       [0.81374744],\n",
       "       [0.80568131]])"
      ]
     },
     "execution_count": 15,
     "metadata": {},
     "output_type": "execute_result"
    }
   ],
   "source": [
    "output"
   ]
  },
  {
   "cell_type": "code",
   "execution_count": 16,
   "id": "4769ba5c",
   "metadata": {},
   "outputs": [],
   "source": [
    "# Backpropagation\n",
    "# Error\n",
    "# Slope\n",
    "# Delta\n",
    "\n",
    "errorOutput = output - y"
   ]
  },
  {
   "cell_type": "code",
   "execution_count": 17,
   "id": "122dd3e6",
   "metadata": {},
   "outputs": [
    {
     "data": {
      "text/plain": [
       "array([[-0.19084805],\n",
       "       [-0.18625256],\n",
       "       [ 0.80568131]])"
      ]
     },
     "execution_count": 17,
     "metadata": {},
     "output_type": "execute_result"
    }
   ],
   "source": [
    "errorOutput"
   ]
  },
  {
   "cell_type": "code",
   "execution_count": 18,
   "id": "18d0bded",
   "metadata": {},
   "outputs": [],
   "source": [
    "slopeOutput = derivativeSigmoid(output)\n",
    "deltaOutput = errorOutput * slopeOutput"
   ]
  },
  {
   "cell_type": "code",
   "execution_count": 20,
   "id": "c4441560",
   "metadata": {},
   "outputs": [],
   "source": [
    "errorHidden = np.dot(deltaOutput, weightsOutput.T)"
   ]
  },
  {
   "cell_type": "code",
   "execution_count": 21,
   "id": "c207f340",
   "metadata": {},
   "outputs": [],
   "source": [
    "slopeHidden = derivativeSigmoid(hiddenLayer)\n",
    "deltaHidden = errorHidden * slopeHidden"
   ]
  },
  {
   "cell_type": "code",
   "execution_count": 24,
   "id": "38b9ab90",
   "metadata": {},
   "outputs": [],
   "source": [
    "weightsOutput = weightsOutput - hiddenLayer.T.dot(deltaOutput) * alpha\n",
    "weightsHidden = weightsHidden - x.T.dot(deltaHidden) * alpha\n",
    "biasOutput = biasOutput - np.sum(deltaOutput) * alpha\n",
    "biasHidden = biasHidden - np.sum(deltaHidden) * alpha"
   ]
  },
  {
   "cell_type": "code",
   "execution_count": 31,
   "id": "4ed703bc",
   "metadata": {},
   "outputs": [],
   "source": [
    "epochs = 50000\n",
    "\n",
    "weightsHidden = np.random.uniform(size=(inputNeurons, hiddenNeurons))\n",
    "biasHidden = np.random.uniform(size=(1, hiddenNeurons))\n",
    "weightsOutput = np.random.uniform(size=(hiddenNeurons, outputNeurons))\n",
    "biasOutput = np.random.uniform(size=(1, outputNeurons))\n",
    "\n",
    "for i in range(epochs):\n",
    "    # Feedforward\n",
    "    fx = np.dot(x, weightsHidden) + biasHidden\n",
    "    hiddenLayer = sigmoid(fx)\n",
    "    fx1 = np.dot(hiddenLayer, weightsOutput) + biasOutput\n",
    "    output = sigmoid(fx1)\n",
    "    \n",
    "    # Backpropagation\n",
    "    errorOutput = output - y\n",
    "    slopeOutput = derivativeSigmoid(output)\n",
    "    deltaOutput = errorOutput * slopeOutput\n",
    "    \n",
    "    errorHidden = np.dot(deltaOutput, weightsOutput.T)\n",
    "    slopeHidden = derivativeSigmoid(hiddenLayer)\n",
    "    deltaHidden = errorHidden * slopeHidden\n",
    "    \n",
    "    weightsOutput = weightsOutput - hiddenLayer.T.dot(deltaOutput) * alpha\n",
    "    weightsHidden = weightsHidden - x.T.dot(deltaHidden) * alpha\n",
    "    biasOutput = biasOutput - np.sum(deltaOutput) * alpha\n",
    "    biasHidden = biasHidden - np.sum(deltaHidden) * alpha"
   ]
  },
  {
   "cell_type": "code",
   "execution_count": 32,
   "id": "cd9ca334",
   "metadata": {},
   "outputs": [
    {
     "data": {
      "text/plain": [
       "array([[0.97890822],\n",
       "       [0.97019839],\n",
       "       [0.05167442]])"
      ]
     },
     "execution_count": 32,
     "metadata": {},
     "output_type": "execute_result"
    }
   ],
   "source": [
    "output"
   ]
  },
  {
   "cell_type": "code",
   "execution_count": 33,
   "id": "6755c33e",
   "metadata": {},
   "outputs": [
    {
     "data": {
      "text/plain": [
       "array([[-0.02109178],\n",
       "       [-0.02980161],\n",
       "       [ 0.05167442]])"
      ]
     },
     "execution_count": 33,
     "metadata": {},
     "output_type": "execute_result"
    }
   ],
   "source": [
    "errorOutput"
   ]
  },
  {
   "cell_type": "code",
   "execution_count": null,
   "id": "2797f5e5",
   "metadata": {},
   "outputs": [],
   "source": []
  }
 ],
 "metadata": {
  "kernelspec": {
   "display_name": "Python 3 (ipykernel)",
   "language": "python",
   "name": "python3"
  },
  "language_info": {
   "codemirror_mode": {
    "name": "ipython",
    "version": 3
   },
   "file_extension": ".py",
   "mimetype": "text/x-python",
   "name": "python",
   "nbconvert_exporter": "python",
   "pygments_lexer": "ipython3",
   "version": "3.9.7"
  }
 },
 "nbformat": 4,
 "nbformat_minor": 5
}
