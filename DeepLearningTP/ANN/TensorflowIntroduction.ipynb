{
 "cells": [
  {
   "cell_type": "code",
   "execution_count": 1,
   "id": "77b07158",
   "metadata": {},
   "outputs": [],
   "source": [
    "import tensorflow as tf"
   ]
  },
  {
   "cell_type": "code",
   "execution_count": 2,
   "id": "0b4d28ad",
   "metadata": {},
   "outputs": [
    {
     "data": {
      "text/plain": [
       "<tf.Variable 'Variable:0' shape=() dtype=int32, numpy=5>"
      ]
     },
     "execution_count": 2,
     "metadata": {},
     "output_type": "execute_result"
    }
   ],
   "source": [
    "tf.Variable(5)"
   ]
  },
  {
   "cell_type": "code",
   "execution_count": 3,
   "id": "32ccab13",
   "metadata": {},
   "outputs": [],
   "source": [
    "x = tf.Variable(5)\n",
    "y = tf.Variable(5)"
   ]
  },
  {
   "cell_type": "code",
   "execution_count": 4,
   "id": "a8e57edf",
   "metadata": {},
   "outputs": [
    {
     "data": {
      "text/plain": [
       "<tf.Tensor: shape=(), dtype=int32, numpy=10>"
      ]
     },
     "execution_count": 4,
     "metadata": {},
     "output_type": "execute_result"
    }
   ],
   "source": [
    "x + y"
   ]
  },
  {
   "cell_type": "code",
   "execution_count": 5,
   "id": "2a994a73",
   "metadata": {},
   "outputs": [
    {
     "data": {
      "text/plain": [
       "<tf.Tensor: shape=(5,), dtype=float32, numpy=array([1., 1., 1., 1., 1.], dtype=float32)>"
      ]
     },
     "execution_count": 5,
     "metadata": {},
     "output_type": "execute_result"
    }
   ],
   "source": [
    "tf.ones(5)"
   ]
  },
  {
   "cell_type": "code",
   "execution_count": 6,
   "id": "a6489ecd",
   "metadata": {},
   "outputs": [
    {
     "data": {
      "text/plain": [
       "<tf.Tensor: shape=(5, 5), dtype=float32, numpy=\n",
       "array([[1., 1., 1., 1., 1.],\n",
       "       [1., 1., 1., 1., 1.],\n",
       "       [1., 1., 1., 1., 1.],\n",
       "       [1., 1., 1., 1., 1.],\n",
       "       [1., 1., 1., 1., 1.]], dtype=float32)>"
      ]
     },
     "execution_count": 6,
     "metadata": {},
     "output_type": "execute_result"
    }
   ],
   "source": [
    "tf.ones([5,5])"
   ]
  },
  {
   "cell_type": "code",
   "execution_count": 7,
   "id": "52169e2d",
   "metadata": {},
   "outputs": [
    {
     "data": {
      "text/plain": [
       "<tf.Tensor: shape=(4, 5), dtype=float32, numpy=\n",
       "array([[0., 0., 0., 0., 0.],\n",
       "       [0., 0., 0., 0., 0.],\n",
       "       [0., 0., 0., 0., 0.],\n",
       "       [0., 0., 0., 0., 0.]], dtype=float32)>"
      ]
     },
     "execution_count": 7,
     "metadata": {},
     "output_type": "execute_result"
    }
   ],
   "source": [
    "tf.zeros([4,5])"
   ]
  },
  {
   "cell_type": "code",
   "execution_count": 15,
   "id": "1159210c",
   "metadata": {},
   "outputs": [],
   "source": [
    "# Sequential - Used to Create Model\n",
    "from tensorflow.keras.models import Sequential\n",
    "# Dense - Used to add input layer, hidden layer or output layer\n",
    "# Flatten - Used when input data is image\n",
    "from tensorflow.keras.layers import Dense, Flatten"
   ]
  },
  {
   "cell_type": "code",
   "execution_count": 16,
   "id": "07fc88df",
   "metadata": {},
   "outputs": [],
   "source": [
    "(x_train, y_train), (x_test, y_test) = tf.keras.datasets.mnist.load_data()"
   ]
  },
  {
   "cell_type": "code",
   "execution_count": 17,
   "id": "2d9335d0",
   "metadata": {},
   "outputs": [
    {
     "data": {
      "text/plain": [
       "(60000, 28, 28)"
      ]
     },
     "execution_count": 17,
     "metadata": {},
     "output_type": "execute_result"
    }
   ],
   "source": [
    "x_train.shape"
   ]
  },
  {
   "cell_type": "code",
   "execution_count": 18,
   "id": "f6262940",
   "metadata": {},
   "outputs": [],
   "source": [
    "import matplotlib.pyplot as plt"
   ]
  },
  {
   "cell_type": "code",
   "execution_count": 19,
   "id": "5b9465df",
   "metadata": {},
   "outputs": [
    {
     "data": {
      "text/plain": [
       "<matplotlib.image.AxesImage at 0x25138ef2ac0>"
      ]
     },
     "execution_count": 19,
     "metadata": {},
     "output_type": "execute_result"
    },
    {
     "data": {
      "image/png": "[encoded data removed]",
      "text/plain": [
       "<Figure size 432x288 with 1 Axes>"
      ]
     },
     "metadata": {
      "needs_background": "light"
     },
     "output_type": "display_data"
    }
   ],
   "source": [
    "plt.imshow(x_train[1000])"
   ]
  },
  {
   "cell_type": "code",
   "execution_count": 20,
   "id": "fd02a31b",
   "metadata": {},
   "outputs": [],
   "source": [
    "# Normalization\n",
    "x_train, x_test = x_train / 255.0, x_test / 255.0"
   ]
  },
  {
   "cell_type": "code",
   "execution_count": 69,
   "id": "a278bfc8",
   "metadata": {},
   "outputs": [],
   "source": [
    "# model = Sequential([\n",
    "#     # used to convert ND to 1D, so it will make 784 neurons in input layer\n",
    "#     Flatten(input_shape=(28,28)), # input layer : 784 neurons\n",
    "#     Dense(512, activation=\"tanh\"), # Hidden Layer : 512 neurons\n",
    "#     Dense(256, activation=\"tanh\"), # Hidden Layer : 256 neurons\n",
    "#     Dense(10, activation=\"softmax\") # Output Layer : 10 neurons\n",
    "# ])\n",
    "\n",
    "model = Sequential()\n",
    "model.add(Flatten(input_shape=(28,28)))\n",
    "model.add(Dense(10, activation=\"relu\"))\n",
    "model.add(Dense(15, activation=\"tanh\"))\n",
    "model.add(Dense(10, activation=\"softmax\"))"
   ]
  },
  {
   "cell_type": "code",
   "execution_count": 70,
   "id": "6bfbf92c",
   "metadata": {},
   "outputs": [
    {
     "name": "stdout",
     "output_type": "stream",
     "text": [
      "Model: \"sequential_9\"\n",
      "_________________________________________________________________\n",
      " Layer (type)                Output Shape              Param #   \n",
      "=================================================================\n",
      " flatten_9 (Flatten)         (None, 784)               0         \n",
      "                                                                 \n",
      " dense_25 (Dense)            (None, 10)                7850      \n",
      "                                                                 \n",
      " dense_26 (Dense)            (None, 15)                165       \n",
      "                                                                 \n",
      " dense_27 (Dense)            (None, 10)                160       \n",
      "                                                                 \n",
      "=================================================================\n",
      "Total params: 8,175\n",
      "Trainable params: 8,175\n",
      "Non-trainable params: 0\n",
      "_________________________________________________________________\n"
     ]
    }
   ],
   "source": [
    "model.summary()"
   ]
  },
  {
   "cell_type": "code",
   "execution_count": 73,
   "id": "0a52532e",
   "metadata": {},
   "outputs": [],
   "source": [
    "# model.compile(optimizer=\"adam\",\n",
    "#              loss=tf.keras.losses.BinaryCrossentropy(from_logits=True),\n",
    "#               metrics=[tf.keras.metrics.AUC(from_logits=True)])\n",
    "\n",
    "model.compile(optimizer=\"rmsprop\",\n",
    "             loss=tf.keras.losses.SparseCategoricalCrossentropy(from_logits=True),\n",
    "              metrics=['accuracy'])"
   ]
  },
  {
   "cell_type": "code",
   "execution_count": 74,
   "id": "94bbfd04",
   "metadata": {},
   "outputs": [
    {
     "name": "stdout",
     "output_type": "stream",
     "text": [
      "Epoch 1/5\n",
      "1875/1875 [==============================] - 2s 880us/step - loss: 0.3089 - accuracy: 0.9107 - val_loss: 0.2674 - val_accuracy: 0.9208\n",
      "Epoch 2/5\n",
      "1875/1875 [==============================] - 1s 772us/step - loss: 0.2616 - accuracy: 0.9229 - val_loss: 0.2499 - val_accuracy: 0.9293\n",
      "Epoch 3/5\n",
      "1875/1875 [==============================] - 1s 769us/step - loss: 0.2402 - accuracy: 0.9289 - val_loss: 0.2567 - val_accuracy: 0.9245\n",
      "Epoch 4/5\n",
      "1875/1875 [==============================] - 1s 784us/step - loss: 0.2267 - accuracy: 0.9336 - val_loss: 0.2338 - val_accuracy: 0.9317\n",
      "Epoch 5/5\n",
      "1875/1875 [==============================] - 1s 779us/step - loss: 0.2186 - accuracy: 0.9352 - val_loss: 0.2304 - val_accuracy: 0.9330\n"
     ]
    },
    {
     "data": {
      "text/plain": [
       "<keras.callbacks.History at 0x251662fad60>"
      ]
     },
     "execution_count": 74,
     "metadata": {},
     "output_type": "execute_result"
    }
   ],
   "source": [
    "model.fit(x_train,y_train, epochs=5, validation_data=(x_test, y_test))"
   ]
  },
  {
   "cell_type": "code",
   "execution_count": 27,
   "id": "fc5c0b0a",
   "metadata": {},
   "outputs": [],
   "source": [
    "# model.history.history"
   ]
  },
  {
   "cell_type": "code",
   "execution_count": 75,
   "id": "34066296",
   "metadata": {},
   "outputs": [
    {
     "data": {
      "image/png": "[encoded data removed]",
      "text/plain": [
       "<Figure size 432x288 with 1 Axes>"
      ]
     },
     "metadata": {
      "needs_background": "light"
     },
     "output_type": "display_data"
    }
   ],
   "source": [
    "plt.plot(model.history.history['accuracy'], label='Train Accuracy')\n",
    "plt.plot(model.history.history['val_accuracy'], label='Test Accuracy')\n",
    "plt.legend()\n",
    "plt.show()"
   ]
  },
  {
   "cell_type": "code",
   "execution_count": 76,
   "id": "0f53242a",
   "metadata": {},
   "outputs": [
    {
     "data": {
      "image/png": "[encoded data removed]",
      "text/plain": [
       "<Figure size 432x288 with 1 Axes>"
      ]
     },
     "metadata": {
      "needs_background": "light"
     },
     "output_type": "display_data"
    }
   ],
   "source": [
    "plt.plot(model.history.history['loss'], label='Train Loss')\n",
    "plt.plot(model.history.history['val_loss'], label='Test Loss')\n",
    "plt.legend()\n",
    "plt.show()"
   ]
  },
  {
   "cell_type": "code",
   "execution_count": null,
   "id": "27bffb53",
   "metadata": {},
   "outputs": [],
   "source": []
  }
 ],
 "metadata": {
  "kernelspec": {
   "display_name": "Python 3 (ipykernel)",
   "language": "python",
   "name": "python3"
  },
  "language_info": {
   "codemirror_mode": {
    "name": "ipython",
    "version": 3
   },
   "file_extension": ".py",
   "mimetype": "text/x-python",
   "name": "python",
   "nbconvert_exporter": "python",
   "pygments_lexer": "ipython3",
   "version": "3.9.7"
  }
 },
 "nbformat": 4,
 "nbformat_minor": 5
}
