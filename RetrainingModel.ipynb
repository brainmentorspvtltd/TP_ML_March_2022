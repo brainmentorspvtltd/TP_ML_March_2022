{
 "cells": [
  {
   "cell_type": "code",
   "execution_count": 12,
   "id": "f08064a6",
   "metadata": {},
   "outputs": [],
   "source": [
    "from creme import feature_extraction\n",
    "from creme import linear_model, naive_bayes\n",
    "from creme import compose\n",
    "from creme import metrics\n",
    "from creme import preprocessing"
   ]
  },
  {
   "cell_type": "code",
   "execution_count": 3,
   "id": "2690adca",
   "metadata": {},
   "outputs": [],
   "source": [
    "# bow - bag of words\n",
    "# TF - Term Frequency\n",
    "# IDF - Inverse Document Frequency\n",
    "bow = feature_extraction.TFIDF()"
   ]
  },
  {
   "cell_type": "code",
   "execution_count": 8,
   "id": "d4af5b69",
   "metadata": {},
   "outputs": [
    {
     "name": "stdout",
     "output_type": "stream",
     "text": [
      "{'movie': 0.5, 'was': 0.5, 'very': 0.5, 'good': 0.5}\n",
      "{'worst': 0.5773502691896257, 'movie': 0.5773502691896257, 'ever': 0.5773502691896257}\n",
      "{'very': 0.5773502691896257, 'nice': 0.5773502691896257, 'movie': 0.5773502691896257}\n",
      "{'movie': 0.5773502691896257, 'was': 0.5773502691896257, 'amazing': 0.5773502691896257}\n"
     ]
    }
   ],
   "source": [
    "data = [\n",
    "    'Movie was very good',\n",
    "    'Worst movie ever',\n",
    "    'Very nice movie',\n",
    "    'movie was amazing'\n",
    "]\n",
    "for sentence in data:\n",
    "    print(bow.transform_one(sentence))"
   ]
  },
  {
   "cell_type": "code",
   "execution_count": 19,
   "id": "d76416ef",
   "metadata": {},
   "outputs": [],
   "source": [
    "model = compose.Pipeline(\n",
    "    ('tokenize', feature_extraction.BagOfWords(lowercase=True)),\n",
    "#     ('logistic', linear_model.LogisticRegression())\n",
    "    ('nb', naive_bayes.MultinomialNB())\n",
    ")"
   ]
  },
  {
   "cell_type": "code",
   "execution_count": 41,
   "id": "33aff86d",
   "metadata": {},
   "outputs": [],
   "source": [
    "data = [('Movie was very good', 'yes'),\n",
    "       ('Worst movie ever','no'),\n",
    "       ('Very nice movie', 'yes'),\n",
    "       ('movie was amazing', 'yes')]"
   ]
  },
  {
   "cell_type": "code",
   "execution_count": 42,
   "id": "ad8b834e",
   "metadata": {},
   "outputs": [],
   "source": [
    "for review, sentiment in data:\n",
    "    model = model.fit_one(review, sentiment)"
   ]
  },
  {
   "cell_type": "code",
   "execution_count": 43,
   "id": "ce397d26",
   "metadata": {},
   "outputs": [
    {
     "data": {
      "text/plain": [
       "'yes'"
      ]
     },
     "execution_count": 43,
     "metadata": {},
     "output_type": "execute_result"
    }
   ],
   "source": [
    "model.predict_one('Yesterday I was watching a movie it was nice')"
   ]
  },
  {
   "cell_type": "code",
   "execution_count": 44,
   "id": "39189644",
   "metadata": {},
   "outputs": [],
   "source": [
    "# new_review = \"Movie was ok, average movie\"\n",
    "new_review = \"Movie was not ok\""
   ]
  },
  {
   "cell_type": "code",
   "execution_count": 45,
   "id": "7aa474d8",
   "metadata": {},
   "outputs": [
    {
     "data": {
      "text/plain": [
       "'yes'"
      ]
     },
     "execution_count": 45,
     "metadata": {},
     "output_type": "execute_result"
    }
   ],
   "source": [
    "model.predict_one(new_review)"
   ]
  },
  {
   "cell_type": "code",
   "execution_count": 46,
   "id": "7dfcfa19",
   "metadata": {},
   "outputs": [
    {
     "data": {
      "text/plain": [
       "Pipeline (\n",
       "  BagOfWords (\n",
       "    on=None\n",
       "    strip_accents=True\n",
       "    lowercase=True\n",
       "    preprocessor=None\n",
       "    tokenizer=<built-in method findall of re.Pattern object at 0x000002072D8185E0>\n",
       "    ngram_range=(1, 1)\n",
       "  ),\n",
       "  MultinomialNB (\n",
       "    alpha=1.\n",
       "  )\n",
       ")"
      ]
     },
     "execution_count": 46,
     "metadata": {},
     "output_type": "execute_result"
    }
   ],
   "source": [
    "model.fit_one(new_review, 'neutral')"
   ]
  },
  {
   "cell_type": "code",
   "execution_count": 47,
   "id": "b92e9f17",
   "metadata": {},
   "outputs": [
    {
     "data": {
      "text/plain": [
       "'neutral'"
      ]
     },
     "execution_count": 47,
     "metadata": {},
     "output_type": "execute_result"
    }
   ],
   "source": [
    "model.predict_one(new_review)"
   ]
  },
  {
   "cell_type": "code",
   "execution_count": null,
   "id": "01d87cf5",
   "metadata": {},
   "outputs": [],
   "source": []
  }
 ],
 "metadata": {
  "kernelspec": {
   "display_name": "Python 3 (ipykernel)",
   "language": "python",
   "name": "python3"
  },
  "language_info": {
   "codemirror_mode": {
    "name": "ipython",
    "version": 3
   },
   "file_extension": ".py",
   "mimetype": "text/x-python",
   "name": "python",
   "nbconvert_exporter": "python",
   "pygments_lexer": "ipython3",
   "version": "3.9.7"
  }
 },
 "nbformat": 4,
 "nbformat_minor": 5
}
