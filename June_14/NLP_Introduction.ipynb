{
 "cells": [
  {
   "cell_type": "code",
   "execution_count": 1,
   "id": "33cf3b82",
   "metadata": {},
   "outputs": [],
   "source": [
    "# nltk - natural language toolkit\n",
    "# 1. Tokenization\n",
    "from nltk.tokenize import word_tokenize\n",
    "# 2. Remove stopwords and Punctuations\n",
    "from nltk.corpus import stopwords\n",
    "import string\n",
    "# 3. Lemmatization / Stemming\n",
    "from nltk.stem import WordNetLemmatizer\n",
    "# 4. Bag of words\n",
    "from sklearn.feature_extraction.text import CountVectorizer, TfidfVectorizer"
   ]
  },
  {
   "cell_type": "code",
   "execution_count": 14,
   "id": "a469f73f",
   "metadata": {},
   "outputs": [],
   "source": [
    "documents = [\n",
    "    \"The product is worth buying. I loved the finishing of product...!!\",\n",
    "    \"Worst product ever. I was not expecting this from flipkart\",\n",
    "    \"Iphone is the best phone and iphone 12 comes with great features...\"\n",
    "]"
   ]
  },
  {
   "cell_type": "code",
   "execution_count": 15,
   "id": "5d4cf740",
   "metadata": {},
   "outputs": [],
   "source": [
    "# documents[0].split()"
   ]
  },
  {
   "cell_type": "code",
   "execution_count": 16,
   "id": "20cfe883",
   "metadata": {},
   "outputs": [
    {
     "name": "stdout",
     "output_type": "stream",
     "text": [
      "['The', 'product', 'is', 'worth', 'buying', '.', 'I', 'loved', 'the', 'finishing', 'of', 'product', '...', '!', '!']\n"
     ]
    }
   ],
   "source": [
    "print(word_tokenize(documents[0]))"
   ]
  },
  {
   "cell_type": "code",
   "execution_count": 17,
   "id": "ec41789b",
   "metadata": {},
   "outputs": [
    {
     "data": {
      "text/plain": [
       "'!\"#$%&\\'()*+,-./:;<=>?@[\\\\]^_`{|}~'"
      ]
     },
     "execution_count": 17,
     "metadata": {},
     "output_type": "execute_result"
    }
   ],
   "source": [
    "string.punctuation"
   ]
  },
  {
   "cell_type": "code",
   "execution_count": 18,
   "id": "7098b49e",
   "metadata": {},
   "outputs": [
    {
     "name": "stdout",
     "output_type": "stream",
     "text": [
      "{33: None, 34: None, 35: None, 36: None, 37: None, 38: None, 39: None, 40: None, 41: None, 42: None, 43: None, 44: None, 45: None, 46: None, 47: None, 58: None, 59: None, 60: None, 61: None, 62: None, 63: None, 64: None, 91: None, 92: None, 93: None, 94: None, 95: None, 96: None, 123: None, 124: None, 125: None, 126: None}\n"
     ]
    }
   ],
   "source": [
    "print(str.maketrans('', '', string.punctuation))"
   ]
  },
  {
   "cell_type": "code",
   "execution_count": 19,
   "id": "20fe94c1",
   "metadata": {},
   "outputs": [],
   "source": [
    "table = str.maketrans('', '', string.punctuation)"
   ]
  },
  {
   "cell_type": "code",
   "execution_count": 20,
   "id": "7ef9914b",
   "metadata": {},
   "outputs": [
    {
     "data": {
      "text/plain": [
       "'The product is worth buying I loved the finishing of product'"
      ]
     },
     "execution_count": 20,
     "metadata": {},
     "output_type": "execute_result"
    }
   ],
   "source": [
    "documents[0].translate(table)"
   ]
  },
  {
   "cell_type": "code",
   "execution_count": 21,
   "id": "06374a9b",
   "metadata": {},
   "outputs": [
    {
     "name": "stdout",
     "output_type": "stream",
     "text": [
      "the product is worth buying i loved the finishing of product\n",
      "worst product ever i was not expecting this from flipkart\n",
      "iphone is the best phone and iphone 12 comes with great features\n"
     ]
    }
   ],
   "source": [
    "tokens = []\n",
    "for i in range(len(documents)):\n",
    "    sent = documents[i].lower().translate(table)\n",
    "    print(sent)\n",
    "    tokens.append(word_tokenize(sent))"
   ]
  },
  {
   "cell_type": "code",
   "execution_count": 22,
   "id": "71c650df",
   "metadata": {},
   "outputs": [
    {
     "name": "stdout",
     "output_type": "stream",
     "text": [
      "[['the', 'product', 'is', 'worth', 'buying', 'i', 'loved', 'the', 'finishing', 'of', 'product'], ['worst', 'product', 'ever', 'i', 'was', 'not', 'expecting', 'this', 'from', 'flipkart'], ['iphone', 'is', 'the', 'best', 'phone', 'and', 'iphone', '12', 'comes', 'with', 'great', 'features']]\n"
     ]
    }
   ],
   "source": [
    "print(tokens)"
   ]
  },
  {
   "cell_type": "code",
   "execution_count": 24,
   "id": "3440a246",
   "metadata": {},
   "outputs": [
    {
     "name": "stdout",
     "output_type": "stream",
     "text": [
      "['i', 'me', 'my', 'myself', 'we', 'our', 'ours', 'ourselves', 'you', \"you're\", \"you've\", \"you'll\", \"you'd\", 'your', 'yours', 'yourself', 'yourselves', 'he', 'him', 'his', 'himself', 'she', \"she's\", 'her', 'hers', 'herself', 'it', \"it's\", 'its', 'itself', 'they', 'them', 'their', 'theirs', 'themselves', 'what', 'which', 'who', 'whom', 'this', 'that', \"that'll\", 'these', 'those', 'am', 'is', 'are', 'was', 'were', 'be', 'been', 'being', 'have', 'has', 'had', 'having', 'do', 'does', 'did', 'doing', 'a', 'an', 'the', 'and', 'but', 'if', 'or', 'because', 'as', 'until', 'while', 'of', 'at', 'by', 'for', 'with', 'about', 'against', 'between', 'into', 'through', 'during', 'before', 'after', 'above', 'below', 'to', 'from', 'up', 'down', 'in', 'out', 'on', 'off', 'over', 'under', 'again', 'further', 'then', 'once', 'here', 'there', 'when', 'where', 'why', 'how', 'all', 'any', 'both', 'each', 'few', 'more', 'most', 'other', 'some', 'such', 'no', 'nor', 'not', 'only', 'own', 'same', 'so', 'than', 'too', 'very', 's', 't', 'can', 'will', 'just', 'don', \"don't\", 'should', \"should've\", 'now', 'd', 'll', 'm', 'o', 're', 've', 'y', 'ain', 'aren', \"aren't\", 'couldn', \"couldn't\", 'didn', \"didn't\", 'doesn', \"doesn't\", 'hadn', \"hadn't\", 'hasn', \"hasn't\", 'haven', \"haven't\", 'isn', \"isn't\", 'ma', 'mightn', \"mightn't\", 'mustn', \"mustn't\", 'needn', \"needn't\", 'shan', \"shan't\", 'shouldn', \"shouldn't\", 'wasn', \"wasn't\", 'weren', \"weren't\", 'won', \"won't\", 'wouldn', \"wouldn't\"]\n"
     ]
    }
   ],
   "source": [
    "print(stopwords.words(\"english\"))"
   ]
  },
  {
   "cell_type": "code",
   "execution_count": 25,
   "id": "6907e419",
   "metadata": {},
   "outputs": [],
   "source": [
    "eng_stopwords = stopwords.words(\"english\")\n",
    "wordsList = []\n",
    "for i in range(len(tokens)):\n",
    "    words = []\n",
    "    for token in tokens[i]:\n",
    "        if token not in eng_stopwords:\n",
    "            words.append(token)\n",
    "    wordsList.append(words)"
   ]
  },
  {
   "cell_type": "code",
   "execution_count": 26,
   "id": "1bb9f1bc",
   "metadata": {},
   "outputs": [
    {
     "name": "stdout",
     "output_type": "stream",
     "text": [
      "[['product', 'worth', 'buying', 'loved', 'finishing', 'product'], ['worst', 'product', 'ever', 'expecting', 'flipkart'], ['iphone', 'best', 'phone', 'iphone', '12', 'comes', 'great', 'features']]\n"
     ]
    }
   ],
   "source": [
    "print(wordsList)"
   ]
  },
  {
   "cell_type": "code",
   "execution_count": 27,
   "id": "2cf6251f",
   "metadata": {},
   "outputs": [],
   "source": [
    "wnet = WordNetLemmatizer()"
   ]
  },
  {
   "cell_type": "code",
   "execution_count": 28,
   "id": "893eeca0",
   "metadata": {},
   "outputs": [
    {
     "data": {
      "text/plain": [
       "'playing'"
      ]
     },
     "execution_count": 28,
     "metadata": {},
     "output_type": "execute_result"
    }
   ],
   "source": [
    "wnet.lemmatize('playing')"
   ]
  },
  {
   "cell_type": "code",
   "execution_count": 29,
   "id": "a173089a",
   "metadata": {},
   "outputs": [
    {
     "data": {
      "text/plain": [
       "'play'"
      ]
     },
     "execution_count": 29,
     "metadata": {},
     "output_type": "execute_result"
    }
   ],
   "source": [
    "# 'v' - verb\n",
    "# 'n' - noun\n",
    "# pos - part of speec\n",
    "wnet.lemmatize('playing', pos='v')"
   ]
  },
  {
   "cell_type": "code",
   "execution_count": 30,
   "id": "edf099d9",
   "metadata": {},
   "outputs": [
    {
     "data": {
      "text/plain": [
       "'buy'"
      ]
     },
     "execution_count": 30,
     "metadata": {},
     "output_type": "execute_result"
    }
   ],
   "source": [
    "wnet.lemmatize('buying', pos='v')"
   ]
  },
  {
   "cell_type": "code",
   "execution_count": 31,
   "id": "8cab2896",
   "metadata": {},
   "outputs": [
    {
     "data": {
      "text/plain": [
       "'love'"
      ]
     },
     "execution_count": 31,
     "metadata": {},
     "output_type": "execute_result"
    }
   ],
   "source": [
    "wnet.lemmatize('loved', pos='v')"
   ]
  },
  {
   "cell_type": "code",
   "execution_count": 33,
   "id": "75864f84",
   "metadata": {},
   "outputs": [],
   "source": [
    "for i in range(len(wordsList)):\n",
    "    for j in range(len(wordsList[i])):\n",
    "        wordsList[i][j] = wnet.lemmatize(wordsList[i][j], pos='v')"
   ]
  },
  {
   "cell_type": "code",
   "execution_count": 34,
   "id": "b7018a23",
   "metadata": {},
   "outputs": [
    {
     "name": "stdout",
     "output_type": "stream",
     "text": [
      "[['product', 'worth', 'buy', 'love', 'finish', 'product'], ['worst', 'product', 'ever', 'expect', 'flipkart'], ['iphone', 'best', 'phone', 'iphone', '12', 'come', 'great', 'feature']]\n"
     ]
    }
   ],
   "source": [
    "print(wordsList)"
   ]
  },
  {
   "cell_type": "code",
   "execution_count": 35,
   "id": "fa0c0185",
   "metadata": {},
   "outputs": [],
   "source": [
    "for i in range(len(wordsList)):\n",
    "    wordsList[i] = \" \".join(wordsList[i])"
   ]
  },
  {
   "cell_type": "code",
   "execution_count": 36,
   "id": "77991a15",
   "metadata": {},
   "outputs": [
    {
     "data": {
      "text/plain": [
       "['product worth buy love finish product',\n",
       " 'worst product ever expect flipkart',\n",
       " 'iphone best phone iphone 12 come great feature']"
      ]
     },
     "execution_count": 36,
     "metadata": {},
     "output_type": "execute_result"
    }
   ],
   "source": [
    "wordsList"
   ]
  },
  {
   "cell_type": "code",
   "execution_count": 37,
   "id": "8d205b98",
   "metadata": {},
   "outputs": [
    {
     "data": {
      "text/plain": [
       "TfidfVectorizer()"
      ]
     },
     "execution_count": 37,
     "metadata": {},
     "output_type": "execute_result"
    }
   ],
   "source": [
    "tfidf = TfidfVectorizer()\n",
    "tfidf.fit(wordsList)"
   ]
  },
  {
   "cell_type": "code",
   "execution_count": 39,
   "id": "7db02ff3",
   "metadata": {},
   "outputs": [
    {
     "name": "stdout",
     "output_type": "stream",
     "text": [
      "{'product': 13, 'worth': 15, 'buy': 2, 'love': 11, 'finish': 7, 'worst': 14, 'ever': 4, 'expect': 5, 'flipkart': 8, 'iphone': 10, 'best': 1, 'phone': 12, '12': 0, 'come': 3, 'great': 9, 'feature': 6}\n"
     ]
    }
   ],
   "source": [
    "print(tfidf.vocabulary_)"
   ]
  },
  {
   "cell_type": "code",
   "execution_count": 40,
   "id": "e69dde6b",
   "metadata": {},
   "outputs": [
    {
     "data": {
      "text/plain": [
       "<3x16 sparse matrix of type '<class 'numpy.float64'>'\n",
       "\twith 17 stored elements in Compressed Sparse Row format>"
      ]
     },
     "execution_count": 40,
     "metadata": {},
     "output_type": "execute_result"
    }
   ],
   "source": [
    "tfidf.transform(wordsList)"
   ]
  },
  {
   "cell_type": "code",
   "execution_count": 41,
   "id": "3639b73a",
   "metadata": {},
   "outputs": [
    {
     "data": {
      "text/plain": [
       "array([[0.        , 0.        , 0.39798027, 0.        , 0.        ,\n",
       "        0.        , 0.        , 0.39798027, 0.        , 0.        ,\n",
       "        0.        , 0.39798027, 0.        , 0.60534851, 0.        ,\n",
       "        0.39798027],\n",
       "       [0.        , 0.        , 0.        , 0.        , 0.46735098,\n",
       "        0.46735098, 0.        , 0.        , 0.46735098, 0.        ,\n",
       "        0.        , 0.        , 0.        , 0.35543247, 0.46735098,\n",
       "        0.        ],\n",
       "       [0.31622777, 0.31622777, 0.        , 0.31622777, 0.        ,\n",
       "        0.        , 0.31622777, 0.        , 0.        , 0.31622777,\n",
       "        0.63245553, 0.        , 0.31622777, 0.        , 0.        ,\n",
       "        0.        ]])"
      ]
     },
     "execution_count": 41,
     "metadata": {},
     "output_type": "execute_result"
    }
   ],
   "source": [
    "tfidf.transform(wordsList).toarray()"
   ]
  },
  {
   "cell_type": "code",
   "execution_count": null,
   "id": "14be2f33",
   "metadata": {},
   "outputs": [],
   "source": []
  }
 ],
 "metadata": {
  "kernelspec": {
   "display_name": "Python 3 (ipykernel)",
   "language": "python",
   "name": "python3"
  },
  "language_info": {
   "codemirror_mode": {
    "name": "ipython",
    "version": 3
   },
   "file_extension": ".py",
   "mimetype": "text/x-python",
   "name": "python",
   "nbconvert_exporter": "python",
   "pygments_lexer": "ipython3",
   "version": "3.9.7"
  }
 },
 "nbformat": 4,
 "nbformat_minor": 5
}
