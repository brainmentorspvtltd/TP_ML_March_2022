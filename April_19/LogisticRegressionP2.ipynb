{
 "cells": [
  {
   "cell_type": "code",
   "execution_count": 1,
   "id": "e84f9580",
   "metadata": {},
   "outputs": [],
   "source": [
    "import numpy as np\n",
    "import pandas as pd\n",
    "import random\n",
    "import copy"
   ]
  },
  {
   "cell_type": "code",
   "execution_count": 2,
   "id": "ec466f47",
   "metadata": {},
   "outputs": [],
   "source": [
    "df = pd.read_csv('diabetes.csv')"
   ]
  },
  {
   "cell_type": "code",
   "execution_count": 3,
   "id": "96202162",
   "metadata": {},
   "outputs": [
    {
     "data": {
      "text/html": [
       "<div>\n",
       "<style scoped>\n",
       "    .dataframe tbody tr th:only-of-type {\n",
       "        vertical-align: middle;\n",
       "    }\n",
       "\n",
       "    .dataframe tbody tr th {\n",
       "        vertical-align: top;\n",
       "    }\n",
       "\n",
       "    .dataframe thead th {\n",
       "        text-align: right;\n",
       "    }\n",
       "</style>\n",
       "<table border=\"1\" class=\"dataframe\">\n",
       "  <thead>\n",
       "    <tr style=\"text-align: right;\">\n",
       "      <th></th>\n",
       "      <th>Pregnancies</th>\n",
       "      <th>Glucose</th>\n",
       "      <th>BloodPressure</th>\n",
       "      <th>SkinThickness</th>\n",
       "      <th>Insulin</th>\n",
       "      <th>BMI</th>\n",
       "      <th>DiabetesPedigreeFunction</th>\n",
       "      <th>Age</th>\n",
       "      <th>Outcome</th>\n",
       "    </tr>\n",
       "  </thead>\n",
       "  <tbody>\n",
       "    <tr>\n",
       "      <th>0</th>\n",
       "      <td>6</td>\n",
       "      <td>148</td>\n",
       "      <td>72</td>\n",
       "      <td>35</td>\n",
       "      <td>0</td>\n",
       "      <td>33.6</td>\n",
       "      <td>0.627</td>\n",
       "      <td>50</td>\n",
       "      <td>1</td>\n",
       "    </tr>\n",
       "    <tr>\n",
       "      <th>1</th>\n",
       "      <td>1</td>\n",
       "      <td>85</td>\n",
       "      <td>66</td>\n",
       "      <td>29</td>\n",
       "      <td>0</td>\n",
       "      <td>26.6</td>\n",
       "      <td>0.351</td>\n",
       "      <td>31</td>\n",
       "      <td>0</td>\n",
       "    </tr>\n",
       "    <tr>\n",
       "      <th>2</th>\n",
       "      <td>8</td>\n",
       "      <td>183</td>\n",
       "      <td>64</td>\n",
       "      <td>0</td>\n",
       "      <td>0</td>\n",
       "      <td>23.3</td>\n",
       "      <td>0.672</td>\n",
       "      <td>32</td>\n",
       "      <td>1</td>\n",
       "    </tr>\n",
       "    <tr>\n",
       "      <th>3</th>\n",
       "      <td>1</td>\n",
       "      <td>89</td>\n",
       "      <td>66</td>\n",
       "      <td>23</td>\n",
       "      <td>94</td>\n",
       "      <td>28.1</td>\n",
       "      <td>0.167</td>\n",
       "      <td>21</td>\n",
       "      <td>0</td>\n",
       "    </tr>\n",
       "    <tr>\n",
       "      <th>4</th>\n",
       "      <td>0</td>\n",
       "      <td>137</td>\n",
       "      <td>40</td>\n",
       "      <td>35</td>\n",
       "      <td>168</td>\n",
       "      <td>43.1</td>\n",
       "      <td>2.288</td>\n",
       "      <td>33</td>\n",
       "      <td>1</td>\n",
       "    </tr>\n",
       "  </tbody>\n",
       "</table>\n",
       "</div>"
      ],
      "text/plain": [
       "   Pregnancies  Glucose  BloodPressure  SkinThickness  Insulin   BMI  \\\n",
       "0            6      148             72             35        0  33.6   \n",
       "1            1       85             66             29        0  26.6   \n",
       "2            8      183             64              0        0  23.3   \n",
       "3            1       89             66             23       94  28.1   \n",
       "4            0      137             40             35      168  43.1   \n",
       "\n",
       "   DiabetesPedigreeFunction  Age  Outcome  \n",
       "0                     0.627   50        1  \n",
       "1                     0.351   31        0  \n",
       "2                     0.672   32        1  \n",
       "3                     0.167   21        0  \n",
       "4                     2.288   33        1  "
      ]
     },
     "execution_count": 3,
     "metadata": {},
     "output_type": "execute_result"
    }
   ],
   "source": [
    "df.head()"
   ]
  },
  {
   "cell_type": "code",
   "execution_count": 4,
   "id": "a28d38d2",
   "metadata": {},
   "outputs": [
    {
     "data": {
      "text/plain": [
       "0    500\n",
       "1    268\n",
       "Name: Outcome, dtype: int64"
      ]
     },
     "execution_count": 4,
     "metadata": {},
     "output_type": "execute_result"
    }
   ],
   "source": [
    "pd.value_counts(df['Outcome'])"
   ]
  },
  {
   "cell_type": "code",
   "execution_count": 5,
   "id": "f797eca1",
   "metadata": {},
   "outputs": [],
   "source": [
    "# feature scaling\n",
    "def minMaxScaler(x):\n",
    "    minValues = []\n",
    "    maxValues = []\n",
    "    for i in range(len(x[0])):\n",
    "        data = []\n",
    "        for j in range(len(x)):\n",
    "            data.append(x[j][i])\n",
    "        minValues.append(min(data))\n",
    "        maxValues.append(max(data))\n",
    "    \n",
    "    for i in range(len(x[0])):\n",
    "        for j in range(len(x)):\n",
    "            numer = x[j][i] - minValues[i]\n",
    "            denom = maxValues[i] - minValues[i]\n",
    "            x[j][i] = numer / denom\n",
    "    \n",
    "    return x\n",
    "    "
   ]
  },
  {
   "cell_type": "code",
   "execution_count": 6,
   "id": "444cb8a7",
   "metadata": {},
   "outputs": [],
   "source": [
    "x = minMaxScaler(df.values)"
   ]
  },
  {
   "cell_type": "code",
   "execution_count": 7,
   "id": "2879c7fd",
   "metadata": {},
   "outputs": [
    {
     "data": {
      "text/plain": [
       "array([0.35294118, 0.74371859, 0.59016393, 0.35353535, 0.        ,\n",
       "       0.50074516, 0.23441503, 0.48333333, 1.        ])"
      ]
     },
     "execution_count": 7,
     "metadata": {},
     "output_type": "execute_result"
    }
   ],
   "source": [
    "x[0]"
   ]
  },
  {
   "cell_type": "code",
   "execution_count": null,
   "id": "a040d5d2",
   "metadata": {},
   "outputs": [],
   "source": []
  },
  {
   "cell_type": "code",
   "execution_count": 8,
   "id": "616489cc",
   "metadata": {},
   "outputs": [],
   "source": [
    "# train test split\n",
    "def cross_validation(dataset, k=5):\n",
    "    dataset_copy = list(dataset)\n",
    "    size = len(dataset) // k\n",
    "    folds = []\n",
    "    for i in range(k):\n",
    "        fold = []\n",
    "        while len(fold) < size:\n",
    "            index = random.randrange(0, len(dataset_copy))\n",
    "            fold.append(dataset_copy.pop(index))\n",
    "        folds.append(fold)\n",
    "    return folds"
   ]
  },
  {
   "cell_type": "code",
   "execution_count": 9,
   "id": "268351d6",
   "metadata": {},
   "outputs": [],
   "source": [
    "def predict(row, coef):\n",
    "    x = coef[0]\n",
    "    for i in range(len(row)):\n",
    "        x += coef[i+1] * row[i]\n",
    "    return 1 / (1 + np.exp(-x))"
   ]
  },
  {
   "cell_type": "code",
   "execution_count": 10,
   "id": "971c4bfc",
   "metadata": {},
   "outputs": [],
   "source": [
    "def accuracy(y, y_pred):\n",
    "    count = 0\n",
    "    for i in range(len(y)):\n",
    "        if y[i] == y_pred[i]:\n",
    "            count += 1\n",
    "    return count / len(y) * 100"
   ]
  },
  {
   "cell_type": "code",
   "execution_count": 101,
   "id": "07f13c20",
   "metadata": {},
   "outputs": [],
   "source": [
    "def gradientDescent(x_train, y_train, epochs, alpha):\n",
    "    coef = np.zeros(x_train.shape[1] + 1)\n",
    "    n = len(x_train)\n",
    "    for epoch in range(epochs):\n",
    "        for i in range(len(x_train)):\n",
    "            y_pred = predict(x_train[i], coef)\n",
    "            loss = y_train[i] - y_pred\n",
    "            coef[0] = coef[0] - ((2/n) * loss) * alpha\n",
    "            for j in range(x_train.shape[1]):\n",
    "#                 print(loss, coef[j+1], x_train[j])\n",
    "                coef[j+1] = coef[j+1] - ((2/n) * np.dot(loss, x_train[i][j])) * alpha\n",
    "    return coef"
   ]
  },
  {
   "cell_type": "code",
   "execution_count": 102,
   "id": "dab42e93",
   "metadata": {},
   "outputs": [],
   "source": [
    "def logisitc(x_train, y_train, x_test, y_test, epochs, alpha):\n",
    "    coef = gradientDescent(x_train, y_train, epochs, alpha)\n",
    "    predictions = []\n",
    "    for row in x_test:\n",
    "        y_pred = predict(row, coef)\n",
    "        predictions.append(round(y_pred))\n",
    "    acc = accuracy(y_test, predictions)\n",
    "    return acc"
   ]
  },
  {
   "cell_type": "code",
   "execution_count": 107,
   "id": "b7e00b7a",
   "metadata": {},
   "outputs": [],
   "source": [
    "def evaluate(dataset, epochs, alpha):\n",
    "    folds = cross_validation(dataset)\n",
    "    accuracies = []\n",
    "    for i in range(len(folds)):\n",
    "        x_train = []\n",
    "        y_train = []\n",
    "        x_test = []\n",
    "        y_test = []\n",
    "        train = folds.copy()\n",
    "        train.pop(i)\n",
    "        test = folds[i].copy()\n",
    "        for fold in train:\n",
    "            for data in fold:\n",
    "                x_train.append(data[:-1])\n",
    "                y_train.append(data[-1])\n",
    "        \n",
    "        for data in test:\n",
    "            x_test.append(data[:-1])\n",
    "            y_test.append(data[-1])\n",
    "    \n",
    "        x_train = np.asarray(x_train)\n",
    "        x_test = np.asarray(x_test)\n",
    "        y_train = np.asarray(y_train)\n",
    "        y_test = np.asarray(y_test)\n",
    "        \n",
    "        acc = logisitc(x_train, y_train, x_test, y_test, epochs, alpha)\n",
    "        print(\"Accuracy for fold_{} is : {}\".format(i, acc))\n",
    "        accuracies.append(acc)\n",
    "    return accuracies"
   ]
  },
  {
   "cell_type": "code",
   "execution_count": 109,
   "id": "d0563d28",
   "metadata": {},
   "outputs": [
    {
     "name": "stdout",
     "output_type": "stream",
     "text": [
      "Accuracy for fold_0 is : 33.33333333333333\n",
      "Accuracy for fold_1 is : 37.908496732026144\n",
      "Accuracy for fold_2 is : 29.411764705882355\n",
      "Accuracy for fold_3 is : 35.294117647058826\n",
      "Accuracy for fold_4 is : 37.908496732026144\n"
     ]
    },
    {
     "data": {
      "text/plain": [
       "[33.33333333333333,\n",
       " 37.908496732026144,\n",
       " 29.411764705882355,\n",
       " 35.294117647058826,\n",
       " 37.908496732026144]"
      ]
     },
     "execution_count": 109,
     "metadata": {},
     "output_type": "execute_result"
    }
   ],
   "source": [
    "epochs = 1000\n",
    "alpha = 0.01\n",
    "evaluate(x, epochs, alpha)"
   ]
  },
  {
   "cell_type": "code",
   "execution_count": 18,
   "id": "7e941e80",
   "metadata": {},
   "outputs": [],
   "source": [
    "folds = cross_validation(x)"
   ]
  },
  {
   "cell_type": "code",
   "execution_count": 24,
   "id": "0b0126c7",
   "metadata": {},
   "outputs": [
    {
     "data": {
      "text/plain": [
       "5"
      ]
     },
     "execution_count": 24,
     "metadata": {},
     "output_type": "execute_result"
    }
   ],
   "source": [
    "len(folds)"
   ]
  },
  {
   "cell_type": "code",
   "execution_count": 23,
   "id": "db0aa948",
   "metadata": {},
   "outputs": [
    {
     "data": {
      "text/plain": [
       "153"
      ]
     },
     "execution_count": 23,
     "metadata": {},
     "output_type": "execute_result"
    }
   ],
   "source": [
    "len(folds[0])"
   ]
  },
  {
   "cell_type": "code",
   "execution_count": 21,
   "id": "371217ff",
   "metadata": {},
   "outputs": [
    {
     "data": {
      "text/plain": [
       "array([0.29411765, 0.69849246, 0.6557377 , 0.35353535, 0.1891253 ,\n",
       "       0.4709389 , 0.12083689, 0.06666667, 1.        ])"
      ]
     },
     "execution_count": 21,
     "metadata": {},
     "output_type": "execute_result"
    }
   ],
   "source": [
    "folds[0][0]"
   ]
  },
  {
   "cell_type": "code",
   "execution_count": 42,
   "id": "ff768d3f",
   "metadata": {},
   "outputs": [],
   "source": [
    "train = folds.copy()\n",
    "train.pop(0)\n",
    "test = folds[0].copy()"
   ]
  },
  {
   "cell_type": "code",
   "execution_count": 45,
   "id": "6131be5e",
   "metadata": {},
   "outputs": [
    {
     "data": {
      "text/plain": [
       "array([0.11764706, 0.67336683, 0.57377049, 0.        , 0.        ,\n",
       "       0.43070045, 0.19812126, 0.03333333, 1.        ])"
      ]
     },
     "execution_count": 45,
     "metadata": {},
     "output_type": "execute_result"
    }
   ],
   "source": [
    "train[0][0]"
   ]
  },
  {
   "cell_type": "code",
   "execution_count": 47,
   "id": "397056b5",
   "metadata": {},
   "outputs": [
    {
     "data": {
      "text/plain": [
       "array([0.29411765, 0.69849246, 0.6557377 , 0.35353535, 0.1891253 ,\n",
       "       0.4709389 , 0.12083689, 0.06666667, 1.        ])"
      ]
     },
     "execution_count": 47,
     "metadata": {},
     "output_type": "execute_result"
    }
   ],
   "source": [
    "test[0]"
   ]
  },
  {
   "cell_type": "code",
   "execution_count": 92,
   "id": "5c2b9045",
   "metadata": {},
   "outputs": [],
   "source": [
    "i = np.array([0.11764706, 0.6281407,  0.49180328, 0.2020202,  0.16548463, 0.50372578,\n",
    " 0.00426985, 0.16666667])"
   ]
  },
  {
   "cell_type": "code",
   "execution_count": 96,
   "id": "f2e123ac",
   "metadata": {},
   "outputs": [
    {
     "data": {
      "text/plain": [
       "array([0.05882353, 0.31407035, 0.24590164, 0.1010101 , 0.08274231,\n",
       "       0.25186289, 0.00213493, 0.08333333])"
      ]
     },
     "execution_count": 96,
     "metadata": {},
     "output_type": "execute_result"
    }
   ],
   "source": [
    "\n",
    "np.dot(0.5, i)"
   ]
  },
  {
   "cell_type": "code",
   "execution_count": null,
   "id": "d9b1d9c3",
   "metadata": {},
   "outputs": [],
   "source": []
  }
 ],
 "metadata": {
  "kernelspec": {
   "display_name": "Python 3",
   "language": "python",
   "name": "python3"
  },
  "language_info": {
   "codemirror_mode": {
    "name": "ipython",
    "version": 3
   },
   "file_extension": ".py",
   "mimetype": "text/x-python",
   "name": "python",
   "nbconvert_exporter": "python",
   "pygments_lexer": "ipython3",
   "version": "3.8.8"
  }
 },
 "nbformat": 4,
 "nbformat_minor": 5
}
