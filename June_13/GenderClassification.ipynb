{
 "cells": [
  {
   "cell_type": "code",
   "execution_count": 15,
   "id": "6491cd2a",
   "metadata": {},
   "outputs": [],
   "source": [
    "import numpy as np\n",
    "import cv2\n",
    "import os\n",
    "from PIL import Image\n",
    "from sklearn.linear_model import LogisticRegression\n",
    "from sklearn.neighbors import KNeighborsClassifier\n",
    "from sklearn.model_selection import train_test_split\n",
    "from sklearn.metrics import accuracy_score, confusion_matrix"
   ]
  },
  {
   "cell_type": "code",
   "execution_count": 2,
   "id": "a0c9a7ad",
   "metadata": {},
   "outputs": [],
   "source": [
    "male_path = \"Training/male\"\n",
    "female_path = \"Training/female\""
   ]
  },
  {
   "cell_type": "code",
   "execution_count": 4,
   "id": "ea24421d",
   "metadata": {},
   "outputs": [
    {
     "data": {
      "text/plain": [
       "23766"
      ]
     },
     "execution_count": 4,
     "metadata": {},
     "output_type": "execute_result"
    }
   ],
   "source": [
    "len(os.listdir(male_path))"
   ]
  },
  {
   "cell_type": "code",
   "execution_count": 5,
   "id": "9cb61d72",
   "metadata": {},
   "outputs": [
    {
     "data": {
      "text/plain": [
       "23243"
      ]
     },
     "execution_count": 5,
     "metadata": {},
     "output_type": "execute_result"
    }
   ],
   "source": [
    "len(os.listdir(female_path))"
   ]
  },
  {
   "cell_type": "code",
   "execution_count": 33,
   "id": "241938c5",
   "metadata": {},
   "outputs": [],
   "source": [
    "def loadImages(path):\n",
    "    img_dir = os.listdir(path)\n",
    "    images = []\n",
    "    img_size = (80,80)\n",
    "    for i in range(10000):\n",
    "        img = path + \"/\" + img_dir[i]\n",
    "        img = cv2.imread(img)\n",
    "        img = cv2.resize(img, (80,80))\n",
    "        images.append(img)\n",
    "    return np.asarray(images)"
   ]
  },
  {
   "cell_type": "code",
   "execution_count": 34,
   "id": "8cd94cf4",
   "metadata": {},
   "outputs": [],
   "source": [
    "male_images = loadImages(male_path)"
   ]
  },
  {
   "cell_type": "code",
   "execution_count": 35,
   "id": "e2788fbb",
   "metadata": {},
   "outputs": [],
   "source": [
    "female_images = loadImages(female_path)"
   ]
  },
  {
   "cell_type": "code",
   "execution_count": 36,
   "id": "56505b26",
   "metadata": {},
   "outputs": [],
   "source": [
    "gender_images = np.concatenate([male_images, female_images])"
   ]
  },
  {
   "cell_type": "code",
   "execution_count": 37,
   "id": "f6f394f7",
   "metadata": {},
   "outputs": [
    {
     "data": {
      "text/plain": [
       "(20000, 80, 80, 3)"
      ]
     },
     "execution_count": 37,
     "metadata": {},
     "output_type": "execute_result"
    }
   ],
   "source": [
    "gender_images.shape"
   ]
  },
  {
   "cell_type": "code",
   "execution_count": 43,
   "id": "b3cb4aba",
   "metadata": {},
   "outputs": [],
   "source": [
    "gender_images = gender_images.reshape(gender_images.shape[0], -1)"
   ]
  },
  {
   "cell_type": "code",
   "execution_count": 44,
   "id": "09924f86",
   "metadata": {},
   "outputs": [
    {
     "data": {
      "text/plain": [
       "(20000, 19200)"
      ]
     },
     "execution_count": 44,
     "metadata": {},
     "output_type": "execute_result"
    }
   ],
   "source": [
    "gender_images.shape"
   ]
  },
  {
   "cell_type": "code",
   "execution_count": 45,
   "id": "78c9b0d5",
   "metadata": {},
   "outputs": [],
   "source": [
    "lables = np.zeros(gender_images.shape[0])"
   ]
  },
  {
   "cell_type": "code",
   "execution_count": 46,
   "id": "cc4cb3c4",
   "metadata": {},
   "outputs": [],
   "source": [
    "lables[10000:] = 1.0"
   ]
  },
  {
   "cell_type": "code",
   "execution_count": 47,
   "id": "e45d435a",
   "metadata": {},
   "outputs": [],
   "source": [
    "x_train, x_test, y_train, y_test = train_test_split(gender_images, lables, test_size=0.25)"
   ]
  },
  {
   "cell_type": "code",
   "execution_count": 50,
   "id": "552aba9f",
   "metadata": {},
   "outputs": [],
   "source": [
    "logistic = LogisticRegression(max_iter=1000)"
   ]
  },
  {
   "cell_type": "code",
   "execution_count": 51,
   "id": "ba8f2f8a",
   "metadata": {},
   "outputs": [
    {
     "name": "stderr",
     "output_type": "stream",
     "text": [
      "C:\\Users\\asus\\anaconda3\\lib\\site-packages\\sklearn\\linear_model\\_logistic.py:763: ConvergenceWarning: lbfgs failed to converge (status=1):\n",
      "STOP: TOTAL NO. of ITERATIONS REACHED LIMIT.\n",
      "\n",
      "Increase the number of iterations (max_iter) or scale the data as shown in:\n",
      "    https://scikit-learn.org/stable/modules/preprocessing.html\n",
      "Please also refer to the documentation for alternative solver options:\n",
      "    https://scikit-learn.org/stable/modules/linear_model.html#logistic-regression\n",
      "  n_iter_i = _check_optimize_result(\n"
     ]
    },
    {
     "data": {
      "text/plain": [
       "LogisticRegression(max_iter=1000)"
      ]
     },
     "execution_count": 51,
     "metadata": {},
     "output_type": "execute_result"
    }
   ],
   "source": [
    "logistic.fit(x_train, y_train)"
   ]
  },
  {
   "cell_type": "code",
   "execution_count": 52,
   "id": "966c193b",
   "metadata": {},
   "outputs": [],
   "source": [
    "y_pred = logistic.predict(x_test)"
   ]
  },
  {
   "cell_type": "code",
   "execution_count": 53,
   "id": "86e53a92",
   "metadata": {},
   "outputs": [
    {
     "data": {
      "text/plain": [
       "0.8662"
      ]
     },
     "execution_count": 53,
     "metadata": {},
     "output_type": "execute_result"
    }
   ],
   "source": [
    "accuracy_score(y_test, y_pred)"
   ]
  },
  {
   "cell_type": "code",
   "execution_count": 54,
   "id": "96a83b8d",
   "metadata": {},
   "outputs": [],
   "source": [
    "test_img = cv2.imread('Training/male/090690.jpg.jpg')"
   ]
  },
  {
   "cell_type": "code",
   "execution_count": 55,
   "id": "c914e94c",
   "metadata": {},
   "outputs": [],
   "source": [
    "test_img = cv2.resize(test_img, (80,80))\n",
    "test_img = test_img.reshape([1,-1])"
   ]
  },
  {
   "cell_type": "code",
   "execution_count": 56,
   "id": "8239cdbc",
   "metadata": {},
   "outputs": [
    {
     "data": {
      "text/plain": [
       "(1, 19200)"
      ]
     },
     "execution_count": 56,
     "metadata": {},
     "output_type": "execute_result"
    }
   ],
   "source": [
    "test_img.shape"
   ]
  },
  {
   "cell_type": "code",
   "execution_count": 57,
   "id": "56ede739",
   "metadata": {},
   "outputs": [
    {
     "data": {
      "text/plain": [
       "array([0.])"
      ]
     },
     "execution_count": 57,
     "metadata": {},
     "output_type": "execute_result"
    }
   ],
   "source": [
    "logistic.predict(test_img)"
   ]
  },
  {
   "cell_type": "code",
   "execution_count": 58,
   "id": "9417e5e5",
   "metadata": {},
   "outputs": [
    {
     "data": {
      "text/plain": [
       "array([[2172,  358],\n",
       "       [ 311, 2159]], dtype=int64)"
      ]
     },
     "execution_count": 58,
     "metadata": {},
     "output_type": "execute_result"
    }
   ],
   "source": [
    "confusion_matrix(y_test, y_pred)"
   ]
  },
  {
   "cell_type": "code",
   "execution_count": null,
   "id": "d4edd57f",
   "metadata": {},
   "outputs": [],
   "source": []
  }
 ],
 "metadata": {
  "kernelspec": {
   "display_name": "Python 3 (ipykernel)",
   "language": "python",
   "name": "python3"
  },
  "language_info": {
   "codemirror_mode": {
    "name": "ipython",
    "version": 3
   },
   "file_extension": ".py",
   "mimetype": "text/x-python",
   "name": "python",
   "nbconvert_exporter": "python",
   "pygments_lexer": "ipython3",
   "version": "3.9.7"
  }
 },
 "nbformat": 4,
 "nbformat_minor": 5
}
