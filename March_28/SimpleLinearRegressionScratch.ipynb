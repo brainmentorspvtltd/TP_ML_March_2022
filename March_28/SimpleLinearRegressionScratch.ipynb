{
 "cells": [
  {
   "cell_type": "code",
   "execution_count": 3,
   "id": "7d48147a",
   "metadata": {},
   "outputs": [],
   "source": [
    "import pandas as pd\n",
    "import numpy as np\n",
    "import matplotlib.pyplot as plt"
   ]
  },
  {
   "cell_type": "code",
   "execution_count": 15,
   "id": "0910fd21",
   "metadata": {},
   "outputs": [],
   "source": [
    "sachin_df = pd.read_excel('sachin.xlsx')"
   ]
  },
  {
   "cell_type": "code",
   "execution_count": 16,
   "id": "bad4e24d",
   "metadata": {},
   "outputs": [
    {
     "data": {
      "text/html": [
       "<div>\n",
       "<style scoped>\n",
       "    .dataframe tbody tr th:only-of-type {\n",
       "        vertical-align: middle;\n",
       "    }\n",
       "\n",
       "    .dataframe tbody tr th {\n",
       "        vertical-align: top;\n",
       "    }\n",
       "\n",
       "    .dataframe thead th {\n",
       "        text-align: right;\n",
       "    }\n",
       "</style>\n",
       "<table border=\"1\" class=\"dataframe\">\n",
       "  <thead>\n",
       "    <tr style=\"text-align: right;\">\n",
       "      <th></th>\n",
       "      <th>Runs</th>\n",
       "      <th>Mins</th>\n",
       "      <th>BF</th>\n",
       "      <th>4s</th>\n",
       "      <th>6s</th>\n",
       "      <th>SR</th>\n",
       "      <th>Pos</th>\n",
       "      <th>Dismissal</th>\n",
       "      <th>Inns</th>\n",
       "      <th>Opposition</th>\n",
       "      <th>Ground</th>\n",
       "      <th>Start DateAscending</th>\n",
       "      <th>Match Number</th>\n",
       "      <th>Result</th>\n",
       "    </tr>\n",
       "  </thead>\n",
       "  <tbody>\n",
       "    <tr>\n",
       "      <th>0</th>\n",
       "      <td>11</td>\n",
       "      <td>92</td>\n",
       "      <td>-</td>\n",
       "      <td>-</td>\n",
       "      <td>0</td>\n",
       "      <td>-</td>\n",
       "      <td>6</td>\n",
       "      <td>lbw</td>\n",
       "      <td>1</td>\n",
       "      <td>v Sri Lanka</td>\n",
       "      <td>Chandigarh</td>\n",
       "      <td>1990-11-23</td>\n",
       "      <td>Test # 1156</td>\n",
       "      <td>Won</td>\n",
       "    </tr>\n",
       "    <tr>\n",
       "      <th>1</th>\n",
       "      <td>50</td>\n",
       "      <td>158</td>\n",
       "      <td>118</td>\n",
       "      <td>6</td>\n",
       "      <td>0</td>\n",
       "      <td>42.37</td>\n",
       "      <td>4</td>\n",
       "      <td>caught</td>\n",
       "      <td>1</td>\n",
       "      <td>v England</td>\n",
       "      <td>Kolkata</td>\n",
       "      <td>1993-01-29</td>\n",
       "      <td>Test # 1211</td>\n",
       "      <td>Won</td>\n",
       "    </tr>\n",
       "    <tr>\n",
       "      <th>2</th>\n",
       "      <td>9</td>\n",
       "      <td>17</td>\n",
       "      <td>19</td>\n",
       "      <td>2</td>\n",
       "      <td>0</td>\n",
       "      <td>47.36</td>\n",
       "      <td>4</td>\n",
       "      <td>not out</td>\n",
       "      <td>4</td>\n",
       "      <td>v England</td>\n",
       "      <td>Kolkata</td>\n",
       "      <td>1993-01-29</td>\n",
       "      <td>Test # 1211</td>\n",
       "      <td>Won</td>\n",
       "    </tr>\n",
       "    <tr>\n",
       "      <th>3</th>\n",
       "      <td>165</td>\n",
       "      <td>361</td>\n",
       "      <td>296</td>\n",
       "      <td>24</td>\n",
       "      <td>1</td>\n",
       "      <td>55.74</td>\n",
       "      <td>4</td>\n",
       "      <td>caught</td>\n",
       "      <td>1</td>\n",
       "      <td>v England</td>\n",
       "      <td>Chennai</td>\n",
       "      <td>1993-02-11</td>\n",
       "      <td>Test # 1213</td>\n",
       "      <td>Won</td>\n",
       "    </tr>\n",
       "    <tr>\n",
       "      <th>4</th>\n",
       "      <td>78</td>\n",
       "      <td>285</td>\n",
       "      <td>213</td>\n",
       "      <td>10</td>\n",
       "      <td>0</td>\n",
       "      <td>36.61</td>\n",
       "      <td>4</td>\n",
       "      <td>lbw</td>\n",
       "      <td>2</td>\n",
       "      <td>v England</td>\n",
       "      <td>Mumbai</td>\n",
       "      <td>1993-02-19</td>\n",
       "      <td>Test # 1214</td>\n",
       "      <td>Won</td>\n",
       "    </tr>\n",
       "  </tbody>\n",
       "</table>\n",
       "</div>"
      ],
      "text/plain": [
       "  Runs Mins   BF  4s 6s     SR Pos Dismissal Inns   Opposition      Ground  \\\n",
       "0   11   92    -   -  0      -   6       lbw    1  v Sri Lanka  Chandigarh   \n",
       "1   50  158  118   6  0  42.37   4    caught    1    v England     Kolkata   \n",
       "2    9   17   19   2  0  47.36   4   not out    4    v England     Kolkata   \n",
       "3  165  361  296  24  1  55.74   4    caught    1    v England     Chennai   \n",
       "4   78  285  213  10  0  36.61   4       lbw    2    v England      Mumbai   \n",
       "\n",
       "  Start DateAscending Match Number Result  \n",
       "0          1990-11-23  Test # 1156    Won  \n",
       "1          1993-01-29  Test # 1211    Won  \n",
       "2          1993-01-29  Test # 1211    Won  \n",
       "3          1993-02-11  Test # 1213    Won  \n",
       "4          1993-02-19  Test # 1214    Won  "
      ]
     },
     "execution_count": 16,
     "metadata": {},
     "output_type": "execute_result"
    }
   ],
   "source": [
    "sachin_df.head()"
   ]
  },
  {
   "cell_type": "code",
   "execution_count": 17,
   "id": "b64618a9",
   "metadata": {},
   "outputs": [],
   "source": [
    "sachin_df = sachin_df[sachin_df['BF'] != '-']"
   ]
  },
  {
   "cell_type": "code",
   "execution_count": 20,
   "id": "0daa0547",
   "metadata": {},
   "outputs": [],
   "source": [
    "sachin_df = sachin_df[sachin_df['Runs'] != 'DNB']"
   ]
  },
  {
   "cell_type": "code",
   "execution_count": 21,
   "id": "09beb092",
   "metadata": {},
   "outputs": [
    {
     "data": {
      "text/html": [
       "<div>\n",
       "<style scoped>\n",
       "    .dataframe tbody tr th:only-of-type {\n",
       "        vertical-align: middle;\n",
       "    }\n",
       "\n",
       "    .dataframe tbody tr th {\n",
       "        vertical-align: top;\n",
       "    }\n",
       "\n",
       "    .dataframe thead th {\n",
       "        text-align: right;\n",
       "    }\n",
       "</style>\n",
       "<table border=\"1\" class=\"dataframe\">\n",
       "  <thead>\n",
       "    <tr style=\"text-align: right;\">\n",
       "      <th></th>\n",
       "      <th>Runs</th>\n",
       "      <th>Mins</th>\n",
       "      <th>BF</th>\n",
       "      <th>4s</th>\n",
       "      <th>6s</th>\n",
       "      <th>SR</th>\n",
       "      <th>Pos</th>\n",
       "      <th>Dismissal</th>\n",
       "      <th>Inns</th>\n",
       "      <th>Opposition</th>\n",
       "      <th>Ground</th>\n",
       "      <th>Start DateAscending</th>\n",
       "      <th>Match Number</th>\n",
       "      <th>Result</th>\n",
       "    </tr>\n",
       "  </thead>\n",
       "  <tbody>\n",
       "    <tr>\n",
       "      <th>1</th>\n",
       "      <td>50</td>\n",
       "      <td>158</td>\n",
       "      <td>118</td>\n",
       "      <td>6</td>\n",
       "      <td>0</td>\n",
       "      <td>42.37</td>\n",
       "      <td>4</td>\n",
       "      <td>caught</td>\n",
       "      <td>1</td>\n",
       "      <td>v England</td>\n",
       "      <td>Kolkata</td>\n",
       "      <td>1993-01-29</td>\n",
       "      <td>Test # 1211</td>\n",
       "      <td>Won</td>\n",
       "    </tr>\n",
       "    <tr>\n",
       "      <th>2</th>\n",
       "      <td>9</td>\n",
       "      <td>17</td>\n",
       "      <td>19</td>\n",
       "      <td>2</td>\n",
       "      <td>0</td>\n",
       "      <td>47.36</td>\n",
       "      <td>4</td>\n",
       "      <td>not out</td>\n",
       "      <td>4</td>\n",
       "      <td>v England</td>\n",
       "      <td>Kolkata</td>\n",
       "      <td>1993-01-29</td>\n",
       "      <td>Test # 1211</td>\n",
       "      <td>Won</td>\n",
       "    </tr>\n",
       "    <tr>\n",
       "      <th>3</th>\n",
       "      <td>165</td>\n",
       "      <td>361</td>\n",
       "      <td>296</td>\n",
       "      <td>24</td>\n",
       "      <td>1</td>\n",
       "      <td>55.74</td>\n",
       "      <td>4</td>\n",
       "      <td>caught</td>\n",
       "      <td>1</td>\n",
       "      <td>v England</td>\n",
       "      <td>Chennai</td>\n",
       "      <td>1993-02-11</td>\n",
       "      <td>Test # 1213</td>\n",
       "      <td>Won</td>\n",
       "    </tr>\n",
       "    <tr>\n",
       "      <th>4</th>\n",
       "      <td>78</td>\n",
       "      <td>285</td>\n",
       "      <td>213</td>\n",
       "      <td>10</td>\n",
       "      <td>0</td>\n",
       "      <td>36.61</td>\n",
       "      <td>4</td>\n",
       "      <td>lbw</td>\n",
       "      <td>2</td>\n",
       "      <td>v England</td>\n",
       "      <td>Mumbai</td>\n",
       "      <td>1993-02-19</td>\n",
       "      <td>Test # 1214</td>\n",
       "      <td>Won</td>\n",
       "    </tr>\n",
       "    <tr>\n",
       "      <th>5</th>\n",
       "      <td>62</td>\n",
       "      <td>128</td>\n",
       "      <td>114</td>\n",
       "      <td>7</td>\n",
       "      <td>0</td>\n",
       "      <td>54.38</td>\n",
       "      <td>4</td>\n",
       "      <td>caught</td>\n",
       "      <td>1</td>\n",
       "      <td>v Zimbabwe</td>\n",
       "      <td>Delhi</td>\n",
       "      <td>1993-03-13</td>\n",
       "      <td>Test # 1218</td>\n",
       "      <td>Won</td>\n",
       "    </tr>\n",
       "  </tbody>\n",
       "</table>\n",
       "</div>"
      ],
      "text/plain": [
       "  Runs Mins   BF  4s 6s     SR Pos Dismissal Inns  Opposition   Ground  \\\n",
       "1   50  158  118   6  0  42.37   4    caught    1   v England  Kolkata   \n",
       "2    9   17   19   2  0  47.36   4   not out    4   v England  Kolkata   \n",
       "3  165  361  296  24  1  55.74   4    caught    1   v England  Chennai   \n",
       "4   78  285  213  10  0  36.61   4       lbw    2   v England   Mumbai   \n",
       "5   62  128  114   7  0  54.38   4    caught    1  v Zimbabwe    Delhi   \n",
       "\n",
       "  Start DateAscending Match Number Result  \n",
       "1          1993-01-29  Test # 1211    Won  \n",
       "2          1993-01-29  Test # 1211    Won  \n",
       "3          1993-02-11  Test # 1213    Won  \n",
       "4          1993-02-19  Test # 1214    Won  \n",
       "5          1993-03-13  Test # 1218    Won  "
      ]
     },
     "execution_count": 21,
     "metadata": {},
     "output_type": "execute_result"
    }
   ],
   "source": [
    "sachin_df.head()"
   ]
  },
  {
   "cell_type": "code",
   "execution_count": 47,
   "id": "c8167952",
   "metadata": {},
   "outputs": [
    {
     "data": {
      "text/plain": [
       "54"
      ]
     },
     "execution_count": 47,
     "metadata": {},
     "output_type": "execute_result"
    }
   ],
   "source": [
    "sachin_df['Runs'].values.argmax()"
   ]
  },
  {
   "cell_type": "code",
   "execution_count": 49,
   "id": "c2e8b228",
   "metadata": {},
   "outputs": [
    {
     "data": {
      "text/plain": [
       "Runs                                   248\n",
       "Mins                                   552\n",
       "BF                                     379\n",
       "4s                                      35\n",
       "6s                                       0\n",
       "SR                                   65.43\n",
       "Pos                                      4\n",
       "Dismissal                          not out\n",
       "Inns                                     2\n",
       "Opposition                    v Bangladesh\n",
       "Ground                               Dhaka\n",
       "Start DateAscending    2004-12-10 00:00:00\n",
       "Match Number                   Test # 1725\n",
       "Result                                 Won\n",
       "Name: 57, dtype: object"
      ]
     },
     "execution_count": 49,
     "metadata": {},
     "output_type": "execute_result"
    }
   ],
   "source": [
    "sachin_df.iloc[54]"
   ]
  },
  {
   "cell_type": "code",
   "execution_count": 22,
   "id": "04dce49b",
   "metadata": {},
   "outputs": [],
   "source": [
    "X = sachin_df['BF'].values\n",
    "y = sachin_df['Runs'].values"
   ]
  },
  {
   "cell_type": "code",
   "execution_count": 25,
   "id": "1f59428c",
   "metadata": {},
   "outputs": [
    {
     "data": {
      "image/png": "[encoded data removed]",
      "text/plain": [
       "<Figure size 720x432 with 1 Axes>"
      ]
     },
     "metadata": {
      "needs_background": "light"
     },
     "output_type": "display_data"
    }
   ],
   "source": [
    "plt.figure(figsize=(10,6))\n",
    "plt.scatter(X,y)\n",
    "plt.xlabel('Balls')\n",
    "plt.ylabel('Runs')\n",
    "plt.title('Runs vs Balls Faced by Sachin')\n",
    "plt.show()"
   ]
  },
  {
   "cell_type": "code",
   "execution_count": 26,
   "id": "7ee69723",
   "metadata": {},
   "outputs": [],
   "source": [
    "mean_x = np.mean(X)\n",
    "mean_y = np.mean(y)"
   ]
  },
  {
   "cell_type": "code",
   "execution_count": 27,
   "id": "79809fe5",
   "metadata": {},
   "outputs": [],
   "source": [
    "n = len(X)\n",
    "numer = 0\n",
    "denom = 0\n",
    "\n",
    "for i in range(n):\n",
    "    numer += (X[i] - mean_x) * (y[i] - mean_y)\n",
    "    denom += (X[i] - mean_x) ** 2\n",
    "\n",
    "slope = numer / denom\n",
    "inter = mean_y - slope * mean_x"
   ]
  },
  {
   "cell_type": "code",
   "execution_count": 28,
   "id": "5e7ee97a",
   "metadata": {},
   "outputs": [
    {
     "data": {
      "text/plain": [
       "(0.5555043018993305, -1.34871992381278)"
      ]
     },
     "execution_count": 28,
     "metadata": {},
     "output_type": "execute_result"
    }
   ],
   "source": [
    "slope, inter"
   ]
  },
  {
   "cell_type": "code",
   "execution_count": 29,
   "id": "cdd48f77",
   "metadata": {},
   "outputs": [],
   "source": [
    "predictions = []\n",
    "for i in range(n):\n",
    "    y_pred = slope * X[i] + inter\n",
    "    predictions.append(int(y_pred))"
   ]
  },
  {
   "cell_type": "code",
   "execution_count": 30,
   "id": "e9d8250a",
   "metadata": {},
   "outputs": [
    {
     "data": {
      "text/plain": [
       "array([50, 9, 165, 78, 62], dtype=object)"
      ]
     },
     "execution_count": 30,
     "metadata": {},
     "output_type": "execute_result"
    }
   ],
   "source": [
    "y[:5]"
   ]
  },
  {
   "cell_type": "code",
   "execution_count": 31,
   "id": "12087ff2",
   "metadata": {},
   "outputs": [
    {
     "data": {
      "text/plain": [
       "[64, 9, 163, 116, 61]"
      ]
     },
     "execution_count": 31,
     "metadata": {},
     "output_type": "execute_result"
    }
   ],
   "source": [
    "predictions[:5]"
   ]
  },
  {
   "cell_type": "code",
   "execution_count": 32,
   "id": "da179c08",
   "metadata": {},
   "outputs": [],
   "source": [
    "pred_df = pd.DataFrame({'actual' : y, 'pred' : predictions})"
   ]
  },
  {
   "cell_type": "code",
   "execution_count": 34,
   "id": "405dc634",
   "metadata": {},
   "outputs": [
    {
     "data": {
      "text/html": [
       "<div>\n",
       "<style scoped>\n",
       "    .dataframe tbody tr th:only-of-type {\n",
       "        vertical-align: middle;\n",
       "    }\n",
       "\n",
       "    .dataframe tbody tr th {\n",
       "        vertical-align: top;\n",
       "    }\n",
       "\n",
       "    .dataframe thead th {\n",
       "        text-align: right;\n",
       "    }\n",
       "</style>\n",
       "<table border=\"1\" class=\"dataframe\">\n",
       "  <thead>\n",
       "    <tr style=\"text-align: right;\">\n",
       "      <th></th>\n",
       "      <th>actual</th>\n",
       "      <th>pred</th>\n",
       "    </tr>\n",
       "  </thead>\n",
       "  <tbody>\n",
       "    <tr>\n",
       "      <th>0</th>\n",
       "      <td>50</td>\n",
       "      <td>64</td>\n",
       "    </tr>\n",
       "    <tr>\n",
       "      <th>1</th>\n",
       "      <td>9</td>\n",
       "      <td>9</td>\n",
       "    </tr>\n",
       "    <tr>\n",
       "      <th>2</th>\n",
       "      <td>165</td>\n",
       "      <td>163</td>\n",
       "    </tr>\n",
       "    <tr>\n",
       "      <th>3</th>\n",
       "      <td>78</td>\n",
       "      <td>116</td>\n",
       "    </tr>\n",
       "    <tr>\n",
       "      <th>4</th>\n",
       "      <td>62</td>\n",
       "      <td>61</td>\n",
       "    </tr>\n",
       "    <tr>\n",
       "      <th>5</th>\n",
       "      <td>28</td>\n",
       "      <td>27</td>\n",
       "    </tr>\n",
       "    <tr>\n",
       "      <th>6</th>\n",
       "      <td>104</td>\n",
       "      <td>88</td>\n",
       "    </tr>\n",
       "    <tr>\n",
       "      <th>7</th>\n",
       "      <td>142</td>\n",
       "      <td>123</td>\n",
       "    </tr>\n",
       "    <tr>\n",
       "      <th>8</th>\n",
       "      <td>96</td>\n",
       "      <td>76</td>\n",
       "    </tr>\n",
       "    <tr>\n",
       "      <th>9</th>\n",
       "      <td>6</td>\n",
       "      <td>6</td>\n",
       "    </tr>\n",
       "  </tbody>\n",
       "</table>\n",
       "</div>"
      ],
      "text/plain": [
       "  actual  pred\n",
       "0     50    64\n",
       "1      9     9\n",
       "2    165   163\n",
       "3     78   116\n",
       "4     62    61\n",
       "5     28    27\n",
       "6    104    88\n",
       "7    142   123\n",
       "8     96    76\n",
       "9      6     6"
      ]
     },
     "execution_count": 34,
     "metadata": {},
     "output_type": "execute_result"
    }
   ],
   "source": [
    "pred_df.head(10)"
   ]
  },
  {
   "cell_type": "code",
   "execution_count": 35,
   "id": "673f809a",
   "metadata": {},
   "outputs": [
    {
     "data": {
      "image/png": "[encoded data removed]",
      "text/plain": [
       "<Figure size 720x432 with 1 Axes>"
      ]
     },
     "metadata": {
      "needs_background": "light"
     },
     "output_type": "display_data"
    }
   ],
   "source": [
    "plt.figure(figsize=(10,6))\n",
    "plt.scatter(X,y)\n",
    "plt.plot(X, predictions, 'r')\n",
    "plt.xlabel('Balls')\n",
    "plt.ylabel('Runs')\n",
    "plt.title('Runs vs Balls Faced by Sachin')\n",
    "plt.show()"
   ]
  },
  {
   "cell_type": "code",
   "execution_count": 40,
   "id": "c62372ea",
   "metadata": {},
   "outputs": [],
   "source": [
    "balls = 450"
   ]
  },
  {
   "cell_type": "code",
   "execution_count": 41,
   "id": "aee362ce",
   "metadata": {},
   "outputs": [
    {
     "data": {
      "text/plain": [
       "248.62821593088597"
      ]
     },
     "execution_count": 41,
     "metadata": {},
     "output_type": "execute_result"
    }
   ],
   "source": [
    "slope * balls + inter"
   ]
  },
  {
   "cell_type": "code",
   "execution_count": 50,
   "id": "d5600903",
   "metadata": {},
   "outputs": [],
   "source": [
    "err = 0\n",
    "\n",
    "for i in range(n):\n",
    "    err += (predictions[i] - y[i]) ** 2\n",
    "\n",
    "error = (1/n) * err"
   ]
  },
  {
   "cell_type": "code",
   "execution_count": 51,
   "id": "6bef129c",
   "metadata": {},
   "outputs": [
    {
     "name": "stdout",
     "output_type": "stream",
     "text": [
      "MSE : 227.109756097561\n"
     ]
    }
   ],
   "source": [
    "print(\"MSE :\",error)"
   ]
  },
  {
   "cell_type": "code",
   "execution_count": 52,
   "id": "3ea0654e",
   "metadata": {},
   "outputs": [],
   "source": [
    "mae = np.sqrt(error)"
   ]
  },
  {
   "cell_type": "code",
   "execution_count": 53,
   "id": "5495ebdc",
   "metadata": {},
   "outputs": [
    {
     "name": "stdout",
     "output_type": "stream",
     "text": [
      "MAE : 15.070161117173265\n"
     ]
    }
   ],
   "source": [
    "print(\"MAE :\",mae)"
   ]
  },
  {
   "cell_type": "code",
   "execution_count": null,
   "id": "98745a18",
   "metadata": {},
   "outputs": [],
   "source": []
  }
 ],
 "metadata": {
  "kernelspec": {
   "display_name": "Python 3",
   "language": "python",
   "name": "python3"
  },
  "language_info": {
   "codemirror_mode": {
    "name": "ipython",
    "version": 3
   },
   "file_extension": ".py",
   "mimetype": "text/x-python",
   "name": "python",
   "nbconvert_exporter": "python",
   "pygments_lexer": "ipython3",
   "version": "3.8.8"
  }
 },
 "nbformat": 4,
 "nbformat_minor": 5
}
