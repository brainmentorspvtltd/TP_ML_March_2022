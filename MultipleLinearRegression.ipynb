{
 "cells": [
  {
   "cell_type": "code",
   "execution_count": 1,
   "id": "f2693432",
   "metadata": {},
   "outputs": [],
   "source": [
    "import pandas as pd\n",
    "import numpy as np\n",
    "import matplotlib.pyplot as plt"
   ]
  },
  {
   "cell_type": "code",
   "execution_count": 2,
   "id": "48c41477",
   "metadata": {},
   "outputs": [],
   "source": [
    "df = pd.read_csv('nse_india.csv')"
   ]
  },
  {
   "cell_type": "code",
   "execution_count": 3,
   "id": "745dead4",
   "metadata": {},
   "outputs": [
    {
     "data": {
      "text/html": [
       "<div>\n",
       "<style scoped>\n",
       "    .dataframe tbody tr th:only-of-type {\n",
       "        vertical-align: middle;\n",
       "    }\n",
       "\n",
       "    .dataframe tbody tr th {\n",
       "        vertical-align: top;\n",
       "    }\n",
       "\n",
       "    .dataframe thead th {\n",
       "        text-align: right;\n",
       "    }\n",
       "</style>\n",
       "<table border=\"1\" class=\"dataframe\">\n",
       "  <thead>\n",
       "    <tr style=\"text-align: right;\">\n",
       "      <th></th>\n",
       "      <th>Date</th>\n",
       "      <th>Open</th>\n",
       "      <th>High</th>\n",
       "      <th>Low</th>\n",
       "      <th>Close</th>\n",
       "      <th>Shares Traded</th>\n",
       "      <th>Turnover (Rs. Cr)</th>\n",
       "    </tr>\n",
       "  </thead>\n",
       "  <tbody>\n",
       "    <tr>\n",
       "      <th>0</th>\n",
       "      <td>06-Apr-2021</td>\n",
       "      <td>14737.00</td>\n",
       "      <td>14779.10</td>\n",
       "      <td>14573.90</td>\n",
       "      <td>14683.50</td>\n",
       "      <td>474211156</td>\n",
       "      <td>31885.97</td>\n",
       "    </tr>\n",
       "    <tr>\n",
       "      <th>1</th>\n",
       "      <td>07-Apr-2021</td>\n",
       "      <td>14716.45</td>\n",
       "      <td>14879.80</td>\n",
       "      <td>14649.85</td>\n",
       "      <td>14819.05</td>\n",
       "      <td>476382016</td>\n",
       "      <td>35184.96</td>\n",
       "    </tr>\n",
       "    <tr>\n",
       "      <th>2</th>\n",
       "      <td>08-Apr-2021</td>\n",
       "      <td>14875.65</td>\n",
       "      <td>14984.15</td>\n",
       "      <td>14821.10</td>\n",
       "      <td>14873.80</td>\n",
       "      <td>503728173</td>\n",
       "      <td>34444.56</td>\n",
       "    </tr>\n",
       "    <tr>\n",
       "      <th>3</th>\n",
       "      <td>09-Apr-2021</td>\n",
       "      <td>14882.65</td>\n",
       "      <td>14918.45</td>\n",
       "      <td>14785.65</td>\n",
       "      <td>14834.85</td>\n",
       "      <td>498347599</td>\n",
       "      <td>35010.36</td>\n",
       "    </tr>\n",
       "    <tr>\n",
       "      <th>4</th>\n",
       "      <td>12-Apr-2021</td>\n",
       "      <td>14644.65</td>\n",
       "      <td>14652.50</td>\n",
       "      <td>14248.70</td>\n",
       "      <td>14310.80</td>\n",
       "      <td>638475842</td>\n",
       "      <td>43433.24</td>\n",
       "    </tr>\n",
       "  </tbody>\n",
       "</table>\n",
       "</div>"
      ],
      "text/plain": [
       "          Date      Open      High       Low     Close    Shares Traded  \\\n",
       "0  06-Apr-2021  14737.00  14779.10  14573.90  14683.50        474211156   \n",
       "1  07-Apr-2021  14716.45  14879.80  14649.85  14819.05        476382016   \n",
       "2  08-Apr-2021  14875.65  14984.15  14821.10  14873.80        503728173   \n",
       "3  09-Apr-2021  14882.65  14918.45  14785.65  14834.85        498347599   \n",
       "4  12-Apr-2021  14644.65  14652.50  14248.70  14310.80        638475842   \n",
       "\n",
       "  Turnover (Rs. Cr)  \n",
       "0          31885.97  \n",
       "1          35184.96  \n",
       "2          34444.56  \n",
       "3          35010.36  \n",
       "4          43433.24  "
      ]
     },
     "execution_count": 3,
     "metadata": {},
     "output_type": "execute_result"
    }
   ],
   "source": [
    "df.head()"
   ]
  },
  {
   "cell_type": "code",
   "execution_count": 4,
   "id": "82244a20",
   "metadata": {},
   "outputs": [
    {
     "data": {
      "text/plain": [
       "(247, 7)"
      ]
     },
     "execution_count": 4,
     "metadata": {},
     "output_type": "execute_result"
    }
   ],
   "source": [
    "df.shape"
   ]
  },
  {
   "cell_type": "code",
   "execution_count": 5,
   "id": "c0f48f39",
   "metadata": {},
   "outputs": [],
   "source": [
    "X = df.iloc[:, 1:4].values\n",
    "y = df.iloc[:, 4].values"
   ]
  },
  {
   "cell_type": "code",
   "execution_count": 6,
   "id": "78bb4b88",
   "metadata": {},
   "outputs": [
    {
     "data": {
      "text/plain": [
       "array([14737. , 14779.1, 14573.9])"
      ]
     },
     "execution_count": 6,
     "metadata": {},
     "output_type": "execute_result"
    }
   ],
   "source": [
    "X[0]"
   ]
  },
  {
   "cell_type": "code",
   "execution_count": 7,
   "id": "dba7844e",
   "metadata": {},
   "outputs": [],
   "source": [
    "n = len(X)\n",
    "X0 = np.ones(n)"
   ]
  },
  {
   "cell_type": "code",
   "execution_count": 8,
   "id": "3f4383ac",
   "metadata": {},
   "outputs": [],
   "source": [
    "X = np.c_[X0, X]"
   ]
  },
  {
   "cell_type": "code",
   "execution_count": 9,
   "id": "33797fc0",
   "metadata": {},
   "outputs": [
    {
     "data": {
      "text/plain": [
       "array([1.00000e+00, 1.47370e+04, 1.47791e+04, 1.45739e+04])"
      ]
     },
     "execution_count": 9,
     "metadata": {},
     "output_type": "execute_result"
    }
   ],
   "source": [
    "X[0]"
   ]
  },
  {
   "cell_type": "code",
   "execution_count": 10,
   "id": "105426b5",
   "metadata": {},
   "outputs": [],
   "source": [
    "beta = np.zeros(X.shape[1])"
   ]
  },
  {
   "cell_type": "code",
   "execution_count": 11,
   "id": "9685c00d",
   "metadata": {},
   "outputs": [
    {
     "data": {
      "text/plain": [
       "array([0., 0., 0., 0.])"
      ]
     },
     "execution_count": 11,
     "metadata": {},
     "output_type": "execute_result"
    }
   ],
   "source": [
    "beta"
   ]
  },
  {
   "cell_type": "code",
   "execution_count": 16,
   "id": "7682babd",
   "metadata": {},
   "outputs": [],
   "source": [
    "from sklearn.preprocessing import MinMaxScaler"
   ]
  },
  {
   "cell_type": "code",
   "execution_count": 17,
   "id": "545de20e",
   "metadata": {},
   "outputs": [],
   "source": [
    "minmax = MinMaxScaler()\n",
    "X_scaled = minmax.fit_transform(X)"
   ]
  },
  {
   "cell_type": "code",
   "execution_count": 18,
   "id": "c1be3437",
   "metadata": {},
   "outputs": [],
   "source": [
    "y_scaled = minmax.fit_transform(y.reshape(-1,1))"
   ]
  },
  {
   "cell_type": "code",
   "execution_count": 20,
   "id": "6cbb830a",
   "metadata": {},
   "outputs": [
    {
     "data": {
      "text/plain": [
       "array([[0.09259326],\n",
       "       [0.12501644],\n",
       "       [0.13811249],\n",
       "       [0.12879576],\n",
       "       [0.00344444]])"
      ]
     },
     "execution_count": 20,
     "metadata": {},
     "output_type": "execute_result"
    }
   ],
   "source": [
    "y_scaled[:5]"
   ]
  },
  {
   "cell_type": "code",
   "execution_count": 28,
   "id": "78a59ca1",
   "metadata": {},
   "outputs": [],
   "source": [
    "def cost_function(x,y,b):\n",
    "    y_pred = np.dot(x,b)\n",
    "    mse = (1/n) * np.sum((y_pred - y) ** 2)\n",
    "    return mse"
   ]
  },
  {
   "cell_type": "code",
   "execution_count": 29,
   "id": "ed6231bd",
   "metadata": {},
   "outputs": [],
   "source": [
    "def gradient_descent(x,y,epochs,alpha):\n",
    "    beta = np.zeros(X.shape[1])\n",
    "    cost_history = []\n",
    "    for i in range(epochs):\n",
    "        y_pred = np.dot(x,beta)\n",
    "        loss = y_pred - y\n",
    "        grad_beta = (2/n) * np.dot(x.T, loss)\n",
    "        beta = beta - grad_beta * alpha\n",
    "        cost_history.append(cost_function(x,y,beta))\n",
    "    return beta, cost_history"
   ]
  },
  {
   "cell_type": "code",
   "execution_count": 60,
   "id": "7d5731b5",
   "metadata": {},
   "outputs": [],
   "source": [
    "epochs = 200\n",
    "alpha = 0.01\n",
    "coef, cost = gradient_descent(X_scaled, y_scaled.flatten(), epochs, alpha)"
   ]
  },
  {
   "cell_type": "code",
   "execution_count": 61,
   "id": "eb28e45a",
   "metadata": {},
   "outputs": [
    {
     "data": {
      "text/plain": [
       "[<matplotlib.lines.Line2D at 0x2758d5b0880>]"
      ]
     },
     "execution_count": 61,
     "metadata": {},
     "output_type": "execute_result"
    },
    {
     "data": {
      "image/png": "[encoded data removed]",
      "text/plain": [
       "<Figure size 432x288 with 1 Axes>"
      ]
     },
     "metadata": {
      "needs_background": "light"
     },
     "output_type": "display_data"
    }
   ],
   "source": [
    "plt.plot(cost)"
   ]
  },
  {
   "cell_type": "code",
   "execution_count": 62,
   "id": "228959dd",
   "metadata": {},
   "outputs": [],
   "source": [
    "predictions = np.dot(X_scaled, coef)"
   ]
  },
  {
   "cell_type": "code",
   "execution_count": 63,
   "id": "2cd9693b",
   "metadata": {},
   "outputs": [
    {
     "data": {
      "text/plain": [
       "array([0.10375127, 0.11613262, 0.14984389, 0.14237857, 0.0613439 ])"
      ]
     },
     "execution_count": 63,
     "metadata": {},
     "output_type": "execute_result"
    }
   ],
   "source": [
    "predictions[:5]"
   ]
  },
  {
   "cell_type": "code",
   "execution_count": 64,
   "id": "3e9f5297",
   "metadata": {},
   "outputs": [],
   "source": [
    "y_pred = minmax.inverse_transform(predictions.reshape(-1,1))"
   ]
  },
  {
   "cell_type": "code",
   "execution_count": 65,
   "id": "6d2b7a12",
   "metadata": {},
   "outputs": [
    {
     "data": {
      "text/plain": [
       "array([14683.5 , 14819.05, 14873.8 , 14834.85, 14310.8 ])"
      ]
     },
     "execution_count": 65,
     "metadata": {},
     "output_type": "execute_result"
    }
   ],
   "source": [
    "y[:5]"
   ]
  },
  {
   "cell_type": "code",
   "execution_count": 66,
   "id": "f48469fe",
   "metadata": {},
   "outputs": [
    {
     "data": {
      "text/plain": [
       "array([[14730.14775115],\n",
       "       [14781.90985752],\n",
       "       [14922.84487619],\n",
       "       [14891.63495532],\n",
       "       [14552.85737996]])"
      ]
     },
     "execution_count": 66,
     "metadata": {},
     "output_type": "execute_result"
    }
   ],
   "source": [
    "y_pred[:5]"
   ]
  },
  {
   "cell_type": "code",
   "execution_count": null,
   "id": "f2acc2c7",
   "metadata": {},
   "outputs": [],
   "source": []
  },
  {
   "cell_type": "code",
   "execution_count": null,
   "id": "ef1534f9",
   "metadata": {},
   "outputs": [],
   "source": []
  },
  {
   "cell_type": "code",
   "execution_count": 51,
   "id": "daf66a85",
   "metadata": {},
   "outputs": [],
   "source": [
    "y_pred = np.dot(X_scaled, beta)"
   ]
  },
  {
   "cell_type": "code",
   "execution_count": 52,
   "id": "b8c42785",
   "metadata": {},
   "outputs": [],
   "source": [
    "loss = y_pred - y_scaled.flatten()"
   ]
  },
  {
   "cell_type": "code",
   "execution_count": 53,
   "id": "0e660914",
   "metadata": {},
   "outputs": [
    {
     "data": {
      "text/plain": [
       "(247, 4)"
      ]
     },
     "execution_count": 53,
     "metadata": {},
     "output_type": "execute_result"
    }
   ],
   "source": [
    "X_scaled.shape"
   ]
  },
  {
   "cell_type": "code",
   "execution_count": 54,
   "id": "55b4ae91",
   "metadata": {},
   "outputs": [
    {
     "data": {
      "text/plain": [
       "(247,)"
      ]
     },
     "execution_count": 54,
     "metadata": {},
     "output_type": "execute_result"
    }
   ],
   "source": [
    "loss.shape"
   ]
  },
  {
   "cell_type": "code",
   "execution_count": 55,
   "id": "7f41f829",
   "metadata": {},
   "outputs": [],
   "source": [
    "grad_beta = (2/n) * np.dot(X_scaled.T, loss)"
   ]
  },
  {
   "cell_type": "code",
   "execution_count": 56,
   "id": "0e9cc2db",
   "metadata": {},
   "outputs": [
    {
     "data": {
      "text/plain": [
       "(4,)"
      ]
     },
     "execution_count": 56,
     "metadata": {},
     "output_type": "execute_result"
    }
   ],
   "source": [
    "grad_beta.shape"
   ]
  },
  {
   "cell_type": "code",
   "execution_count": 57,
   "id": "076d231a",
   "metadata": {},
   "outputs": [
    {
     "data": {
      "text/plain": [
       "array([0., 0., 0., 0.])"
      ]
     },
     "execution_count": 57,
     "metadata": {},
     "output_type": "execute_result"
    }
   ],
   "source": [
    "beta"
   ]
  },
  {
   "cell_type": "code",
   "execution_count": 58,
   "id": "067e61b5",
   "metadata": {},
   "outputs": [],
   "source": [
    "beta = beta - grad_beta * alpha"
   ]
  },
  {
   "cell_type": "code",
   "execution_count": 59,
   "id": "81edcc38",
   "metadata": {},
   "outputs": [
    {
     "data": {
      "text/plain": [
       "array([0.        , 0.00775336, 0.00783575, 0.00778419])"
      ]
     },
     "execution_count": 59,
     "metadata": {},
     "output_type": "execute_result"
    }
   ],
   "source": [
    "beta"
   ]
  },
  {
   "cell_type": "code",
   "execution_count": null,
   "id": "5b30f889",
   "metadata": {},
   "outputs": [],
   "source": []
  }
 ],
 "metadata": {
  "kernelspec": {
   "display_name": "Python 3",
   "language": "python",
   "name": "python3"
  },
  "language_info": {
   "codemirror_mode": {
    "name": "ipython",
    "version": 3
   },
   "file_extension": ".py",
   "mimetype": "text/x-python",
   "name": "python",
   "nbconvert_exporter": "python",
   "pygments_lexer": "ipython3",
   "version": "3.8.8"
  }
 },
 "nbformat": 4,
 "nbformat_minor": 5
}
