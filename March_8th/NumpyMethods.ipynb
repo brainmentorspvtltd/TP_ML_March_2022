{
 "cells": [
  {
   "cell_type": "code",
   "execution_count": 1,
   "id": "93fe4b2b",
   "metadata": {},
   "outputs": [],
   "source": [
    "import numpy as np"
   ]
  },
  {
   "cell_type": "code",
   "execution_count": 2,
   "id": "b83af33c",
   "metadata": {},
   "outputs": [],
   "source": [
    "x = np.random.randint(1,100,24)"
   ]
  },
  {
   "cell_type": "code",
   "execution_count": 3,
   "id": "0d0bf85c",
   "metadata": {},
   "outputs": [
    {
     "data": {
      "text/plain": [
       "array([58, 89, 31, 19, 70, 66, 40, 38,  1, 45, 35, 98, 15, 89, 95, 27, 34,\n",
       "       23, 41, 57, 54, 51, 91, 28])"
      ]
     },
     "execution_count": 3,
     "metadata": {},
     "output_type": "execute_result"
    }
   ],
   "source": [
    "x"
   ]
  },
  {
   "cell_type": "code",
   "execution_count": 4,
   "id": "891df9fe",
   "metadata": {},
   "outputs": [
    {
     "data": {
      "text/plain": [
       "58"
      ]
     },
     "execution_count": 4,
     "metadata": {},
     "output_type": "execute_result"
    }
   ],
   "source": [
    "x[0]"
   ]
  },
  {
   "cell_type": "code",
   "execution_count": 5,
   "id": "cfe96c6d",
   "metadata": {},
   "outputs": [
    {
     "data": {
      "text/plain": [
       "array([58, 89, 31, 19, 70, 66, 40, 38,  1, 45, 35, 98])"
      ]
     },
     "execution_count": 5,
     "metadata": {},
     "output_type": "execute_result"
    }
   ],
   "source": [
    "x[0:12]"
   ]
  },
  {
   "cell_type": "code",
   "execution_count": 6,
   "id": "e43325d0",
   "metadata": {},
   "outputs": [
    {
     "data": {
      "text/plain": [
       "28"
      ]
     },
     "execution_count": 6,
     "metadata": {},
     "output_type": "execute_result"
    }
   ],
   "source": [
    "x[-1]"
   ]
  },
  {
   "cell_type": "code",
   "execution_count": 7,
   "id": "24a4c0ac",
   "metadata": {},
   "outputs": [
    {
     "data": {
      "text/plain": [
       "array([58, 31, 70, 40,  1, 35, 15, 95, 34, 41])"
      ]
     },
     "execution_count": 7,
     "metadata": {},
     "output_type": "execute_result"
    }
   ],
   "source": [
    "x[0:20:2]"
   ]
  },
  {
   "cell_type": "code",
   "execution_count": 8,
   "id": "7b2fcce1",
   "metadata": {},
   "outputs": [],
   "source": [
    "x = np.random.randint(1,100,[6,4])"
   ]
  },
  {
   "cell_type": "code",
   "execution_count": 9,
   "id": "d184fa67",
   "metadata": {},
   "outputs": [
    {
     "data": {
      "text/plain": [
       "array([[33, 37, 42, 25],\n",
       "       [ 5, 76, 16, 26],\n",
       "       [30, 42, 66, 61],\n",
       "       [35, 89, 27, 32],\n",
       "       [ 2, 22, 78, 54],\n",
       "       [61, 93, 83, 94]])"
      ]
     },
     "execution_count": 9,
     "metadata": {},
     "output_type": "execute_result"
    }
   ],
   "source": [
    "x"
   ]
  },
  {
   "cell_type": "code",
   "execution_count": 10,
   "id": "b206b59e",
   "metadata": {},
   "outputs": [
    {
     "data": {
      "text/plain": [
       "array([33, 37, 42, 25])"
      ]
     },
     "execution_count": 10,
     "metadata": {},
     "output_type": "execute_result"
    }
   ],
   "source": [
    "x[0]"
   ]
  },
  {
   "cell_type": "code",
   "execution_count": 11,
   "id": "808f8c1e",
   "metadata": {},
   "outputs": [
    {
     "data": {
      "text/plain": [
       "array([ 2, 22, 78, 54])"
      ]
     },
     "execution_count": 11,
     "metadata": {},
     "output_type": "execute_result"
    }
   ],
   "source": [
    "x[4]"
   ]
  },
  {
   "cell_type": "code",
   "execution_count": 12,
   "id": "37e75137",
   "metadata": {},
   "outputs": [
    {
     "data": {
      "text/plain": [
       "33"
      ]
     },
     "execution_count": 12,
     "metadata": {},
     "output_type": "execute_result"
    }
   ],
   "source": [
    "x[0][0]"
   ]
  },
  {
   "cell_type": "code",
   "execution_count": 14,
   "id": "5b1c5bf3",
   "metadata": {},
   "outputs": [
    {
     "data": {
      "text/plain": [
       "27"
      ]
     },
     "execution_count": 14,
     "metadata": {},
     "output_type": "execute_result"
    }
   ],
   "source": [
    "x[3][2]"
   ]
  },
  {
   "cell_type": "code",
   "execution_count": 17,
   "id": "3e67e9bb",
   "metadata": {},
   "outputs": [
    {
     "data": {
      "text/plain": [
       "array([[33, 37, 42, 25],\n",
       "       [ 5, 76, 16, 26],\n",
       "       [30, 42, 66, 61],\n",
       "       [35, 89, 27, 32],\n",
       "       [ 2, 22, 78, 54],\n",
       "       [61, 93, 83, 94]])"
      ]
     },
     "execution_count": 17,
     "metadata": {},
     "output_type": "execute_result"
    }
   ],
   "source": [
    "x"
   ]
  },
  {
   "cell_type": "code",
   "execution_count": 16,
   "id": "46c48014",
   "metadata": {},
   "outputs": [
    {
     "data": {
      "text/plain": [
       "array([42, 16, 66, 27, 78, 83])"
      ]
     },
     "execution_count": 16,
     "metadata": {},
     "output_type": "execute_result"
    }
   ],
   "source": [
    "x[:, 2]"
   ]
  },
  {
   "cell_type": "code",
   "execution_count": 18,
   "id": "e0d27ccd",
   "metadata": {},
   "outputs": [
    {
     "data": {
      "text/plain": [
       "array([[42],\n",
       "       [16],\n",
       "       [66],\n",
       "       [27],\n",
       "       [78],\n",
       "       [83]])"
      ]
     },
     "execution_count": 18,
     "metadata": {},
     "output_type": "execute_result"
    }
   ],
   "source": [
    "x[:,2:3]"
   ]
  },
  {
   "cell_type": "code",
   "execution_count": 19,
   "id": "f26d24f7",
   "metadata": {},
   "outputs": [
    {
     "data": {
      "text/plain": [
       "array([[30, 42, 66],\n",
       "       [35, 89, 27]])"
      ]
     },
     "execution_count": 19,
     "metadata": {},
     "output_type": "execute_result"
    }
   ],
   "source": [
    "x[2:4, 0:3]"
   ]
  },
  {
   "cell_type": "code",
   "execution_count": 22,
   "id": "e8d9690f",
   "metadata": {},
   "outputs": [
    {
     "data": {
      "text/plain": [
       "array([[33, 42, 25],\n",
       "       [ 5, 16, 26],\n",
       "       [30, 66, 61]])"
      ]
     },
     "execution_count": 22,
     "metadata": {},
     "output_type": "execute_result"
    }
   ],
   "source": [
    "x[0:3, [0,2,3]]"
   ]
  },
  {
   "cell_type": "code",
   "execution_count": 25,
   "id": "ee343bdb",
   "metadata": {},
   "outputs": [
    {
     "data": {
      "text/plain": [
       "array([[33, 37, 42],\n",
       "       [35, 89, 27],\n",
       "       [61, 93, 83]])"
      ]
     },
     "execution_count": 25,
     "metadata": {},
     "output_type": "execute_result"
    }
   ],
   "source": [
    "x[[0,3,5], 0:3]"
   ]
  },
  {
   "cell_type": "code",
   "execution_count": 26,
   "id": "13cdcb04",
   "metadata": {},
   "outputs": [
    {
     "data": {
      "text/plain": [
       "array([[33, 37, 42, 25],\n",
       "       [ 5, 76, 16, 26],\n",
       "       [30, 42, 66, 61],\n",
       "       [35, 89, 27, 32],\n",
       "       [ 2, 22, 78, 54],\n",
       "       [61, 93, 83, 94]])"
      ]
     },
     "execution_count": 26,
     "metadata": {},
     "output_type": "execute_result"
    }
   ],
   "source": [
    "x"
   ]
  },
  {
   "cell_type": "code",
   "execution_count": 27,
   "id": "d0410df9",
   "metadata": {},
   "outputs": [
    {
     "data": {
      "text/plain": [
       "(6, 4)"
      ]
     },
     "execution_count": 27,
     "metadata": {},
     "output_type": "execute_result"
    }
   ],
   "source": [
    "x.shape"
   ]
  },
  {
   "cell_type": "code",
   "execution_count": 28,
   "id": "676297e1",
   "metadata": {},
   "outputs": [
    {
     "data": {
      "text/plain": [
       "2"
      ]
     },
     "execution_count": 28,
     "metadata": {},
     "output_type": "execute_result"
    }
   ],
   "source": [
    "x.ndim"
   ]
  },
  {
   "cell_type": "code",
   "execution_count": 29,
   "id": "e4f76ec5",
   "metadata": {},
   "outputs": [
    {
     "data": {
      "text/plain": [
       "array([[33,  5, 30, 35,  2, 61],\n",
       "       [37, 76, 42, 89, 22, 93],\n",
       "       [42, 16, 66, 27, 78, 83],\n",
       "       [25, 26, 61, 32, 54, 94]])"
      ]
     },
     "execution_count": 29,
     "metadata": {},
     "output_type": "execute_result"
    }
   ],
   "source": [
    "# transpose of array\n",
    "x.T"
   ]
  },
  {
   "cell_type": "code",
   "execution_count": 30,
   "id": "5efbbba7",
   "metadata": {},
   "outputs": [
    {
     "data": {
      "text/plain": [
       "array([[33, 37, 42, 25,  5, 76, 16, 26, 30, 42, 66, 61],\n",
       "       [35, 89, 27, 32,  2, 22, 78, 54, 61, 93, 83, 94]])"
      ]
     },
     "execution_count": 30,
     "metadata": {},
     "output_type": "execute_result"
    }
   ],
   "source": [
    "x.reshape(2,12)"
   ]
  },
  {
   "cell_type": "code",
   "execution_count": 31,
   "id": "0f7bd56a",
   "metadata": {},
   "outputs": [
    {
     "data": {
      "text/plain": [
       "array([[33, 37, 42, 25,  5, 76, 16, 26],\n",
       "       [30, 42, 66, 61, 35, 89, 27, 32],\n",
       "       [ 2, 22, 78, 54, 61, 93, 83, 94]])"
      ]
     },
     "execution_count": 31,
     "metadata": {},
     "output_type": "execute_result"
    }
   ],
   "source": [
    "x.reshape(3,8)"
   ]
  },
  {
   "cell_type": "code",
   "execution_count": 32,
   "id": "d89a0966",
   "metadata": {},
   "outputs": [
    {
     "data": {
      "text/plain": [
       "array([[33, 37, 42],\n",
       "       [25,  5, 76],\n",
       "       [16, 26, 30],\n",
       "       [42, 66, 61],\n",
       "       [35, 89, 27],\n",
       "       [32,  2, 22],\n",
       "       [78, 54, 61],\n",
       "       [93, 83, 94]])"
      ]
     },
     "execution_count": 32,
     "metadata": {},
     "output_type": "execute_result"
    }
   ],
   "source": [
    "x.reshape(8,-1)"
   ]
  },
  {
   "cell_type": "code",
   "execution_count": 33,
   "id": "3d286474",
   "metadata": {},
   "outputs": [
    {
     "data": {
      "text/plain": [
       "array([[33, 37, 42, 25,  5, 76],\n",
       "       [16, 26, 30, 42, 66, 61],\n",
       "       [35, 89, 27, 32,  2, 22],\n",
       "       [78, 54, 61, 93, 83, 94]])"
      ]
     },
     "execution_count": 33,
     "metadata": {},
     "output_type": "execute_result"
    }
   ],
   "source": [
    "x.reshape(-1,6)"
   ]
  },
  {
   "cell_type": "code",
   "execution_count": 34,
   "id": "7f7d2579",
   "metadata": {},
   "outputs": [
    {
     "data": {
      "text/plain": [
       "array([33, 37, 42, 25,  5, 76, 16, 26, 30, 42, 66, 61, 35, 89, 27, 32,  2,\n",
       "       22, 78, 54, 61, 93, 83, 94])"
      ]
     },
     "execution_count": 34,
     "metadata": {},
     "output_type": "execute_result"
    }
   ],
   "source": [
    "# convert n-dimensional to 1D array\n",
    "x.flatten()"
   ]
  },
  {
   "cell_type": "code",
   "execution_count": 35,
   "id": "5e2502cd",
   "metadata": {},
   "outputs": [],
   "source": [
    "x = x.flatten()"
   ]
  },
  {
   "cell_type": "code",
   "execution_count": 36,
   "id": "f4a275c5",
   "metadata": {},
   "outputs": [
    {
     "data": {
      "text/plain": [
       "array([33, 37, 42, 25,  5, 76, 16, 26, 30, 42, 66, 61, 35, 89, 27, 32,  2,\n",
       "       22, 78, 54, 61, 93, 83, 94])"
      ]
     },
     "execution_count": 36,
     "metadata": {},
     "output_type": "execute_result"
    }
   ],
   "source": [
    "x"
   ]
  },
  {
   "cell_type": "code",
   "execution_count": 37,
   "id": "dbf8293e",
   "metadata": {},
   "outputs": [
    {
     "data": {
      "text/plain": [
       "1129"
      ]
     },
     "execution_count": 37,
     "metadata": {},
     "output_type": "execute_result"
    }
   ],
   "source": [
    "np.sum(x)"
   ]
  },
  {
   "cell_type": "code",
   "execution_count": 38,
   "id": "6530b39d",
   "metadata": {},
   "outputs": [
    {
     "data": {
      "text/plain": [
       "2"
      ]
     },
     "execution_count": 38,
     "metadata": {},
     "output_type": "execute_result"
    }
   ],
   "source": [
    "np.min(x)"
   ]
  },
  {
   "cell_type": "code",
   "execution_count": 39,
   "id": "e2cbf739",
   "metadata": {},
   "outputs": [
    {
     "data": {
      "text/plain": [
       "94"
      ]
     },
     "execution_count": 39,
     "metadata": {},
     "output_type": "execute_result"
    }
   ],
   "source": [
    "np.max(x)"
   ]
  },
  {
   "cell_type": "code",
   "execution_count": 40,
   "id": "7da4b758",
   "metadata": {},
   "outputs": [
    {
     "data": {
      "text/plain": [
       "47.041666666666664"
      ]
     },
     "execution_count": 40,
     "metadata": {},
     "output_type": "execute_result"
    }
   ],
   "source": [
    "np.mean(x)"
   ]
  },
  {
   "cell_type": "code",
   "execution_count": 41,
   "id": "c22e6384",
   "metadata": {},
   "outputs": [
    {
     "data": {
      "text/plain": [
       "27.15154870761928"
      ]
     },
     "execution_count": 41,
     "metadata": {},
     "output_type": "execute_result"
    }
   ],
   "source": [
    "np.std(x)"
   ]
  },
  {
   "cell_type": "code",
   "execution_count": 42,
   "id": "88398b9d",
   "metadata": {},
   "outputs": [
    {
     "data": {
      "text/plain": [
       "737.2065972222222"
      ]
     },
     "execution_count": 42,
     "metadata": {},
     "output_type": "execute_result"
    }
   ],
   "source": [
    "np.var(x)"
   ]
  },
  {
   "cell_type": "code",
   "execution_count": 43,
   "id": "efa60b96",
   "metadata": {},
   "outputs": [
    {
     "data": {
      "text/plain": [
       "39.5"
      ]
     },
     "execution_count": 43,
     "metadata": {},
     "output_type": "execute_result"
    }
   ],
   "source": [
    "np.median(x)"
   ]
  },
  {
   "cell_type": "code",
   "execution_count": 44,
   "id": "a0430190",
   "metadata": {},
   "outputs": [],
   "source": [
    "x = x.reshape(6,4)"
   ]
  },
  {
   "cell_type": "code",
   "execution_count": 45,
   "id": "25195235",
   "metadata": {},
   "outputs": [
    {
     "data": {
      "text/plain": [
       "array([[33, 37, 42, 25],\n",
       "       [ 5, 76, 16, 26],\n",
       "       [30, 42, 66, 61],\n",
       "       [35, 89, 27, 32],\n",
       "       [ 2, 22, 78, 54],\n",
       "       [61, 93, 83, 94]])"
      ]
     },
     "execution_count": 45,
     "metadata": {},
     "output_type": "execute_result"
    }
   ],
   "source": [
    "x"
   ]
  },
  {
   "cell_type": "code",
   "execution_count": 46,
   "id": "cc7991fc",
   "metadata": {},
   "outputs": [
    {
     "data": {
      "text/plain": [
       "1129"
      ]
     },
     "execution_count": 46,
     "metadata": {},
     "output_type": "execute_result"
    }
   ],
   "source": [
    "np.sum(x)"
   ]
  },
  {
   "cell_type": "code",
   "execution_count": 48,
   "id": "c1ee44bf",
   "metadata": {},
   "outputs": [
    {
     "data": {
      "text/plain": [
       "array([166, 359, 312, 292])"
      ]
     },
     "execution_count": 48,
     "metadata": {},
     "output_type": "execute_result"
    }
   ],
   "source": [
    "# if axis = 0, then perform operation on columns\n",
    "# if axis = 1, then perform operation on rows\n",
    "np.sum(x,axis=0)"
   ]
  },
  {
   "cell_type": "code",
   "execution_count": 49,
   "id": "f9474275",
   "metadata": {},
   "outputs": [
    {
     "data": {
      "text/plain": [
       "array([137, 123, 199, 183, 156, 331])"
      ]
     },
     "execution_count": 49,
     "metadata": {},
     "output_type": "execute_result"
    }
   ],
   "source": [
    "np.sum(x,axis=1)"
   ]
  },
  {
   "cell_type": "code",
   "execution_count": 50,
   "id": "dbda8339",
   "metadata": {},
   "outputs": [
    {
     "data": {
      "text/plain": [
       "array([27.66666667, 59.83333333, 52.        , 48.66666667])"
      ]
     },
     "execution_count": 50,
     "metadata": {},
     "output_type": "execute_result"
    }
   ],
   "source": [
    "np.mean(x, axis=0)"
   ]
  },
  {
   "cell_type": "code",
   "execution_count": 51,
   "id": "daf8f382",
   "metadata": {},
   "outputs": [
    {
     "data": {
      "text/plain": [
       "array([[33, 37, 42, 25],\n",
       "       [ 5, 76, 16, 26],\n",
       "       [30, 42, 66, 61],\n",
       "       [35, 89, 27, 32],\n",
       "       [ 2, 22, 78, 54],\n",
       "       [61, 93, 83, 94]])"
      ]
     },
     "execution_count": 51,
     "metadata": {},
     "output_type": "execute_result"
    }
   ],
   "source": [
    "x"
   ]
  },
  {
   "cell_type": "code",
   "execution_count": 52,
   "id": "f7005e40",
   "metadata": {},
   "outputs": [],
   "source": [
    "row = np.array([12,22,11,4])"
   ]
  },
  {
   "cell_type": "code",
   "execution_count": 53,
   "id": "2f24b80b",
   "metadata": {},
   "outputs": [
    {
     "data": {
      "text/plain": [
       "array([[33, 37, 42, 25],\n",
       "       [ 5, 76, 16, 26],\n",
       "       [30, 42, 66, 61],\n",
       "       [35, 89, 27, 32],\n",
       "       [ 2, 22, 78, 54],\n",
       "       [61, 93, 83, 94],\n",
       "       [12, 22, 11,  4]])"
      ]
     },
     "execution_count": 53,
     "metadata": {},
     "output_type": "execute_result"
    }
   ],
   "source": [
    "np.vstack((x,row))"
   ]
  },
  {
   "cell_type": "code",
   "execution_count": 55,
   "id": "ae81cfde",
   "metadata": {},
   "outputs": [],
   "source": [
    "col = np.array([[12],[11],[12],[4],[5],[5]])"
   ]
  },
  {
   "cell_type": "code",
   "execution_count": 56,
   "id": "f3dbd4ec",
   "metadata": {},
   "outputs": [
    {
     "data": {
      "text/plain": [
       "array([[33, 37, 42, 25, 12],\n",
       "       [ 5, 76, 16, 26, 11],\n",
       "       [30, 42, 66, 61, 12],\n",
       "       [35, 89, 27, 32,  4],\n",
       "       [ 2, 22, 78, 54,  5],\n",
       "       [61, 93, 83, 94,  5]])"
      ]
     },
     "execution_count": 56,
     "metadata": {},
     "output_type": "execute_result"
    }
   ],
   "source": [
    "np.hstack((x, col))"
   ]
  },
  {
   "cell_type": "code",
   "execution_count": 57,
   "id": "82d66a29",
   "metadata": {},
   "outputs": [],
   "source": [
    "y = np.hstack((x, col))"
   ]
  },
  {
   "cell_type": "code",
   "execution_count": 58,
   "id": "aed169c3",
   "metadata": {},
   "outputs": [
    {
     "data": {
      "text/plain": [
       "array([[33, 37, 42, 25],\n",
       "       [ 5, 76, 16, 26],\n",
       "       [30, 42, 66, 61],\n",
       "       [35, 89, 27, 32],\n",
       "       [ 2, 22, 78, 54],\n",
       "       [61, 93, 83, 94]])"
      ]
     },
     "execution_count": 58,
     "metadata": {},
     "output_type": "execute_result"
    }
   ],
   "source": [
    "x"
   ]
  },
  {
   "cell_type": "code",
   "execution_count": 59,
   "id": "3eac9832",
   "metadata": {},
   "outputs": [
    {
     "data": {
      "text/plain": [
       "array([[33, 37, 42, 25, 12],\n",
       "       [ 5, 76, 16, 26, 11],\n",
       "       [30, 42, 66, 61, 12],\n",
       "       [35, 89, 27, 32,  4],\n",
       "       [ 2, 22, 78, 54,  5],\n",
       "       [61, 93, 83, 94,  5]])"
      ]
     },
     "execution_count": 59,
     "metadata": {},
     "output_type": "execute_result"
    }
   ],
   "source": [
    "y"
   ]
  },
  {
   "cell_type": "code",
   "execution_count": 61,
   "id": "970f1a03",
   "metadata": {},
   "outputs": [
    {
     "data": {
      "text/plain": [
       "array([[38, 42, 47, 30],\n",
       "       [10, 81, 21, 31],\n",
       "       [35, 47, 71, 66],\n",
       "       [40, 94, 32, 37],\n",
       "       [ 7, 27, 83, 59],\n",
       "       [66, 98, 88, 99]])"
      ]
     },
     "execution_count": 61,
     "metadata": {},
     "output_type": "execute_result"
    }
   ],
   "source": [
    "x + 5"
   ]
  },
  {
   "cell_type": "code",
   "execution_count": 63,
   "id": "03cf3b19",
   "metadata": {},
   "outputs": [],
   "source": [
    "y = x * 4"
   ]
  },
  {
   "cell_type": "code",
   "execution_count": 64,
   "id": "43523c80",
   "metadata": {},
   "outputs": [
    {
     "data": {
      "text/plain": [
       "array([[33, 37, 42, 25],\n",
       "       [ 5, 76, 16, 26],\n",
       "       [30, 42, 66, 61],\n",
       "       [35, 89, 27, 32],\n",
       "       [ 2, 22, 78, 54],\n",
       "       [61, 93, 83, 94]])"
      ]
     },
     "execution_count": 64,
     "metadata": {},
     "output_type": "execute_result"
    }
   ],
   "source": [
    "x"
   ]
  },
  {
   "cell_type": "code",
   "execution_count": 65,
   "id": "ee888a53",
   "metadata": {},
   "outputs": [
    {
     "data": {
      "text/plain": [
       "array([[132, 148, 168, 100],\n",
       "       [ 20, 304,  64, 104],\n",
       "       [120, 168, 264, 244],\n",
       "       [140, 356, 108, 128],\n",
       "       [  8,  88, 312, 216],\n",
       "       [244, 372, 332, 376]])"
      ]
     },
     "execution_count": 65,
     "metadata": {},
     "output_type": "execute_result"
    }
   ],
   "source": [
    "y"
   ]
  },
  {
   "cell_type": "code",
   "execution_count": 66,
   "id": "da17a968",
   "metadata": {},
   "outputs": [
    {
     "data": {
      "text/plain": [
       "array([[165, 185, 210, 125],\n",
       "       [ 25, 380,  80, 130],\n",
       "       [150, 210, 330, 305],\n",
       "       [175, 445, 135, 160],\n",
       "       [ 10, 110, 390, 270],\n",
       "       [305, 465, 415, 470]])"
      ]
     },
     "execution_count": 66,
     "metadata": {},
     "output_type": "execute_result"
    }
   ],
   "source": [
    "x + y"
   ]
  },
  {
   "cell_type": "code",
   "execution_count": 69,
   "id": "df6292dd",
   "metadata": {},
   "outputs": [],
   "source": [
    "# np.concatenate([x,y])"
   ]
  },
  {
   "cell_type": "code",
   "execution_count": 70,
   "id": "7c605c87",
   "metadata": {},
   "outputs": [
    {
     "data": {
      "text/plain": [
       "array([[ 33,  37,  42,  25],\n",
       "       [  5,  76,  16,  26],\n",
       "       [ 30,  42,  66,  61],\n",
       "       [ 35,  89,  27,  32],\n",
       "       [  2,  22,  78,  54],\n",
       "       [ 61,  93,  83,  94],\n",
       "       [132, 148, 168, 100],\n",
       "       [ 20, 304,  64, 104],\n",
       "       [120, 168, 264, 244],\n",
       "       [140, 356, 108, 128],\n",
       "       [  8,  88, 312, 216],\n",
       "       [244, 372, 332, 376]])"
      ]
     },
     "execution_count": 70,
     "metadata": {},
     "output_type": "execute_result"
    }
   ],
   "source": [
    "np.concatenate([x,y], axis=0)"
   ]
  },
  {
   "cell_type": "code",
   "execution_count": 71,
   "id": "55fc0598",
   "metadata": {},
   "outputs": [
    {
     "data": {
      "text/plain": [
       "array([[ 33,  37,  42,  25, 132, 148, 168, 100],\n",
       "       [  5,  76,  16,  26,  20, 304,  64, 104],\n",
       "       [ 30,  42,  66,  61, 120, 168, 264, 244],\n",
       "       [ 35,  89,  27,  32, 140, 356, 108, 128],\n",
       "       [  2,  22,  78,  54,   8,  88, 312, 216],\n",
       "       [ 61,  93,  83,  94, 244, 372, 332, 376]])"
      ]
     },
     "execution_count": 71,
     "metadata": {},
     "output_type": "execute_result"
    }
   ],
   "source": [
    "np.concatenate([x,y], axis=1)"
   ]
  },
  {
   "cell_type": "code",
   "execution_count": 72,
   "id": "fbe07fc1",
   "metadata": {},
   "outputs": [
    {
     "data": {
      "text/plain": [
       "array([[33, 37, 42, 25, 12],\n",
       "       [ 5, 76, 16, 26, 11],\n",
       "       [30, 42, 66, 61, 12],\n",
       "       [35, 89, 27, 32,  4],\n",
       "       [ 2, 22, 78, 54,  5],\n",
       "       [61, 93, 83, 94,  5]])"
      ]
     },
     "execution_count": 72,
     "metadata": {},
     "output_type": "execute_result"
    }
   ],
   "source": [
    "np.c_[x,col]"
   ]
  },
  {
   "cell_type": "code",
   "execution_count": 78,
   "id": "2b6b1c48",
   "metadata": {},
   "outputs": [
    {
     "data": {
      "text/plain": [
       "array([[33, 37, 42, 25],\n",
       "       [ 5, 76, 16, 26],\n",
       "       [30, 42, 66, 61],\n",
       "       [35, 89, 27, 32],\n",
       "       [ 2, 22, 78, 54],\n",
       "       [61, 93, 83, 94],\n",
       "       [12, 22, 12,  4]])"
      ]
     },
     "execution_count": 78,
     "metadata": {},
     "output_type": "execute_result"
    }
   ],
   "source": [
    "np.r_[x,[[12,22,12,4]]]"
   ]
  },
  {
   "cell_type": "code",
   "execution_count": 79,
   "id": "6a739594",
   "metadata": {},
   "outputs": [
    {
     "data": {
      "text/plain": [
       "array([[33, 37, 42, 25],\n",
       "       [ 5, 76, 16, 26],\n",
       "       [30, 42, 66, 61],\n",
       "       [35, 89, 27, 32],\n",
       "       [ 2, 22, 78, 54],\n",
       "       [61, 93, 83, 94]])"
      ]
     },
     "execution_count": 79,
     "metadata": {},
     "output_type": "execute_result"
    }
   ],
   "source": [
    "x"
   ]
  },
  {
   "cell_type": "code",
   "execution_count": 80,
   "id": "892f75f3",
   "metadata": {},
   "outputs": [
    {
     "data": {
      "text/plain": [
       "array([[ True,  True,  True, False],\n",
       "       [False,  True, False,  True],\n",
       "       [ True,  True,  True,  True],\n",
       "       [ True,  True,  True,  True],\n",
       "       [False, False,  True,  True],\n",
       "       [ True,  True,  True,  True]])"
      ]
     },
     "execution_count": 80,
     "metadata": {},
     "output_type": "execute_result"
    }
   ],
   "source": [
    "x > 25"
   ]
  },
  {
   "cell_type": "code",
   "execution_count": 81,
   "id": "d919e2aa",
   "metadata": {},
   "outputs": [
    {
     "data": {
      "text/plain": [
       "array([33, 37, 42, 76, 26, 30, 42, 66, 61, 35, 89, 27, 32, 78, 54, 61, 93,\n",
       "       83, 94])"
      ]
     },
     "execution_count": 81,
     "metadata": {},
     "output_type": "execute_result"
    }
   ],
   "source": [
    "x[x > 25]"
   ]
  },
  {
   "cell_type": "code",
   "execution_count": 83,
   "id": "ba43fbe6",
   "metadata": {},
   "outputs": [
    {
     "data": {
      "text/plain": [
       "array([[False, False, False, False],\n",
       "       [ True,  True,  True, False],\n",
       "       [False, False,  True,  True],\n",
       "       [False,  True, False, False],\n",
       "       [ True,  True,  True,  True],\n",
       "       [ True,  True,  True,  True]])"
      ]
     },
     "execution_count": 83,
     "metadata": {},
     "output_type": "execute_result"
    }
   ],
   "source": [
    "(x > 50) | (x < 25)"
   ]
  },
  {
   "cell_type": "code",
   "execution_count": 84,
   "id": "3717e368",
   "metadata": {},
   "outputs": [
    {
     "data": {
      "text/plain": [
       "array([ 5, 76, 16, 66, 61, 89,  2, 22, 78, 54, 61, 93, 83, 94])"
      ]
     },
     "execution_count": 84,
     "metadata": {},
     "output_type": "execute_result"
    }
   ],
   "source": [
    "x[(x > 50) | (x < 25)]"
   ]
  },
  {
   "cell_type": "code",
   "execution_count": 86,
   "id": "de429cf6",
   "metadata": {},
   "outputs": [
    {
     "data": {
      "text/plain": [
       "array([[False, False,  True, False],\n",
       "       [False, False, False, False],\n",
       "       [ True,  True,  True, False],\n",
       "       [False, False, False, False],\n",
       "       [False, False,  True,  True],\n",
       "       [False, False, False, False]])"
      ]
     },
     "execution_count": 86,
     "metadata": {},
     "output_type": "execute_result"
    }
   ],
   "source": [
    "(x % 2 == 0) & (x % 3 == 0)"
   ]
  },
  {
   "cell_type": "code",
   "execution_count": 85,
   "id": "8ea2223b",
   "metadata": {},
   "outputs": [
    {
     "data": {
      "text/plain": [
       "array([42, 30, 42, 66, 78, 54])"
      ]
     },
     "execution_count": 85,
     "metadata": {},
     "output_type": "execute_result"
    }
   ],
   "source": [
    "x[(x % 2 == 0) & (x % 3 == 0)]"
   ]
  },
  {
   "cell_type": "code",
   "execution_count": 88,
   "id": "cbf24325",
   "metadata": {},
   "outputs": [
    {
     "data": {
      "text/plain": [
       "array([[33, 37, 42, 25],\n",
       "       [ 5, 76, 16, 26],\n",
       "       [30, 42, 66, 61],\n",
       "       [35, 89, 27, 32],\n",
       "       [ 2, 22, 78, 54],\n",
       "       [61, 93, 83, 94]])"
      ]
     },
     "execution_count": 88,
     "metadata": {},
     "output_type": "execute_result"
    }
   ],
   "source": [
    "x"
   ]
  },
  {
   "cell_type": "code",
   "execution_count": 87,
   "id": "8a65c8b2",
   "metadata": {},
   "outputs": [
    {
     "data": {
      "text/plain": [
       "(array([0, 1, 1, 1, 2, 2, 2, 3, 4, 4, 4, 4, 5], dtype=int64),\n",
       " array([2, 1, 2, 3, 0, 1, 2, 3, 0, 1, 2, 3, 3], dtype=int64))"
      ]
     },
     "execution_count": 87,
     "metadata": {},
     "output_type": "execute_result"
    }
   ],
   "source": [
    "np.where(x % 2 == 0)"
   ]
  },
  {
   "cell_type": "code",
   "execution_count": 91,
   "id": "9f27d8bc",
   "metadata": {},
   "outputs": [
    {
     "data": {
      "text/plain": [
       "array([[ 10,  10, 100,  10],\n",
       "       [ 10, 100, 100, 100],\n",
       "       [100, 100, 100,  10],\n",
       "       [ 10,  10,  10, 100],\n",
       "       [100, 100, 100, 100],\n",
       "       [ 10,  10,  10, 100]])"
      ]
     },
     "execution_count": 91,
     "metadata": {},
     "output_type": "execute_result"
    }
   ],
   "source": [
    "np.where(x % 2 == 0, 100,10)"
   ]
  },
  {
   "cell_type": "code",
   "execution_count": null,
   "id": "744a424d",
   "metadata": {},
   "outputs": [],
   "source": []
  }
 ],
 "metadata": {
  "kernelspec": {
   "display_name": "Python 3",
   "language": "python",
   "name": "python3"
  },
  "language_info": {
   "codemirror_mode": {
    "name": "ipython",
    "version": 3
   },
   "file_extension": ".py",
   "mimetype": "text/x-python",
   "name": "python",
   "nbconvert_exporter": "python",
   "pygments_lexer": "ipython3",
   "version": "3.8.8"
  }
 },
 "nbformat": 4,
 "nbformat_minor": 5
}
